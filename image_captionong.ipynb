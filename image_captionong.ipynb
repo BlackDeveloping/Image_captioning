{
  "nbformat": 4,
  "nbformat_minor": 0,
  "metadata": {
    "accelerator": "GPU",
    "colab": {
      "name": "image_captionong.ipynb",
      "provenance": [],
      "collapsed_sections": [
        "leHdzi4ntmOz",
        "xBzfq5GnjOCG"
      ],
      "toc_visible": true,
      "machine_shape": "hm"
    },
    "kernelspec": {
      "display_name": "Python 3",
      "language": "python",
      "name": "python3"
    },
    "language_info": {
      "codemirror_mode": {
        "name": "ipython",
        "version": 3
      },
      "file_extension": ".py",
      "mimetype": "text/x-python",
      "name": "python",
      "nbconvert_exporter": "python",
      "pygments_lexer": "ipython3",
      "version": "3.6.4"
    },
    "widgets": {
      "application/vnd.jupyter.widget-state+json": {
        "711cdc2c36484a208929252053324365": {
          "model_module": "@jupyter-widgets/controls",
          "model_name": "VBoxModel",
          "state": {
            "_dom_classes": [],
            "_model_module": "@jupyter-widgets/controls",
            "_model_module_version": "1.5.0",
            "_model_name": "VBoxModel",
            "_view_count": null,
            "_view_module": "@jupyter-widgets/controls",
            "_view_module_version": "1.5.0",
            "_view_name": "VBoxView",
            "box_style": "",
            "children": [
              "IPY_MODEL_5eb5ec7c80eb4aaa8ec9208f1e450c67",
              "IPY_MODEL_f236bc13c25b42a488de37fbdc09d445"
            ],
            "layout": "IPY_MODEL_397d7d32736d4698a966b7dc6dcdb691"
          }
        },
        "5eb5ec7c80eb4aaa8ec9208f1e450c67": {
          "model_module": "@jupyter-widgets/controls",
          "model_name": "LabelModel",
          "state": {
            "_dom_classes": [],
            "_model_module": "@jupyter-widgets/controls",
            "_model_module_version": "1.5.0",
            "_model_name": "LabelModel",
            "_view_count": null,
            "_view_module": "@jupyter-widgets/controls",
            "_view_module_version": "1.5.0",
            "_view_name": "LabelView",
            "description": "",
            "description_tooltip": null,
            "layout": "IPY_MODEL_d8e0206631a84529b7b0a0d2cb1d79a3",
            "placeholder": "​",
            "style": "IPY_MODEL_fdb25405549a452abfe56ef1ffd34293",
            "value": " 283.71MB of 283.71MB uploaded (0.00MB deduped)\r"
          }
        },
        "f236bc13c25b42a488de37fbdc09d445": {
          "model_module": "@jupyter-widgets/controls",
          "model_name": "FloatProgressModel",
          "state": {
            "_dom_classes": [],
            "_model_module": "@jupyter-widgets/controls",
            "_model_module_version": "1.5.0",
            "_model_name": "FloatProgressModel",
            "_view_count": null,
            "_view_module": "@jupyter-widgets/controls",
            "_view_module_version": "1.5.0",
            "_view_name": "ProgressView",
            "bar_style": "",
            "description": "",
            "description_tooltip": null,
            "layout": "IPY_MODEL_c35caa72931049b6b33ddbbc6770af83",
            "max": 1,
            "min": 0,
            "orientation": "horizontal",
            "style": "IPY_MODEL_31b018e0536344e7905d318504dfa544",
            "value": 1
          }
        },
        "397d7d32736d4698a966b7dc6dcdb691": {
          "model_module": "@jupyter-widgets/base",
          "model_name": "LayoutModel",
          "state": {
            "_model_module": "@jupyter-widgets/base",
            "_model_module_version": "1.2.0",
            "_model_name": "LayoutModel",
            "_view_count": null,
            "_view_module": "@jupyter-widgets/base",
            "_view_module_version": "1.2.0",
            "_view_name": "LayoutView",
            "align_content": null,
            "align_items": null,
            "align_self": null,
            "border": null,
            "bottom": null,
            "display": null,
            "flex": null,
            "flex_flow": null,
            "grid_area": null,
            "grid_auto_columns": null,
            "grid_auto_flow": null,
            "grid_auto_rows": null,
            "grid_column": null,
            "grid_gap": null,
            "grid_row": null,
            "grid_template_areas": null,
            "grid_template_columns": null,
            "grid_template_rows": null,
            "height": null,
            "justify_content": null,
            "justify_items": null,
            "left": null,
            "margin": null,
            "max_height": null,
            "max_width": null,
            "min_height": null,
            "min_width": null,
            "object_fit": null,
            "object_position": null,
            "order": null,
            "overflow": null,
            "overflow_x": null,
            "overflow_y": null,
            "padding": null,
            "right": null,
            "top": null,
            "visibility": null,
            "width": null
          }
        },
        "d8e0206631a84529b7b0a0d2cb1d79a3": {
          "model_module": "@jupyter-widgets/base",
          "model_name": "LayoutModel",
          "state": {
            "_model_module": "@jupyter-widgets/base",
            "_model_module_version": "1.2.0",
            "_model_name": "LayoutModel",
            "_view_count": null,
            "_view_module": "@jupyter-widgets/base",
            "_view_module_version": "1.2.0",
            "_view_name": "LayoutView",
            "align_content": null,
            "align_items": null,
            "align_self": null,
            "border": null,
            "bottom": null,
            "display": null,
            "flex": null,
            "flex_flow": null,
            "grid_area": null,
            "grid_auto_columns": null,
            "grid_auto_flow": null,
            "grid_auto_rows": null,
            "grid_column": null,
            "grid_gap": null,
            "grid_row": null,
            "grid_template_areas": null,
            "grid_template_columns": null,
            "grid_template_rows": null,
            "height": null,
            "justify_content": null,
            "justify_items": null,
            "left": null,
            "margin": null,
            "max_height": null,
            "max_width": null,
            "min_height": null,
            "min_width": null,
            "object_fit": null,
            "object_position": null,
            "order": null,
            "overflow": null,
            "overflow_x": null,
            "overflow_y": null,
            "padding": null,
            "right": null,
            "top": null,
            "visibility": null,
            "width": null
          }
        },
        "fdb25405549a452abfe56ef1ffd34293": {
          "model_module": "@jupyter-widgets/controls",
          "model_name": "DescriptionStyleModel",
          "state": {
            "_model_module": "@jupyter-widgets/controls",
            "_model_module_version": "1.5.0",
            "_model_name": "DescriptionStyleModel",
            "_view_count": null,
            "_view_module": "@jupyter-widgets/base",
            "_view_module_version": "1.2.0",
            "_view_name": "StyleView",
            "description_width": ""
          }
        },
        "c35caa72931049b6b33ddbbc6770af83": {
          "model_module": "@jupyter-widgets/base",
          "model_name": "LayoutModel",
          "state": {
            "_model_module": "@jupyter-widgets/base",
            "_model_module_version": "1.2.0",
            "_model_name": "LayoutModel",
            "_view_count": null,
            "_view_module": "@jupyter-widgets/base",
            "_view_module_version": "1.2.0",
            "_view_name": "LayoutView",
            "align_content": null,
            "align_items": null,
            "align_self": null,
            "border": null,
            "bottom": null,
            "display": null,
            "flex": null,
            "flex_flow": null,
            "grid_area": null,
            "grid_auto_columns": null,
            "grid_auto_flow": null,
            "grid_auto_rows": null,
            "grid_column": null,
            "grid_gap": null,
            "grid_row": null,
            "grid_template_areas": null,
            "grid_template_columns": null,
            "grid_template_rows": null,
            "height": null,
            "justify_content": null,
            "justify_items": null,
            "left": null,
            "margin": null,
            "max_height": null,
            "max_width": null,
            "min_height": null,
            "min_width": null,
            "object_fit": null,
            "object_position": null,
            "order": null,
            "overflow": null,
            "overflow_x": null,
            "overflow_y": null,
            "padding": null,
            "right": null,
            "top": null,
            "visibility": null,
            "width": null
          }
        },
        "31b018e0536344e7905d318504dfa544": {
          "model_module": "@jupyter-widgets/controls",
          "model_name": "ProgressStyleModel",
          "state": {
            "_model_module": "@jupyter-widgets/controls",
            "_model_module_version": "1.5.0",
            "_model_name": "ProgressStyleModel",
            "_view_count": null,
            "_view_module": "@jupyter-widgets/base",
            "_view_module_version": "1.2.0",
            "_view_name": "StyleView",
            "bar_color": null,
            "description_width": ""
          }
        },
        "094843310098499daaa9e786cb5445fa": {
          "model_module": "@jupyter-widgets/controls",
          "model_name": "VBoxModel",
          "state": {
            "_dom_classes": [],
            "_model_module": "@jupyter-widgets/controls",
            "_model_module_version": "1.5.0",
            "_model_name": "VBoxModel",
            "_view_count": null,
            "_view_module": "@jupyter-widgets/controls",
            "_view_module_version": "1.5.0",
            "_view_name": "VBoxView",
            "box_style": "",
            "children": [
              "IPY_MODEL_17bf4757f39c422e9f27c16c10b3debd",
              "IPY_MODEL_635b51b9fdeb4e629794eef9ee406ab9"
            ],
            "layout": "IPY_MODEL_92438afbd2f14409955bd48ebb3e8857"
          }
        },
        "17bf4757f39c422e9f27c16c10b3debd": {
          "model_module": "@jupyter-widgets/controls",
          "model_name": "LabelModel",
          "state": {
            "_dom_classes": [],
            "_model_module": "@jupyter-widgets/controls",
            "_model_module_version": "1.5.0",
            "_model_name": "LabelModel",
            "_view_count": null,
            "_view_module": "@jupyter-widgets/controls",
            "_view_module_version": "1.5.0",
            "_view_name": "LabelView",
            "description": "",
            "description_tooltip": null,
            "layout": "IPY_MODEL_efd186d028d24c7b83986f904a7f2297",
            "placeholder": "​",
            "style": "IPY_MODEL_91fccfed67944b5a93213c589011a3d5",
            "value": " 348.97MB of 348.97MB uploaded (0.00MB deduped)\r"
          }
        },
        "635b51b9fdeb4e629794eef9ee406ab9": {
          "model_module": "@jupyter-widgets/controls",
          "model_name": "FloatProgressModel",
          "state": {
            "_dom_classes": [],
            "_model_module": "@jupyter-widgets/controls",
            "_model_module_version": "1.5.0",
            "_model_name": "FloatProgressModel",
            "_view_count": null,
            "_view_module": "@jupyter-widgets/controls",
            "_view_module_version": "1.5.0",
            "_view_name": "ProgressView",
            "bar_style": "",
            "description": "",
            "description_tooltip": null,
            "layout": "IPY_MODEL_e969f4c546ac48f38d3c17e23b3e52c5",
            "max": 1,
            "min": 0,
            "orientation": "horizontal",
            "style": "IPY_MODEL_2fa5cb05b66b455a999a4b1fa6d41b49",
            "value": 1
          }
        },
        "92438afbd2f14409955bd48ebb3e8857": {
          "model_module": "@jupyter-widgets/base",
          "model_name": "LayoutModel",
          "state": {
            "_model_module": "@jupyter-widgets/base",
            "_model_module_version": "1.2.0",
            "_model_name": "LayoutModel",
            "_view_count": null,
            "_view_module": "@jupyter-widgets/base",
            "_view_module_version": "1.2.0",
            "_view_name": "LayoutView",
            "align_content": null,
            "align_items": null,
            "align_self": null,
            "border": null,
            "bottom": null,
            "display": null,
            "flex": null,
            "flex_flow": null,
            "grid_area": null,
            "grid_auto_columns": null,
            "grid_auto_flow": null,
            "grid_auto_rows": null,
            "grid_column": null,
            "grid_gap": null,
            "grid_row": null,
            "grid_template_areas": null,
            "grid_template_columns": null,
            "grid_template_rows": null,
            "height": null,
            "justify_content": null,
            "justify_items": null,
            "left": null,
            "margin": null,
            "max_height": null,
            "max_width": null,
            "min_height": null,
            "min_width": null,
            "object_fit": null,
            "object_position": null,
            "order": null,
            "overflow": null,
            "overflow_x": null,
            "overflow_y": null,
            "padding": null,
            "right": null,
            "top": null,
            "visibility": null,
            "width": null
          }
        },
        "efd186d028d24c7b83986f904a7f2297": {
          "model_module": "@jupyter-widgets/base",
          "model_name": "LayoutModel",
          "state": {
            "_model_module": "@jupyter-widgets/base",
            "_model_module_version": "1.2.0",
            "_model_name": "LayoutModel",
            "_view_count": null,
            "_view_module": "@jupyter-widgets/base",
            "_view_module_version": "1.2.0",
            "_view_name": "LayoutView",
            "align_content": null,
            "align_items": null,
            "align_self": null,
            "border": null,
            "bottom": null,
            "display": null,
            "flex": null,
            "flex_flow": null,
            "grid_area": null,
            "grid_auto_columns": null,
            "grid_auto_flow": null,
            "grid_auto_rows": null,
            "grid_column": null,
            "grid_gap": null,
            "grid_row": null,
            "grid_template_areas": null,
            "grid_template_columns": null,
            "grid_template_rows": null,
            "height": null,
            "justify_content": null,
            "justify_items": null,
            "left": null,
            "margin": null,
            "max_height": null,
            "max_width": null,
            "min_height": null,
            "min_width": null,
            "object_fit": null,
            "object_position": null,
            "order": null,
            "overflow": null,
            "overflow_x": null,
            "overflow_y": null,
            "padding": null,
            "right": null,
            "top": null,
            "visibility": null,
            "width": null
          }
        },
        "91fccfed67944b5a93213c589011a3d5": {
          "model_module": "@jupyter-widgets/controls",
          "model_name": "DescriptionStyleModel",
          "state": {
            "_model_module": "@jupyter-widgets/controls",
            "_model_module_version": "1.5.0",
            "_model_name": "DescriptionStyleModel",
            "_view_count": null,
            "_view_module": "@jupyter-widgets/base",
            "_view_module_version": "1.2.0",
            "_view_name": "StyleView",
            "description_width": ""
          }
        },
        "e969f4c546ac48f38d3c17e23b3e52c5": {
          "model_module": "@jupyter-widgets/base",
          "model_name": "LayoutModel",
          "state": {
            "_model_module": "@jupyter-widgets/base",
            "_model_module_version": "1.2.0",
            "_model_name": "LayoutModel",
            "_view_count": null,
            "_view_module": "@jupyter-widgets/base",
            "_view_module_version": "1.2.0",
            "_view_name": "LayoutView",
            "align_content": null,
            "align_items": null,
            "align_self": null,
            "border": null,
            "bottom": null,
            "display": null,
            "flex": null,
            "flex_flow": null,
            "grid_area": null,
            "grid_auto_columns": null,
            "grid_auto_flow": null,
            "grid_auto_rows": null,
            "grid_column": null,
            "grid_gap": null,
            "grid_row": null,
            "grid_template_areas": null,
            "grid_template_columns": null,
            "grid_template_rows": null,
            "height": null,
            "justify_content": null,
            "justify_items": null,
            "left": null,
            "margin": null,
            "max_height": null,
            "max_width": null,
            "min_height": null,
            "min_width": null,
            "object_fit": null,
            "object_position": null,
            "order": null,
            "overflow": null,
            "overflow_x": null,
            "overflow_y": null,
            "padding": null,
            "right": null,
            "top": null,
            "visibility": null,
            "width": null
          }
        },
        "2fa5cb05b66b455a999a4b1fa6d41b49": {
          "model_module": "@jupyter-widgets/controls",
          "model_name": "ProgressStyleModel",
          "state": {
            "_model_module": "@jupyter-widgets/controls",
            "_model_module_version": "1.5.0",
            "_model_name": "ProgressStyleModel",
            "_view_count": null,
            "_view_module": "@jupyter-widgets/base",
            "_view_module_version": "1.2.0",
            "_view_name": "StyleView",
            "bar_color": null,
            "description_width": ""
          }
        },
        "c50e8bdfc12247a1a9c908f544cd6487": {
          "model_module": "@jupyter-widgets/controls",
          "model_name": "VBoxModel",
          "state": {
            "_dom_classes": [],
            "_model_module": "@jupyter-widgets/controls",
            "_model_module_version": "1.5.0",
            "_model_name": "VBoxModel",
            "_view_count": null,
            "_view_module": "@jupyter-widgets/controls",
            "_view_module_version": "1.5.0",
            "_view_name": "VBoxView",
            "box_style": "",
            "children": [
              "IPY_MODEL_32b7d75565f74a2c9a363b05948d9eaa",
              "IPY_MODEL_f2ec1bffc14a48e8b0ac12100535617c"
            ],
            "layout": "IPY_MODEL_c984112ddaf14fbca461690fd53d8025"
          }
        },
        "32b7d75565f74a2c9a363b05948d9eaa": {
          "model_module": "@jupyter-widgets/controls",
          "model_name": "LabelModel",
          "state": {
            "_dom_classes": [],
            "_model_module": "@jupyter-widgets/controls",
            "_model_module_version": "1.5.0",
            "_model_name": "LabelModel",
            "_view_count": null,
            "_view_module": "@jupyter-widgets/controls",
            "_view_module_version": "1.5.0",
            "_view_name": "LabelView",
            "description": "",
            "description_tooltip": null,
            "layout": "IPY_MODEL_fca03af2a9914ac3bec2ebd3a467caed",
            "placeholder": "​",
            "style": "IPY_MODEL_054e5120b06a492ba7890f5262aa2af6",
            "value": " 288.87MB of 288.87MB uploaded (0.00MB deduped)\r"
          }
        },
        "f2ec1bffc14a48e8b0ac12100535617c": {
          "model_module": "@jupyter-widgets/controls",
          "model_name": "FloatProgressModel",
          "state": {
            "_dom_classes": [],
            "_model_module": "@jupyter-widgets/controls",
            "_model_module_version": "1.5.0",
            "_model_name": "FloatProgressModel",
            "_view_count": null,
            "_view_module": "@jupyter-widgets/controls",
            "_view_module_version": "1.5.0",
            "_view_name": "ProgressView",
            "bar_style": "",
            "description": "",
            "description_tooltip": null,
            "layout": "IPY_MODEL_c52b9032ff2c4f7aa95dfe7b7bb1225b",
            "max": 1,
            "min": 0,
            "orientation": "horizontal",
            "style": "IPY_MODEL_1998e2c72d424862b7df2f311747a3e5",
            "value": 1
          }
        },
        "c984112ddaf14fbca461690fd53d8025": {
          "model_module": "@jupyter-widgets/base",
          "model_name": "LayoutModel",
          "state": {
            "_model_module": "@jupyter-widgets/base",
            "_model_module_version": "1.2.0",
            "_model_name": "LayoutModel",
            "_view_count": null,
            "_view_module": "@jupyter-widgets/base",
            "_view_module_version": "1.2.0",
            "_view_name": "LayoutView",
            "align_content": null,
            "align_items": null,
            "align_self": null,
            "border": null,
            "bottom": null,
            "display": null,
            "flex": null,
            "flex_flow": null,
            "grid_area": null,
            "grid_auto_columns": null,
            "grid_auto_flow": null,
            "grid_auto_rows": null,
            "grid_column": null,
            "grid_gap": null,
            "grid_row": null,
            "grid_template_areas": null,
            "grid_template_columns": null,
            "grid_template_rows": null,
            "height": null,
            "justify_content": null,
            "justify_items": null,
            "left": null,
            "margin": null,
            "max_height": null,
            "max_width": null,
            "min_height": null,
            "min_width": null,
            "object_fit": null,
            "object_position": null,
            "order": null,
            "overflow": null,
            "overflow_x": null,
            "overflow_y": null,
            "padding": null,
            "right": null,
            "top": null,
            "visibility": null,
            "width": null
          }
        },
        "fca03af2a9914ac3bec2ebd3a467caed": {
          "model_module": "@jupyter-widgets/base",
          "model_name": "LayoutModel",
          "state": {
            "_model_module": "@jupyter-widgets/base",
            "_model_module_version": "1.2.0",
            "_model_name": "LayoutModel",
            "_view_count": null,
            "_view_module": "@jupyter-widgets/base",
            "_view_module_version": "1.2.0",
            "_view_name": "LayoutView",
            "align_content": null,
            "align_items": null,
            "align_self": null,
            "border": null,
            "bottom": null,
            "display": null,
            "flex": null,
            "flex_flow": null,
            "grid_area": null,
            "grid_auto_columns": null,
            "grid_auto_flow": null,
            "grid_auto_rows": null,
            "grid_column": null,
            "grid_gap": null,
            "grid_row": null,
            "grid_template_areas": null,
            "grid_template_columns": null,
            "grid_template_rows": null,
            "height": null,
            "justify_content": null,
            "justify_items": null,
            "left": null,
            "margin": null,
            "max_height": null,
            "max_width": null,
            "min_height": null,
            "min_width": null,
            "object_fit": null,
            "object_position": null,
            "order": null,
            "overflow": null,
            "overflow_x": null,
            "overflow_y": null,
            "padding": null,
            "right": null,
            "top": null,
            "visibility": null,
            "width": null
          }
        },
        "054e5120b06a492ba7890f5262aa2af6": {
          "model_module": "@jupyter-widgets/controls",
          "model_name": "DescriptionStyleModel",
          "state": {
            "_model_module": "@jupyter-widgets/controls",
            "_model_module_version": "1.5.0",
            "_model_name": "DescriptionStyleModel",
            "_view_count": null,
            "_view_module": "@jupyter-widgets/base",
            "_view_module_version": "1.2.0",
            "_view_name": "StyleView",
            "description_width": ""
          }
        },
        "c52b9032ff2c4f7aa95dfe7b7bb1225b": {
          "model_module": "@jupyter-widgets/base",
          "model_name": "LayoutModel",
          "state": {
            "_model_module": "@jupyter-widgets/base",
            "_model_module_version": "1.2.0",
            "_model_name": "LayoutModel",
            "_view_count": null,
            "_view_module": "@jupyter-widgets/base",
            "_view_module_version": "1.2.0",
            "_view_name": "LayoutView",
            "align_content": null,
            "align_items": null,
            "align_self": null,
            "border": null,
            "bottom": null,
            "display": null,
            "flex": null,
            "flex_flow": null,
            "grid_area": null,
            "grid_auto_columns": null,
            "grid_auto_flow": null,
            "grid_auto_rows": null,
            "grid_column": null,
            "grid_gap": null,
            "grid_row": null,
            "grid_template_areas": null,
            "grid_template_columns": null,
            "grid_template_rows": null,
            "height": null,
            "justify_content": null,
            "justify_items": null,
            "left": null,
            "margin": null,
            "max_height": null,
            "max_width": null,
            "min_height": null,
            "min_width": null,
            "object_fit": null,
            "object_position": null,
            "order": null,
            "overflow": null,
            "overflow_x": null,
            "overflow_y": null,
            "padding": null,
            "right": null,
            "top": null,
            "visibility": null,
            "width": null
          }
        },
        "1998e2c72d424862b7df2f311747a3e5": {
          "model_module": "@jupyter-widgets/controls",
          "model_name": "ProgressStyleModel",
          "state": {
            "_model_module": "@jupyter-widgets/controls",
            "_model_module_version": "1.5.0",
            "_model_name": "ProgressStyleModel",
            "_view_count": null,
            "_view_module": "@jupyter-widgets/base",
            "_view_module_version": "1.2.0",
            "_view_name": "StyleView",
            "bar_color": null,
            "description_width": ""
          }
        },
        "8cfb6e052dc8427c87d656e3ffef2b40": {
          "model_module": "@jupyter-widgets/controls",
          "model_name": "VBoxModel",
          "state": {
            "_dom_classes": [],
            "_model_module": "@jupyter-widgets/controls",
            "_model_module_version": "1.5.0",
            "_model_name": "VBoxModel",
            "_view_count": null,
            "_view_module": "@jupyter-widgets/controls",
            "_view_module_version": "1.5.0",
            "_view_name": "VBoxView",
            "box_style": "",
            "children": [
              "IPY_MODEL_b816b0efcaa443518d72f9f51826d56e",
              "IPY_MODEL_f7a7bbbadb0f48fb9a403b0d9b325d6b"
            ],
            "layout": "IPY_MODEL_65254609461546879db92ff5ecba78c0"
          }
        },
        "b816b0efcaa443518d72f9f51826d56e": {
          "model_module": "@jupyter-widgets/controls",
          "model_name": "LabelModel",
          "state": {
            "_dom_classes": [],
            "_model_module": "@jupyter-widgets/controls",
            "_model_module_version": "1.5.0",
            "_model_name": "LabelModel",
            "_view_count": null,
            "_view_module": "@jupyter-widgets/controls",
            "_view_module_version": "1.5.0",
            "_view_name": "LabelView",
            "description": "",
            "description_tooltip": null,
            "layout": "IPY_MODEL_b91db54edfcd470bafcc80bcd7b8acfe",
            "placeholder": "​",
            "style": "IPY_MODEL_21d6e69a5b724705b35b43e1da194dad",
            "value": " 369.53MB of 369.53MB uploaded (0.00MB deduped)\r"
          }
        },
        "f7a7bbbadb0f48fb9a403b0d9b325d6b": {
          "model_module": "@jupyter-widgets/controls",
          "model_name": "FloatProgressModel",
          "state": {
            "_dom_classes": [],
            "_model_module": "@jupyter-widgets/controls",
            "_model_module_version": "1.5.0",
            "_model_name": "FloatProgressModel",
            "_view_count": null,
            "_view_module": "@jupyter-widgets/controls",
            "_view_module_version": "1.5.0",
            "_view_name": "ProgressView",
            "bar_style": "",
            "description": "",
            "description_tooltip": null,
            "layout": "IPY_MODEL_1cb9674e1ce74a82b44d2f1086410c3e",
            "max": 1,
            "min": 0,
            "orientation": "horizontal",
            "style": "IPY_MODEL_0c1033894ce5474fbf471902592f2785",
            "value": 1
          }
        },
        "65254609461546879db92ff5ecba78c0": {
          "model_module": "@jupyter-widgets/base",
          "model_name": "LayoutModel",
          "state": {
            "_model_module": "@jupyter-widgets/base",
            "_model_module_version": "1.2.0",
            "_model_name": "LayoutModel",
            "_view_count": null,
            "_view_module": "@jupyter-widgets/base",
            "_view_module_version": "1.2.0",
            "_view_name": "LayoutView",
            "align_content": null,
            "align_items": null,
            "align_self": null,
            "border": null,
            "bottom": null,
            "display": null,
            "flex": null,
            "flex_flow": null,
            "grid_area": null,
            "grid_auto_columns": null,
            "grid_auto_flow": null,
            "grid_auto_rows": null,
            "grid_column": null,
            "grid_gap": null,
            "grid_row": null,
            "grid_template_areas": null,
            "grid_template_columns": null,
            "grid_template_rows": null,
            "height": null,
            "justify_content": null,
            "justify_items": null,
            "left": null,
            "margin": null,
            "max_height": null,
            "max_width": null,
            "min_height": null,
            "min_width": null,
            "object_fit": null,
            "object_position": null,
            "order": null,
            "overflow": null,
            "overflow_x": null,
            "overflow_y": null,
            "padding": null,
            "right": null,
            "top": null,
            "visibility": null,
            "width": null
          }
        },
        "b91db54edfcd470bafcc80bcd7b8acfe": {
          "model_module": "@jupyter-widgets/base",
          "model_name": "LayoutModel",
          "state": {
            "_model_module": "@jupyter-widgets/base",
            "_model_module_version": "1.2.0",
            "_model_name": "LayoutModel",
            "_view_count": null,
            "_view_module": "@jupyter-widgets/base",
            "_view_module_version": "1.2.0",
            "_view_name": "LayoutView",
            "align_content": null,
            "align_items": null,
            "align_self": null,
            "border": null,
            "bottom": null,
            "display": null,
            "flex": null,
            "flex_flow": null,
            "grid_area": null,
            "grid_auto_columns": null,
            "grid_auto_flow": null,
            "grid_auto_rows": null,
            "grid_column": null,
            "grid_gap": null,
            "grid_row": null,
            "grid_template_areas": null,
            "grid_template_columns": null,
            "grid_template_rows": null,
            "height": null,
            "justify_content": null,
            "justify_items": null,
            "left": null,
            "margin": null,
            "max_height": null,
            "max_width": null,
            "min_height": null,
            "min_width": null,
            "object_fit": null,
            "object_position": null,
            "order": null,
            "overflow": null,
            "overflow_x": null,
            "overflow_y": null,
            "padding": null,
            "right": null,
            "top": null,
            "visibility": null,
            "width": null
          }
        },
        "21d6e69a5b724705b35b43e1da194dad": {
          "model_module": "@jupyter-widgets/controls",
          "model_name": "DescriptionStyleModel",
          "state": {
            "_model_module": "@jupyter-widgets/controls",
            "_model_module_version": "1.5.0",
            "_model_name": "DescriptionStyleModel",
            "_view_count": null,
            "_view_module": "@jupyter-widgets/base",
            "_view_module_version": "1.2.0",
            "_view_name": "StyleView",
            "description_width": ""
          }
        },
        "1cb9674e1ce74a82b44d2f1086410c3e": {
          "model_module": "@jupyter-widgets/base",
          "model_name": "LayoutModel",
          "state": {
            "_model_module": "@jupyter-widgets/base",
            "_model_module_version": "1.2.0",
            "_model_name": "LayoutModel",
            "_view_count": null,
            "_view_module": "@jupyter-widgets/base",
            "_view_module_version": "1.2.0",
            "_view_name": "LayoutView",
            "align_content": null,
            "align_items": null,
            "align_self": null,
            "border": null,
            "bottom": null,
            "display": null,
            "flex": null,
            "flex_flow": null,
            "grid_area": null,
            "grid_auto_columns": null,
            "grid_auto_flow": null,
            "grid_auto_rows": null,
            "grid_column": null,
            "grid_gap": null,
            "grid_row": null,
            "grid_template_areas": null,
            "grid_template_columns": null,
            "grid_template_rows": null,
            "height": null,
            "justify_content": null,
            "justify_items": null,
            "left": null,
            "margin": null,
            "max_height": null,
            "max_width": null,
            "min_height": null,
            "min_width": null,
            "object_fit": null,
            "object_position": null,
            "order": null,
            "overflow": null,
            "overflow_x": null,
            "overflow_y": null,
            "padding": null,
            "right": null,
            "top": null,
            "visibility": null,
            "width": null
          }
        },
        "0c1033894ce5474fbf471902592f2785": {
          "model_module": "@jupyter-widgets/controls",
          "model_name": "ProgressStyleModel",
          "state": {
            "_model_module": "@jupyter-widgets/controls",
            "_model_module_version": "1.5.0",
            "_model_name": "ProgressStyleModel",
            "_view_count": null,
            "_view_module": "@jupyter-widgets/base",
            "_view_module_version": "1.2.0",
            "_view_name": "StyleView",
            "bar_color": null,
            "description_width": ""
          }
        },
        "fee9ea713a8a4608906cad82e3b37e6d": {
          "model_module": "@jupyter-widgets/controls",
          "model_name": "VBoxModel",
          "state": {
            "_dom_classes": [],
            "_model_module": "@jupyter-widgets/controls",
            "_model_module_version": "1.5.0",
            "_model_name": "VBoxModel",
            "_view_count": null,
            "_view_module": "@jupyter-widgets/controls",
            "_view_module_version": "1.5.0",
            "_view_name": "VBoxView",
            "box_style": "",
            "children": [
              "IPY_MODEL_87bb82a8a152437b9e813cdc0e50d6ca",
              "IPY_MODEL_67959691fc7043dd8ca6efc1ec423c00"
            ],
            "layout": "IPY_MODEL_050f99a4972d493bb15ceedbda94ea05"
          }
        },
        "87bb82a8a152437b9e813cdc0e50d6ca": {
          "model_module": "@jupyter-widgets/controls",
          "model_name": "LabelModel",
          "state": {
            "_dom_classes": [],
            "_model_module": "@jupyter-widgets/controls",
            "_model_module_version": "1.5.0",
            "_model_name": "LabelModel",
            "_view_count": null,
            "_view_module": "@jupyter-widgets/controls",
            "_view_module_version": "1.5.0",
            "_view_name": "LabelView",
            "description": "",
            "description_tooltip": null,
            "layout": "IPY_MODEL_cc3ce35d7cf7488bade1b9c721887125",
            "placeholder": "​",
            "style": "IPY_MODEL_2336c33cac0b49e48521bdb82cb4193f",
            "value": " 283.71MB of 283.71MB uploaded (0.00MB deduped)\r"
          }
        },
        "67959691fc7043dd8ca6efc1ec423c00": {
          "model_module": "@jupyter-widgets/controls",
          "model_name": "FloatProgressModel",
          "state": {
            "_dom_classes": [],
            "_model_module": "@jupyter-widgets/controls",
            "_model_module_version": "1.5.0",
            "_model_name": "FloatProgressModel",
            "_view_count": null,
            "_view_module": "@jupyter-widgets/controls",
            "_view_module_version": "1.5.0",
            "_view_name": "ProgressView",
            "bar_style": "",
            "description": "",
            "description_tooltip": null,
            "layout": "IPY_MODEL_06513693ecc8465294c688ba6a2de70e",
            "max": 1,
            "min": 0,
            "orientation": "horizontal",
            "style": "IPY_MODEL_33d19c106e6d49358aaea5ae24758e22",
            "value": 1
          }
        },
        "050f99a4972d493bb15ceedbda94ea05": {
          "model_module": "@jupyter-widgets/base",
          "model_name": "LayoutModel",
          "state": {
            "_model_module": "@jupyter-widgets/base",
            "_model_module_version": "1.2.0",
            "_model_name": "LayoutModel",
            "_view_count": null,
            "_view_module": "@jupyter-widgets/base",
            "_view_module_version": "1.2.0",
            "_view_name": "LayoutView",
            "align_content": null,
            "align_items": null,
            "align_self": null,
            "border": null,
            "bottom": null,
            "display": null,
            "flex": null,
            "flex_flow": null,
            "grid_area": null,
            "grid_auto_columns": null,
            "grid_auto_flow": null,
            "grid_auto_rows": null,
            "grid_column": null,
            "grid_gap": null,
            "grid_row": null,
            "grid_template_areas": null,
            "grid_template_columns": null,
            "grid_template_rows": null,
            "height": null,
            "justify_content": null,
            "justify_items": null,
            "left": null,
            "margin": null,
            "max_height": null,
            "max_width": null,
            "min_height": null,
            "min_width": null,
            "object_fit": null,
            "object_position": null,
            "order": null,
            "overflow": null,
            "overflow_x": null,
            "overflow_y": null,
            "padding": null,
            "right": null,
            "top": null,
            "visibility": null,
            "width": null
          }
        },
        "cc3ce35d7cf7488bade1b9c721887125": {
          "model_module": "@jupyter-widgets/base",
          "model_name": "LayoutModel",
          "state": {
            "_model_module": "@jupyter-widgets/base",
            "_model_module_version": "1.2.0",
            "_model_name": "LayoutModel",
            "_view_count": null,
            "_view_module": "@jupyter-widgets/base",
            "_view_module_version": "1.2.0",
            "_view_name": "LayoutView",
            "align_content": null,
            "align_items": null,
            "align_self": null,
            "border": null,
            "bottom": null,
            "display": null,
            "flex": null,
            "flex_flow": null,
            "grid_area": null,
            "grid_auto_columns": null,
            "grid_auto_flow": null,
            "grid_auto_rows": null,
            "grid_column": null,
            "grid_gap": null,
            "grid_row": null,
            "grid_template_areas": null,
            "grid_template_columns": null,
            "grid_template_rows": null,
            "height": null,
            "justify_content": null,
            "justify_items": null,
            "left": null,
            "margin": null,
            "max_height": null,
            "max_width": null,
            "min_height": null,
            "min_width": null,
            "object_fit": null,
            "object_position": null,
            "order": null,
            "overflow": null,
            "overflow_x": null,
            "overflow_y": null,
            "padding": null,
            "right": null,
            "top": null,
            "visibility": null,
            "width": null
          }
        },
        "2336c33cac0b49e48521bdb82cb4193f": {
          "model_module": "@jupyter-widgets/controls",
          "model_name": "DescriptionStyleModel",
          "state": {
            "_model_module": "@jupyter-widgets/controls",
            "_model_module_version": "1.5.0",
            "_model_name": "DescriptionStyleModel",
            "_view_count": null,
            "_view_module": "@jupyter-widgets/base",
            "_view_module_version": "1.2.0",
            "_view_name": "StyleView",
            "description_width": ""
          }
        },
        "06513693ecc8465294c688ba6a2de70e": {
          "model_module": "@jupyter-widgets/base",
          "model_name": "LayoutModel",
          "state": {
            "_model_module": "@jupyter-widgets/base",
            "_model_module_version": "1.2.0",
            "_model_name": "LayoutModel",
            "_view_count": null,
            "_view_module": "@jupyter-widgets/base",
            "_view_module_version": "1.2.0",
            "_view_name": "LayoutView",
            "align_content": null,
            "align_items": null,
            "align_self": null,
            "border": null,
            "bottom": null,
            "display": null,
            "flex": null,
            "flex_flow": null,
            "grid_area": null,
            "grid_auto_columns": null,
            "grid_auto_flow": null,
            "grid_auto_rows": null,
            "grid_column": null,
            "grid_gap": null,
            "grid_row": null,
            "grid_template_areas": null,
            "grid_template_columns": null,
            "grid_template_rows": null,
            "height": null,
            "justify_content": null,
            "justify_items": null,
            "left": null,
            "margin": null,
            "max_height": null,
            "max_width": null,
            "min_height": null,
            "min_width": null,
            "object_fit": null,
            "object_position": null,
            "order": null,
            "overflow": null,
            "overflow_x": null,
            "overflow_y": null,
            "padding": null,
            "right": null,
            "top": null,
            "visibility": null,
            "width": null
          }
        },
        "33d19c106e6d49358aaea5ae24758e22": {
          "model_module": "@jupyter-widgets/controls",
          "model_name": "ProgressStyleModel",
          "state": {
            "_model_module": "@jupyter-widgets/controls",
            "_model_module_version": "1.5.0",
            "_model_name": "ProgressStyleModel",
            "_view_count": null,
            "_view_module": "@jupyter-widgets/base",
            "_view_module_version": "1.2.0",
            "_view_name": "StyleView",
            "bar_color": null,
            "description_width": ""
          }
        },
        "780d230f7b3b4800a635c4ce7347f9e7": {
          "model_module": "@jupyter-widgets/controls",
          "model_name": "VBoxModel",
          "state": {
            "_dom_classes": [],
            "_model_module": "@jupyter-widgets/controls",
            "_model_module_version": "1.5.0",
            "_model_name": "VBoxModel",
            "_view_count": null,
            "_view_module": "@jupyter-widgets/controls",
            "_view_module_version": "1.5.0",
            "_view_name": "VBoxView",
            "box_style": "",
            "children": [
              "IPY_MODEL_6a61f2867aaa47438056e72e070d2160",
              "IPY_MODEL_7fa11af9a06b432684a664a2907a7c73"
            ],
            "layout": "IPY_MODEL_d280d63ffb4b47a89baff5a72fbd5283"
          }
        },
        "6a61f2867aaa47438056e72e070d2160": {
          "model_module": "@jupyter-widgets/controls",
          "model_name": "LabelModel",
          "state": {
            "_dom_classes": [],
            "_model_module": "@jupyter-widgets/controls",
            "_model_module_version": "1.5.0",
            "_model_name": "LabelModel",
            "_view_count": null,
            "_view_module": "@jupyter-widgets/controls",
            "_view_module_version": "1.5.0",
            "_view_name": "LabelView",
            "description": "",
            "description_tooltip": null,
            "layout": "IPY_MODEL_2c40c00619024ba691da9f29d548cdc2",
            "placeholder": "​",
            "style": "IPY_MODEL_4546acf5b577401dae110127211ec262",
            "value": " 348.97MB of 348.97MB uploaded (0.00MB deduped)\r"
          }
        },
        "7fa11af9a06b432684a664a2907a7c73": {
          "model_module": "@jupyter-widgets/controls",
          "model_name": "FloatProgressModel",
          "state": {
            "_dom_classes": [],
            "_model_module": "@jupyter-widgets/controls",
            "_model_module_version": "1.5.0",
            "_model_name": "FloatProgressModel",
            "_view_count": null,
            "_view_module": "@jupyter-widgets/controls",
            "_view_module_version": "1.5.0",
            "_view_name": "ProgressView",
            "bar_style": "",
            "description": "",
            "description_tooltip": null,
            "layout": "IPY_MODEL_cd196b71c75541bd8b0487f576de1fa2",
            "max": 1,
            "min": 0,
            "orientation": "horizontal",
            "style": "IPY_MODEL_f81445f768fd4fc98b508c9308e2f357",
            "value": 1
          }
        },
        "d280d63ffb4b47a89baff5a72fbd5283": {
          "model_module": "@jupyter-widgets/base",
          "model_name": "LayoutModel",
          "state": {
            "_model_module": "@jupyter-widgets/base",
            "_model_module_version": "1.2.0",
            "_model_name": "LayoutModel",
            "_view_count": null,
            "_view_module": "@jupyter-widgets/base",
            "_view_module_version": "1.2.0",
            "_view_name": "LayoutView",
            "align_content": null,
            "align_items": null,
            "align_self": null,
            "border": null,
            "bottom": null,
            "display": null,
            "flex": null,
            "flex_flow": null,
            "grid_area": null,
            "grid_auto_columns": null,
            "grid_auto_flow": null,
            "grid_auto_rows": null,
            "grid_column": null,
            "grid_gap": null,
            "grid_row": null,
            "grid_template_areas": null,
            "grid_template_columns": null,
            "grid_template_rows": null,
            "height": null,
            "justify_content": null,
            "justify_items": null,
            "left": null,
            "margin": null,
            "max_height": null,
            "max_width": null,
            "min_height": null,
            "min_width": null,
            "object_fit": null,
            "object_position": null,
            "order": null,
            "overflow": null,
            "overflow_x": null,
            "overflow_y": null,
            "padding": null,
            "right": null,
            "top": null,
            "visibility": null,
            "width": null
          }
        },
        "2c40c00619024ba691da9f29d548cdc2": {
          "model_module": "@jupyter-widgets/base",
          "model_name": "LayoutModel",
          "state": {
            "_model_module": "@jupyter-widgets/base",
            "_model_module_version": "1.2.0",
            "_model_name": "LayoutModel",
            "_view_count": null,
            "_view_module": "@jupyter-widgets/base",
            "_view_module_version": "1.2.0",
            "_view_name": "LayoutView",
            "align_content": null,
            "align_items": null,
            "align_self": null,
            "border": null,
            "bottom": null,
            "display": null,
            "flex": null,
            "flex_flow": null,
            "grid_area": null,
            "grid_auto_columns": null,
            "grid_auto_flow": null,
            "grid_auto_rows": null,
            "grid_column": null,
            "grid_gap": null,
            "grid_row": null,
            "grid_template_areas": null,
            "grid_template_columns": null,
            "grid_template_rows": null,
            "height": null,
            "justify_content": null,
            "justify_items": null,
            "left": null,
            "margin": null,
            "max_height": null,
            "max_width": null,
            "min_height": null,
            "min_width": null,
            "object_fit": null,
            "object_position": null,
            "order": null,
            "overflow": null,
            "overflow_x": null,
            "overflow_y": null,
            "padding": null,
            "right": null,
            "top": null,
            "visibility": null,
            "width": null
          }
        },
        "4546acf5b577401dae110127211ec262": {
          "model_module": "@jupyter-widgets/controls",
          "model_name": "DescriptionStyleModel",
          "state": {
            "_model_module": "@jupyter-widgets/controls",
            "_model_module_version": "1.5.0",
            "_model_name": "DescriptionStyleModel",
            "_view_count": null,
            "_view_module": "@jupyter-widgets/base",
            "_view_module_version": "1.2.0",
            "_view_name": "StyleView",
            "description_width": ""
          }
        },
        "cd196b71c75541bd8b0487f576de1fa2": {
          "model_module": "@jupyter-widgets/base",
          "model_name": "LayoutModel",
          "state": {
            "_model_module": "@jupyter-widgets/base",
            "_model_module_version": "1.2.0",
            "_model_name": "LayoutModel",
            "_view_count": null,
            "_view_module": "@jupyter-widgets/base",
            "_view_module_version": "1.2.0",
            "_view_name": "LayoutView",
            "align_content": null,
            "align_items": null,
            "align_self": null,
            "border": null,
            "bottom": null,
            "display": null,
            "flex": null,
            "flex_flow": null,
            "grid_area": null,
            "grid_auto_columns": null,
            "grid_auto_flow": null,
            "grid_auto_rows": null,
            "grid_column": null,
            "grid_gap": null,
            "grid_row": null,
            "grid_template_areas": null,
            "grid_template_columns": null,
            "grid_template_rows": null,
            "height": null,
            "justify_content": null,
            "justify_items": null,
            "left": null,
            "margin": null,
            "max_height": null,
            "max_width": null,
            "min_height": null,
            "min_width": null,
            "object_fit": null,
            "object_position": null,
            "order": null,
            "overflow": null,
            "overflow_x": null,
            "overflow_y": null,
            "padding": null,
            "right": null,
            "top": null,
            "visibility": null,
            "width": null
          }
        },
        "f81445f768fd4fc98b508c9308e2f357": {
          "model_module": "@jupyter-widgets/controls",
          "model_name": "ProgressStyleModel",
          "state": {
            "_model_module": "@jupyter-widgets/controls",
            "_model_module_version": "1.5.0",
            "_model_name": "ProgressStyleModel",
            "_view_count": null,
            "_view_module": "@jupyter-widgets/base",
            "_view_module_version": "1.2.0",
            "_view_name": "StyleView",
            "bar_color": null,
            "description_width": ""
          }
        },
        "53353bc2e68441a48f7107019d39ae18": {
          "model_module": "@jupyter-widgets/controls",
          "model_name": "VBoxModel",
          "state": {
            "_dom_classes": [],
            "_model_module": "@jupyter-widgets/controls",
            "_model_module_version": "1.5.0",
            "_model_name": "VBoxModel",
            "_view_count": null,
            "_view_module": "@jupyter-widgets/controls",
            "_view_module_version": "1.5.0",
            "_view_name": "VBoxView",
            "box_style": "",
            "children": [
              "IPY_MODEL_522524dc756c46e89a1369d4c4c6d411",
              "IPY_MODEL_b981014279814d3089bf01fc2df4796a"
            ],
            "layout": "IPY_MODEL_b9ca8fea0ffb4c1186fbb3d7dc5cb5be"
          }
        },
        "522524dc756c46e89a1369d4c4c6d411": {
          "model_module": "@jupyter-widgets/controls",
          "model_name": "LabelModel",
          "state": {
            "_dom_classes": [],
            "_model_module": "@jupyter-widgets/controls",
            "_model_module_version": "1.5.0",
            "_model_name": "LabelModel",
            "_view_count": null,
            "_view_module": "@jupyter-widgets/controls",
            "_view_module_version": "1.5.0",
            "_view_name": "LabelView",
            "description": "",
            "description_tooltip": null,
            "layout": "IPY_MODEL_4ee3343c4c914257bfc655e7aa717593",
            "placeholder": "​",
            "style": "IPY_MODEL_e3d22c7b4f6f49c08cabaa99f23d8dea",
            "value": " 288.87MB of 288.87MB uploaded (0.00MB deduped)\r"
          }
        },
        "b981014279814d3089bf01fc2df4796a": {
          "model_module": "@jupyter-widgets/controls",
          "model_name": "FloatProgressModel",
          "state": {
            "_dom_classes": [],
            "_model_module": "@jupyter-widgets/controls",
            "_model_module_version": "1.5.0",
            "_model_name": "FloatProgressModel",
            "_view_count": null,
            "_view_module": "@jupyter-widgets/controls",
            "_view_module_version": "1.5.0",
            "_view_name": "ProgressView",
            "bar_style": "",
            "description": "",
            "description_tooltip": null,
            "layout": "IPY_MODEL_1574faee46eb40ed8e9e4c67a65cd0a0",
            "max": 1,
            "min": 0,
            "orientation": "horizontal",
            "style": "IPY_MODEL_2e29768d43d348f9b58719bd2bac92f9",
            "value": 1
          }
        },
        "b9ca8fea0ffb4c1186fbb3d7dc5cb5be": {
          "model_module": "@jupyter-widgets/base",
          "model_name": "LayoutModel",
          "state": {
            "_model_module": "@jupyter-widgets/base",
            "_model_module_version": "1.2.0",
            "_model_name": "LayoutModel",
            "_view_count": null,
            "_view_module": "@jupyter-widgets/base",
            "_view_module_version": "1.2.0",
            "_view_name": "LayoutView",
            "align_content": null,
            "align_items": null,
            "align_self": null,
            "border": null,
            "bottom": null,
            "display": null,
            "flex": null,
            "flex_flow": null,
            "grid_area": null,
            "grid_auto_columns": null,
            "grid_auto_flow": null,
            "grid_auto_rows": null,
            "grid_column": null,
            "grid_gap": null,
            "grid_row": null,
            "grid_template_areas": null,
            "grid_template_columns": null,
            "grid_template_rows": null,
            "height": null,
            "justify_content": null,
            "justify_items": null,
            "left": null,
            "margin": null,
            "max_height": null,
            "max_width": null,
            "min_height": null,
            "min_width": null,
            "object_fit": null,
            "object_position": null,
            "order": null,
            "overflow": null,
            "overflow_x": null,
            "overflow_y": null,
            "padding": null,
            "right": null,
            "top": null,
            "visibility": null,
            "width": null
          }
        },
        "4ee3343c4c914257bfc655e7aa717593": {
          "model_module": "@jupyter-widgets/base",
          "model_name": "LayoutModel",
          "state": {
            "_model_module": "@jupyter-widgets/base",
            "_model_module_version": "1.2.0",
            "_model_name": "LayoutModel",
            "_view_count": null,
            "_view_module": "@jupyter-widgets/base",
            "_view_module_version": "1.2.0",
            "_view_name": "LayoutView",
            "align_content": null,
            "align_items": null,
            "align_self": null,
            "border": null,
            "bottom": null,
            "display": null,
            "flex": null,
            "flex_flow": null,
            "grid_area": null,
            "grid_auto_columns": null,
            "grid_auto_flow": null,
            "grid_auto_rows": null,
            "grid_column": null,
            "grid_gap": null,
            "grid_row": null,
            "grid_template_areas": null,
            "grid_template_columns": null,
            "grid_template_rows": null,
            "height": null,
            "justify_content": null,
            "justify_items": null,
            "left": null,
            "margin": null,
            "max_height": null,
            "max_width": null,
            "min_height": null,
            "min_width": null,
            "object_fit": null,
            "object_position": null,
            "order": null,
            "overflow": null,
            "overflow_x": null,
            "overflow_y": null,
            "padding": null,
            "right": null,
            "top": null,
            "visibility": null,
            "width": null
          }
        },
        "e3d22c7b4f6f49c08cabaa99f23d8dea": {
          "model_module": "@jupyter-widgets/controls",
          "model_name": "DescriptionStyleModel",
          "state": {
            "_model_module": "@jupyter-widgets/controls",
            "_model_module_version": "1.5.0",
            "_model_name": "DescriptionStyleModel",
            "_view_count": null,
            "_view_module": "@jupyter-widgets/base",
            "_view_module_version": "1.2.0",
            "_view_name": "StyleView",
            "description_width": ""
          }
        },
        "1574faee46eb40ed8e9e4c67a65cd0a0": {
          "model_module": "@jupyter-widgets/base",
          "model_name": "LayoutModel",
          "state": {
            "_model_module": "@jupyter-widgets/base",
            "_model_module_version": "1.2.0",
            "_model_name": "LayoutModel",
            "_view_count": null,
            "_view_module": "@jupyter-widgets/base",
            "_view_module_version": "1.2.0",
            "_view_name": "LayoutView",
            "align_content": null,
            "align_items": null,
            "align_self": null,
            "border": null,
            "bottom": null,
            "display": null,
            "flex": null,
            "flex_flow": null,
            "grid_area": null,
            "grid_auto_columns": null,
            "grid_auto_flow": null,
            "grid_auto_rows": null,
            "grid_column": null,
            "grid_gap": null,
            "grid_row": null,
            "grid_template_areas": null,
            "grid_template_columns": null,
            "grid_template_rows": null,
            "height": null,
            "justify_content": null,
            "justify_items": null,
            "left": null,
            "margin": null,
            "max_height": null,
            "max_width": null,
            "min_height": null,
            "min_width": null,
            "object_fit": null,
            "object_position": null,
            "order": null,
            "overflow": null,
            "overflow_x": null,
            "overflow_y": null,
            "padding": null,
            "right": null,
            "top": null,
            "visibility": null,
            "width": null
          }
        },
        "2e29768d43d348f9b58719bd2bac92f9": {
          "model_module": "@jupyter-widgets/controls",
          "model_name": "ProgressStyleModel",
          "state": {
            "_model_module": "@jupyter-widgets/controls",
            "_model_module_version": "1.5.0",
            "_model_name": "ProgressStyleModel",
            "_view_count": null,
            "_view_module": "@jupyter-widgets/base",
            "_view_module_version": "1.2.0",
            "_view_name": "StyleView",
            "bar_color": null,
            "description_width": ""
          }
        },
        "8fcb00d0335a452289927c56611ece0e": {
          "model_module": "@jupyter-widgets/controls",
          "model_name": "VBoxModel",
          "state": {
            "_dom_classes": [],
            "_model_module": "@jupyter-widgets/controls",
            "_model_module_version": "1.5.0",
            "_model_name": "VBoxModel",
            "_view_count": null,
            "_view_module": "@jupyter-widgets/controls",
            "_view_module_version": "1.5.0",
            "_view_name": "VBoxView",
            "box_style": "",
            "children": [
              "IPY_MODEL_24c00795fc514974861e1dd40911d2a6",
              "IPY_MODEL_d7ee6ce1e0a64e93a0d670917e42b424"
            ],
            "layout": "IPY_MODEL_63d6e035134d4a83a793323b668c6927"
          }
        },
        "24c00795fc514974861e1dd40911d2a6": {
          "model_module": "@jupyter-widgets/controls",
          "model_name": "LabelModel",
          "state": {
            "_dom_classes": [],
            "_model_module": "@jupyter-widgets/controls",
            "_model_module_version": "1.5.0",
            "_model_name": "LabelModel",
            "_view_count": null,
            "_view_module": "@jupyter-widgets/controls",
            "_view_module_version": "1.5.0",
            "_view_name": "LabelView",
            "description": "",
            "description_tooltip": null,
            "layout": "IPY_MODEL_45f7bbe6c65746469efcae0e91d75a8c",
            "placeholder": "​",
            "style": "IPY_MODEL_dcc534381ba74028b959f997bd929c57",
            "value": " 369.53MB of 369.53MB uploaded (0.00MB deduped)\r"
          }
        },
        "d7ee6ce1e0a64e93a0d670917e42b424": {
          "model_module": "@jupyter-widgets/controls",
          "model_name": "FloatProgressModel",
          "state": {
            "_dom_classes": [],
            "_model_module": "@jupyter-widgets/controls",
            "_model_module_version": "1.5.0",
            "_model_name": "FloatProgressModel",
            "_view_count": null,
            "_view_module": "@jupyter-widgets/controls",
            "_view_module_version": "1.5.0",
            "_view_name": "ProgressView",
            "bar_style": "",
            "description": "",
            "description_tooltip": null,
            "layout": "IPY_MODEL_20378c037c8d4fadaff6fbe380bb493e",
            "max": 1,
            "min": 0,
            "orientation": "horizontal",
            "style": "IPY_MODEL_61867942b66d4e3c9608fc0179478e75",
            "value": 1
          }
        },
        "63d6e035134d4a83a793323b668c6927": {
          "model_module": "@jupyter-widgets/base",
          "model_name": "LayoutModel",
          "state": {
            "_model_module": "@jupyter-widgets/base",
            "_model_module_version": "1.2.0",
            "_model_name": "LayoutModel",
            "_view_count": null,
            "_view_module": "@jupyter-widgets/base",
            "_view_module_version": "1.2.0",
            "_view_name": "LayoutView",
            "align_content": null,
            "align_items": null,
            "align_self": null,
            "border": null,
            "bottom": null,
            "display": null,
            "flex": null,
            "flex_flow": null,
            "grid_area": null,
            "grid_auto_columns": null,
            "grid_auto_flow": null,
            "grid_auto_rows": null,
            "grid_column": null,
            "grid_gap": null,
            "grid_row": null,
            "grid_template_areas": null,
            "grid_template_columns": null,
            "grid_template_rows": null,
            "height": null,
            "justify_content": null,
            "justify_items": null,
            "left": null,
            "margin": null,
            "max_height": null,
            "max_width": null,
            "min_height": null,
            "min_width": null,
            "object_fit": null,
            "object_position": null,
            "order": null,
            "overflow": null,
            "overflow_x": null,
            "overflow_y": null,
            "padding": null,
            "right": null,
            "top": null,
            "visibility": null,
            "width": null
          }
        },
        "45f7bbe6c65746469efcae0e91d75a8c": {
          "model_module": "@jupyter-widgets/base",
          "model_name": "LayoutModel",
          "state": {
            "_model_module": "@jupyter-widgets/base",
            "_model_module_version": "1.2.0",
            "_model_name": "LayoutModel",
            "_view_count": null,
            "_view_module": "@jupyter-widgets/base",
            "_view_module_version": "1.2.0",
            "_view_name": "LayoutView",
            "align_content": null,
            "align_items": null,
            "align_self": null,
            "border": null,
            "bottom": null,
            "display": null,
            "flex": null,
            "flex_flow": null,
            "grid_area": null,
            "grid_auto_columns": null,
            "grid_auto_flow": null,
            "grid_auto_rows": null,
            "grid_column": null,
            "grid_gap": null,
            "grid_row": null,
            "grid_template_areas": null,
            "grid_template_columns": null,
            "grid_template_rows": null,
            "height": null,
            "justify_content": null,
            "justify_items": null,
            "left": null,
            "margin": null,
            "max_height": null,
            "max_width": null,
            "min_height": null,
            "min_width": null,
            "object_fit": null,
            "object_position": null,
            "order": null,
            "overflow": null,
            "overflow_x": null,
            "overflow_y": null,
            "padding": null,
            "right": null,
            "top": null,
            "visibility": null,
            "width": null
          }
        },
        "dcc534381ba74028b959f997bd929c57": {
          "model_module": "@jupyter-widgets/controls",
          "model_name": "DescriptionStyleModel",
          "state": {
            "_model_module": "@jupyter-widgets/controls",
            "_model_module_version": "1.5.0",
            "_model_name": "DescriptionStyleModel",
            "_view_count": null,
            "_view_module": "@jupyter-widgets/base",
            "_view_module_version": "1.2.0",
            "_view_name": "StyleView",
            "description_width": ""
          }
        },
        "20378c037c8d4fadaff6fbe380bb493e": {
          "model_module": "@jupyter-widgets/base",
          "model_name": "LayoutModel",
          "state": {
            "_model_module": "@jupyter-widgets/base",
            "_model_module_version": "1.2.0",
            "_model_name": "LayoutModel",
            "_view_count": null,
            "_view_module": "@jupyter-widgets/base",
            "_view_module_version": "1.2.0",
            "_view_name": "LayoutView",
            "align_content": null,
            "align_items": null,
            "align_self": null,
            "border": null,
            "bottom": null,
            "display": null,
            "flex": null,
            "flex_flow": null,
            "grid_area": null,
            "grid_auto_columns": null,
            "grid_auto_flow": null,
            "grid_auto_rows": null,
            "grid_column": null,
            "grid_gap": null,
            "grid_row": null,
            "grid_template_areas": null,
            "grid_template_columns": null,
            "grid_template_rows": null,
            "height": null,
            "justify_content": null,
            "justify_items": null,
            "left": null,
            "margin": null,
            "max_height": null,
            "max_width": null,
            "min_height": null,
            "min_width": null,
            "object_fit": null,
            "object_position": null,
            "order": null,
            "overflow": null,
            "overflow_x": null,
            "overflow_y": null,
            "padding": null,
            "right": null,
            "top": null,
            "visibility": null,
            "width": null
          }
        },
        "61867942b66d4e3c9608fc0179478e75": {
          "model_module": "@jupyter-widgets/controls",
          "model_name": "ProgressStyleModel",
          "state": {
            "_model_module": "@jupyter-widgets/controls",
            "_model_module_version": "1.5.0",
            "_model_name": "ProgressStyleModel",
            "_view_count": null,
            "_view_module": "@jupyter-widgets/base",
            "_view_module_version": "1.2.0",
            "_view_name": "StyleView",
            "bar_color": null,
            "description_width": ""
          }
        },
        "b0b807a5a14b490b83774b16f0420be5": {
          "model_module": "@jupyter-widgets/controls",
          "model_name": "HBoxModel",
          "state": {
            "_view_name": "HBoxView",
            "_dom_classes": [],
            "_model_name": "HBoxModel",
            "_view_module": "@jupyter-widgets/controls",
            "_model_module_version": "1.5.0",
            "_view_count": null,
            "_view_module_version": "1.5.0",
            "box_style": "",
            "layout": "IPY_MODEL_7feb9a5047b74b4593d02950f6d412b8",
            "_model_module": "@jupyter-widgets/controls",
            "children": [
              "IPY_MODEL_03c67bf0353a4312aff470ca466b62f3",
              "IPY_MODEL_fee0bdc643c24096a53d97fe803a7867"
            ]
          }
        },
        "7feb9a5047b74b4593d02950f6d412b8": {
          "model_module": "@jupyter-widgets/base",
          "model_name": "LayoutModel",
          "state": {
            "_view_name": "LayoutView",
            "grid_template_rows": null,
            "right": null,
            "justify_content": null,
            "_view_module": "@jupyter-widgets/base",
            "overflow": null,
            "_model_module_version": "1.2.0",
            "_view_count": null,
            "flex_flow": null,
            "width": null,
            "min_width": null,
            "border": null,
            "align_items": null,
            "bottom": null,
            "_model_module": "@jupyter-widgets/base",
            "top": null,
            "grid_column": null,
            "overflow_y": null,
            "overflow_x": null,
            "grid_auto_flow": null,
            "grid_area": null,
            "grid_template_columns": null,
            "flex": null,
            "_model_name": "LayoutModel",
            "justify_items": null,
            "grid_row": null,
            "max_height": null,
            "align_content": null,
            "visibility": null,
            "align_self": null,
            "height": null,
            "min_height": null,
            "padding": null,
            "grid_auto_rows": null,
            "grid_gap": null,
            "max_width": null,
            "order": null,
            "_view_module_version": "1.2.0",
            "grid_template_areas": null,
            "object_position": null,
            "object_fit": null,
            "grid_auto_columns": null,
            "margin": null,
            "display": null,
            "left": null
          }
        },
        "03c67bf0353a4312aff470ca466b62f3": {
          "model_module": "@jupyter-widgets/controls",
          "model_name": "FloatProgressModel",
          "state": {
            "_view_name": "ProgressView",
            "style": "IPY_MODEL_4c0f1af422c94ad3a2bb7980c648cad8",
            "_dom_classes": [],
            "description": "100%",
            "_model_name": "FloatProgressModel",
            "bar_style": "success",
            "max": 108857766,
            "_view_module": "@jupyter-widgets/controls",
            "_model_module_version": "1.5.0",
            "value": 108857766,
            "_view_count": null,
            "_view_module_version": "1.5.0",
            "orientation": "horizontal",
            "min": 0,
            "description_tooltip": null,
            "_model_module": "@jupyter-widgets/controls",
            "layout": "IPY_MODEL_8c19df3dc4164c1f892c54a3269f9107"
          }
        },
        "fee0bdc643c24096a53d97fe803a7867": {
          "model_module": "@jupyter-widgets/controls",
          "model_name": "HTMLModel",
          "state": {
            "_view_name": "HTMLView",
            "style": "IPY_MODEL_2d1b49fc33fd4df0a7af41f1a09113ca",
            "_dom_classes": [],
            "description": "",
            "_model_name": "HTMLModel",
            "placeholder": "​",
            "_view_module": "@jupyter-widgets/controls",
            "_model_module_version": "1.5.0",
            "value": " 104M/104M [00:02&lt;00:00, 37.7MB/s]",
            "_view_count": null,
            "_view_module_version": "1.5.0",
            "description_tooltip": null,
            "_model_module": "@jupyter-widgets/controls",
            "layout": "IPY_MODEL_92afe19e40fc418db07cac4bbd1e5925"
          }
        },
        "4c0f1af422c94ad3a2bb7980c648cad8": {
          "model_module": "@jupyter-widgets/controls",
          "model_name": "ProgressStyleModel",
          "state": {
            "_view_name": "StyleView",
            "_model_name": "ProgressStyleModel",
            "description_width": "initial",
            "_view_module": "@jupyter-widgets/base",
            "_model_module_version": "1.5.0",
            "_view_count": null,
            "_view_module_version": "1.2.0",
            "bar_color": null,
            "_model_module": "@jupyter-widgets/controls"
          }
        },
        "8c19df3dc4164c1f892c54a3269f9107": {
          "model_module": "@jupyter-widgets/base",
          "model_name": "LayoutModel",
          "state": {
            "_view_name": "LayoutView",
            "grid_template_rows": null,
            "right": null,
            "justify_content": null,
            "_view_module": "@jupyter-widgets/base",
            "overflow": null,
            "_model_module_version": "1.2.0",
            "_view_count": null,
            "flex_flow": null,
            "width": null,
            "min_width": null,
            "border": null,
            "align_items": null,
            "bottom": null,
            "_model_module": "@jupyter-widgets/base",
            "top": null,
            "grid_column": null,
            "overflow_y": null,
            "overflow_x": null,
            "grid_auto_flow": null,
            "grid_area": null,
            "grid_template_columns": null,
            "flex": null,
            "_model_name": "LayoutModel",
            "justify_items": null,
            "grid_row": null,
            "max_height": null,
            "align_content": null,
            "visibility": null,
            "align_self": null,
            "height": null,
            "min_height": null,
            "padding": null,
            "grid_auto_rows": null,
            "grid_gap": null,
            "max_width": null,
            "order": null,
            "_view_module_version": "1.2.0",
            "grid_template_areas": null,
            "object_position": null,
            "object_fit": null,
            "grid_auto_columns": null,
            "margin": null,
            "display": null,
            "left": null
          }
        },
        "2d1b49fc33fd4df0a7af41f1a09113ca": {
          "model_module": "@jupyter-widgets/controls",
          "model_name": "DescriptionStyleModel",
          "state": {
            "_view_name": "StyleView",
            "_model_name": "DescriptionStyleModel",
            "description_width": "",
            "_view_module": "@jupyter-widgets/base",
            "_model_module_version": "1.5.0",
            "_view_count": null,
            "_view_module_version": "1.2.0",
            "_model_module": "@jupyter-widgets/controls"
          }
        },
        "92afe19e40fc418db07cac4bbd1e5925": {
          "model_module": "@jupyter-widgets/base",
          "model_name": "LayoutModel",
          "state": {
            "_view_name": "LayoutView",
            "grid_template_rows": null,
            "right": null,
            "justify_content": null,
            "_view_module": "@jupyter-widgets/base",
            "overflow": null,
            "_model_module_version": "1.2.0",
            "_view_count": null,
            "flex_flow": null,
            "width": null,
            "min_width": null,
            "border": null,
            "align_items": null,
            "bottom": null,
            "_model_module": "@jupyter-widgets/base",
            "top": null,
            "grid_column": null,
            "overflow_y": null,
            "overflow_x": null,
            "grid_auto_flow": null,
            "grid_area": null,
            "grid_template_columns": null,
            "flex": null,
            "_model_name": "LayoutModel",
            "justify_items": null,
            "grid_row": null,
            "max_height": null,
            "align_content": null,
            "visibility": null,
            "align_self": null,
            "height": null,
            "min_height": null,
            "padding": null,
            "grid_auto_rows": null,
            "grid_gap": null,
            "max_width": null,
            "order": null,
            "_view_module_version": "1.2.0",
            "grid_template_areas": null,
            "object_position": null,
            "object_fit": null,
            "grid_auto_columns": null,
            "margin": null,
            "display": null,
            "left": null
          }
        }
      }
    }
  },
  "cells": [
    {
      "cell_type": "markdown",
      "metadata": {
        "id": "qpLplwgOtmOY"
      },
      "source": [
        "<h1 align=\"center\"> Image Captioning </h1>\n",
        "\n",
        "Итак, мы сейчас займемся image captioning =)\n",
        "![img](https://i.imgur.com/obITaMl.png)"
      ]
    },
    {
      "cell_type": "markdown",
      "metadata": {
        "id": "8Ya3uvGqtmOa"
      },
      "source": [
        "## Описание\n",
        "\n",
        "Image captioning -- это когда мы подаем модели каритнку, а она возвращает нам текст с описанием того, что на ней изображено. \n",
        "\n",
        "Как мы знаем из нашего замечательного курса, с картинками лучше всегоработают модели CNN, а с текстом -- RNN. Поэтому логично, что для image captioning нужно совместить и то, и другое =)\n",
        "\n",
        "Для удобства (и, в какой-то степени, экономии времени), мы будем строить не одну большую модель CNN+RNN, которая будет кушать картинку и выдавать текст, а разобьем ее на две. Первая модель будет кушать картинку и выдавать вектор картинки, а вторая модель будет кушать этот вектор и генерировать текст. Вектор, по сути, будет числовым \"описанием\" картинки, в котором будет содержаться вся необходимая информация для второй сети, чтобы та смогла нагенерить текста с описанием. Короче, как в автоэнкодерах)"
      ]
    },
    {
      "cell_type": "markdown",
      "metadata": {
        "id": "EqbinmhstmOb"
      },
      "source": [
        "## План\n",
        "\n",
        "Итак, как мы будем действовать:\n",
        "\n",
        "Датасет: MSCOCO: [описание](http://cocodataset.org/#download), [ссылка для скачивания](https://yadi.sk/d/iK9ZtggjJcGKIA)"
      ]
    },
    {
      "cell_type": "markdown",
      "metadata": {
        "id": "hd7DizkTtmOg"
      },
      "source": [
        "### Базовая часть:\n",
        "1. Скачаем датасет (векторы картинок и соответствующие описания) и предобработаем описания так, как мы любим. Ну, токенизация там (да, в 100500-ый раз, только теперь сами)\n",
        "2. В качестве первой сети возьмем Inception-v3 и скачаем к ней предобученные веса (тренировать и генерировать веса -- это оч долго, поверьте мне). \n",
        "3. Напишем вторую сетку, которая будет брать векторы из Inception-v3 и генерить описания.\n",
        "4. Обучим вторую сеть на MSCOCO\n",
        "\n",
        "### Вариативная часть:\n",
        "Что еще можно сделать:\n",
        "1. Нагуглить другой датасет (в MSCOCO видны паттерны -- все тексты выглядят как \"хто-то с чем-то что-то делает\")\n",
        "2. Взять не Inseption-v3, а другую предобученную сеть\n",
        "3. Запилить аттеншен во второй сети (не, ну а вдруг)\n",
        "4. Написать бота ))0))\n",
        "5. Whatever comes to your head"
      ]
    },
    {
      "cell_type": "markdown",
      "metadata": {
        "id": "Utxq9wvgtmOi"
      },
      "source": [
        "## Базовая часть:"
      ]
    },
    {
      "cell_type": "markdown",
      "metadata": {
        "id": "0Ta8RFKejLRl"
      },
      "source": [
        "### 1. Предобработка текстов из датасета"
      ]
    },
    {
      "cell_type": "code",
      "metadata": {
        "id": "kEnTt2elHvIi"
      },
      "source": [
        "# !fusermount -u drive\n",
        "# !google-drive-ocamlfuse drive"
      ],
      "execution_count": 2,
      "outputs": []
    },
    {
      "cell_type": "code",
      "metadata": {
        "colab": {
          "base_uri": "https://localhost:8080/"
        },
        "id": "CbPJDOL5e5pq",
        "outputId": "f0ba2b8b-09cf-4fab-adb1-4608555e2c48"
      },
      "source": [
        "\n",
        "# !tar -xvf '{ROOT_FOLDER}handout.tar' -C '{ROOT_FOLDER}'\n",
        "from collections import Counter\n",
        "import string\n",
        "import os\n",
        "\n",
        "import numpy as np\n",
        "import json\n",
        "from google.colab import drive\n",
        "\n",
        "import torch, torch.nn as nn\n",
        "import torch.nn.functional as F\n",
        "from torch.utils.data import Dataset, random_split, DataLoader\n",
        "import torch.optim as optim\n",
        "\n",
        "# many outputs one cell\n",
        "from IPython.core.interactiveshell import InteractiveShell\n",
        "InteractiveShell.ast_node_interactivity = \"all\"\n",
        "import matplotlib.pyplot as plt\n",
        "# %matplotlib inline\n",
        "\n",
        "drive.mount('/content/gdrive', force_remount=True)\n",
        "ROOT_FOLDER = 'gdrive/My Drive/Colab_Notebooks/dls_2/21_DIPLOM_Image_captioning/'\n",
        "\n",
        "device = torch.device('cuda' if torch.cuda.is_available() else 'cpu')\n",
        "print(device)"
      ],
      "execution_count": 3,
      "outputs": [
        {
          "output_type": "stream",
          "text": [
            "Mounted at /content/gdrive\n",
            "cuda\n"
          ],
          "name": "stdout"
        }
      ]
    },
    {
      "cell_type": "markdown",
      "metadata": {
        "id": "3M3zOw1otmOy"
      },
      "source": [
        "Как можно видеть, в датасете все captions (тексты-описания) уже токенизированы и приведены в нижний регистр. Нам осталось сделать следующее:\n",
        "\n",
        "1. Добавить ко всем описаниям символы начала и конца предложения \n",
        "2. Посчитать частоту встречания каждого слова из словаря и оставить тольео те, которые встречаются больше Х раз (например, Х=5)\n",
        "3. Создать словарь из оставшихся слов + символов начала, конца предложения и PAD символа\n",
        "4. Написать функцию, которая будет возвращать батч из описаний. Мы такое уже делали на прошлвх занятиях. Батч должен выглядеть примерно так:\n",
        "ВАЖНО! Почему я советую писать отдельную функцию, которая генерирует батч: дело в том, что в датасете для каждой картинки есть несколько (5-7) различных описаний. Когда создаете батч, лучше, чтобы в нем были разные картинки, и к каждой картинке при создании батча выбирать одно из ее описаний рандомно. Это проще реализовать в отдельной функции (но вы, конечно, можете писать код как хотите)\n",
        "5. Поделить выборку на train/test\n",
        "\n",
        "[[   1,  525, 8955, 5392, 9640, 4713, 7470,  525, 7341, 2296, 7696,2,    3,    3,    3,    3,    3,    3,    3],\n",
        "   \n",
        "[   1,  525, 8955, 6784, 3557,  525, 7341, 2296,    2,    3,    3,3,    3,    3,    3,    3,    3,    3,    3],\n",
        "\n",
        "[   1,  525, 8955, 9209, 3557, 5486, 8335, 3071, 2296,    2,    3,3,    3,    3,    3,    3,    3,    3,    3],\n",
        "\n",
        "[   1, 6292, 1508, 8955, 9209, 6784, 3557, 3071, 6971, 5520, 7696,2,    3,    3,    3,    3,    3,    3,    3],\n",
        "\n",
        "[   1,  525, 8955, 6784, 3557,  525, 7341, 6919, 2919, 6292,  250,393,  525, 4618, 8335, 6292, 7882, 7696,    2]]\n",
        "         \n",
        "То есть, короткие предложения дополняются PAD символами, слишком длинные обрезуются, в начале и конце по коду символа начал и конца предложения.\n",
        "\n",
        "Уверена, эта часть вам покажется очень знакомой и легкой =)"
      ]
    },
    {
      "cell_type": "code",
      "metadata": {
        "colab": {
          "base_uri": "https://localhost:8080/"
        },
        "id": "LOIyct-ItmOk",
        "outputId": "1f5935aa-d1df-4926-af60-17da3936e0fd"
      },
      "source": [
        "# загружаем датасет\n",
        "img_codes = np.load(ROOT_FOLDER + \"data/image_codes.npy\")\n",
        "captions_src = json.load(open(ROOT_FOLDER+'data/captions_tokenized.json'))\n",
        "\n",
        "# размерности\n",
        "print(len(captions_src), len(captions_src[0]))\n",
        "print(img_codes.shape)\n",
        "\n",
        "# посмотрим на датасет\n",
        "print(\"Each image code is a 2048-unit vector [ shape: %s ]\" % str(img_codes.shape))\n",
        "print(img_codes[0,:10], end='\\n\\n')\n",
        "print(\"For each image there are 5 reference captions, e.g.:\\n\")\n",
        "print('\\n'.join(captions_src[0]))"
      ],
      "execution_count": 4,
      "outputs": [
        {
          "output_type": "stream",
          "text": [
            "118287 5\n",
            "(118287, 2048)\n",
            "Each image code is a 2048-unit vector [ shape: (118287, 2048) ]\n",
            "[0.3659946  0.2016555  0.9245725  0.57063824 0.547268   0.8275868\n",
            " 0.3687277  0.12085301 0.0561931  0.49758485]\n",
            "\n",
            "For each image there are 5 reference captions, e.g.:\n",
            "\n",
            "people shopping in an open market for vegetables .\n",
            "an open market full of people and piles of vegetables .\n",
            "people are shopping at an open air produce market .\n",
            "large piles of carrots and potatoes at a crowded outdoor market .\n",
            "people shop for vegetables like carrots and potatoes at an open air market .\n"
          ],
          "name": "stdout"
        }
      ]
    },
    {
      "cell_type": "code",
      "metadata": {
        "colab": {
          "base_uri": "https://localhost:8080/",
          "height": 802
        },
        "id": "0lfK2xlK4xAc",
        "outputId": "ef1eb9e9-b0a0-4082-84c3-015d952a5dc6"
      },
      "source": [
        "# preparations\n",
        "def test_transforms(captions):\n",
        "  print(captions[0][0])\n",
        "  print(captions[24][4])\n",
        "\n",
        "\n",
        "  # drop punctuation\n",
        "  table = str.maketrans('', '', string.punctuation)\n",
        "  for i in range(len(captions)):\n",
        "    for j in range(len(captions[i])):\n",
        "      captions[i][j] = captions[i][j].translate(table)\n",
        "  print('\\nafter drop punct')\n",
        "  print(captions[0][0])\n",
        "  print(captions[24][4])\n",
        "\n",
        "  # sos, eos\n",
        "  for i in range(len(captions)):\n",
        "    for j in range(len(captions[i])):\n",
        "      captions[i][j] = 'sos ' + captions[i][j] + ' eos'\n",
        "  print('\\nafter sos/eos')\n",
        "  print(captions[0][0])\n",
        "  print(captions[24][4])\n",
        "\n",
        "  # TODO: лематизация, мб впилить? Будет более четкий словарь\n",
        "\n",
        "\n",
        "  # word counter\n",
        "  c = Counter()\n",
        "  c['pad_token'] += 100500\n",
        "  for sents in captions:\n",
        "    for sent in sents:\n",
        "      for w in sent.split(' '):\n",
        "        c[w] += 1\n",
        "  # словарик с токенами и их кодом\n",
        "  words_dict = {word:i for i, word in enumerate(c)}\n",
        "\n",
        "  # drop всех, что не вошли в словарь слов \n",
        "  for i in range(len(captions)):\n",
        "    for j in range(len(captions[i])):\n",
        "      # получаем список слов, удаляем из списка те, что недостойны\n",
        "      words = [w for w in captions[i][j].split(' ') if c[w]>=5]\n",
        "      # собираем список в строку, закидываем ее вместо исходной captions\n",
        "      captions[i][j] = ' '.join(words)\n",
        "\n",
        "  print('\\nafter filter by counter')\n",
        "  print(captions[0][0])\n",
        "  print(captions[24][4])\n",
        "\n",
        "  # ищем макс длину, а также массив и словарь длин\n",
        "  len_arr = []\n",
        "  c_len = Counter()\n",
        "  max_l = 0\n",
        "  for sents in captions:\n",
        "    for sent in sents:\n",
        "      len_arr.append(len(sent.split(' ')))\n",
        "      c_len[len(sent.split(' '))] += 1\n",
        "      max_l = max_l if max_l > len(sent.split(' ')) else len(sent.split(' '))\n",
        "  print(max_l)\n",
        "  len_arr = np.array(len_arr)\n",
        "  print(len_arr.mean())\n",
        "  border = int(np.ceil(np.percentile(len_arr, 70)))\n",
        "  print(border)\n",
        "\n",
        "\n",
        "  # стоим гистограммку\n",
        "  plt.rcParams[\"figure.figsize\"] = (20,10)\n",
        "  labels, values = zip(*c_len.items())\n",
        "\n",
        "  indexes = np.arange(len(labels))\n",
        "  width = 1\n",
        "\n",
        "  bar = plt.bar(indexes, values, width)\n",
        "\n",
        "\n",
        "  # докидываем падинги, берем 70й перцентиль как порог\n",
        "  for i in range(len(captions)):\n",
        "    for j in range(len(captions[i])):\n",
        "      delt_len = border - len(captions[i][j].split(' '))\n",
        "      # перед eos засунем pad столько раз, на сколько дельта длины\n",
        "      if delt_len > 0:\n",
        "        if captions[i][j][-1] != ' ':\n",
        "          captions[i][j] += ' '\n",
        "        captions[i][j] = captions[i][j][:-4] + 'pad_token ' * delt_len + 'eos'\n",
        "\n",
        "  print('\\nafter padding')\n",
        "  print(captions[0][0])\n",
        "  print(captions[24][4])\n",
        "  return words_dict\n",
        "# copy() не достаточно, не смотря на это, все равно мешаются исходные данные - нужно пройти циклом и для каждого внутреннего листа создать новый объект\n",
        "captions = []\n",
        "for c in captions_src:\n",
        "    new_sent = list(c)\n",
        "    captions.append(new_sent)\n",
        "\n",
        "words_dicts = test_transforms(captions)"
      ],
      "execution_count": 5,
      "outputs": [
        {
          "output_type": "stream",
          "text": [
            "people shopping in an open market for vegetables .\n",
            "a shoe rack with some shoes and a dog sleeping on them\n",
            "\n",
            "after drop punct\n",
            "people shopping in an open market for vegetables \n",
            "a shoe rack with some shoes and a dog sleeping on them\n",
            "\n",
            "after sos/eos\n",
            "sos people shopping in an open market for vegetables  eos\n",
            "sos a shoe rack with some shoes and a dog sleeping on them eos\n",
            "\n",
            "after filter by counter\n",
            "sos people shopping in an open market for vegetables  eos\n",
            "sos a shoe rack with some shoes and a dog sleeping on them eos\n",
            "59\n",
            "13.243301461699089\n",
            "14\n",
            "\n",
            "after padding\n",
            "sos people shopping in an open market for vegetables  pad_token pad_token pad_token eos\n",
            "sos a shoe rack with some shoes and a dog sleeping on them eos\n"
          ],
          "name": "stdout"
        },
        {
          "output_type": "display_data",
          "data": {
            "image/png": "[encoded data removed]",
            "text/plain": [
              "<Figure size 1440x720 with 1 Axes>"
            ]
          },
          "metadata": {
            "tags": [],
            "needs_background": "light"
          }
        }
      ]
    },
    {
      "cell_type": "markdown",
      "metadata": {
        "id": "D9jdZQ849H3B"
      },
      "source": [
        "Класс и гистограмка и все эти обработки написаны в первую очередь для демонстрации понимания работы с эбедами и классами DataSet, DataLoader"
      ]
    },
    {
      "cell_type": "markdown",
      "metadata": {
        "id": "DfIoZJ3JNO6r"
      },
      "source": [
        "## DataSet and DataLoader"
      ]
    },
    {
      "cell_type": "code",
      "metadata": {
        "colab": {
          "base_uri": "https://localhost:8080/"
        },
        "id": "RIvMj2u54cfs",
        "outputId": "3ec1d468-5e04-49d0-dd2a-f81ce912cb1b"
      },
      "source": [
        "ar = torch.tensor([14, 15252])\n",
        "\n",
        "words = []\n",
        "for word_number in ar:\n",
        "  # get this word from dict\n",
        "  for w in words_dicts:\n",
        "    if words_dicts[w] == word_number:\n",
        "      words.append(w)\n",
        "words"
      ],
      "execution_count": 6,
      "outputs": [
        {
          "output_type": "execute_result",
          "data": {
            "text/plain": [
              "['and', 'lily']"
            ]
          },
          "metadata": {
            "tags": []
          },
          "execution_count": 6
        }
      ]
    },
    {
      "cell_type": "code",
      "metadata": {
        "colab": {
          "base_uri": "https://localhost:8080/"
        },
        "id": "WXQ-pSegdiJo",
        "outputId": "cfb2f73b-d569-43b3-c691-6c3163d14633"
      },
      "source": [
        "class TextAndImageDataset(Dataset):\n",
        "  def __init__(self, captions: list, img_codes: np.array, word_dict):\n",
        "    self.captions = captions\n",
        "    self.img_codes = img_codes\n",
        "    self.words_dict = word_dict\n",
        "\n",
        "  def __getitem__(self, item_index):\n",
        "    text = self._get_text(item_index)\n",
        "    embeds = self._get_embedings(text)\n",
        "    img = self._get_image(item_index)\n",
        "    return {\"text\" : text, \"embeds\": embeds, \"img\": img}\n",
        "\n",
        "  def __len__(self):\n",
        "    return len(self.captions)\n",
        "\n",
        "\n",
        "  def _get_text(self, item_index):\n",
        "    return self.captions[item_index][np.random.randint(5)]\n",
        "\n",
        "  def _get_image(self, item_index):\n",
        "    return self.img_codes[item_index]\n",
        "\n",
        "  def _get_embedings(self, text):\n",
        "    words = text.split(' ')\n",
        "    embeds = np.array([self.words_dict[w] for w in words])[:14]\n",
        "    return embeds\n",
        "\n",
        "# TODO: mb add test?\n",
        "train_size = round(len(captions) * 0.8)\n",
        "train_txt_img_dataset = TextAndImageDataset(captions[:train_size], img_codes[:train_size], words_dicts)\n",
        "valid_txt_img_dataset = TextAndImageDataset(captions[train_size:], img_codes[train_size:], words_dicts)\n",
        "train_txt_img_dataset[0]"
      ],
      "execution_count": 7,
      "outputs": [
        {
          "output_type": "execute_result",
          "data": {
            "text/plain": [
              "{'embeds': array([ 1,  2,  3,  4,  5,  6,  7,  8,  9, 10,  0,  0,  0, 11]),\n",
              " 'img': array([0.3659946 , 0.2016555 , 0.9245725 , ..., 0.00344942, 0.99817497,\n",
              "        1.1091837 ], dtype=float32),\n",
              " 'text': 'sos people shopping in an open market for vegetables  pad_token pad_token pad_token eos'}"
            ]
          },
          "metadata": {
            "tags": []
          },
          "execution_count": 7
        }
      ]
    },
    {
      "cell_type": "code",
      "metadata": {
        "colab": {
          "base_uri": "https://localhost:8080/"
        },
        "id": "-v638IJgV0VI",
        "outputId": "486b6b94-fdd2-4dda-c21a-feefcc85c481"
      },
      "source": [
        "# я искренне ненавижу торчовый лоадер, который подыхает в абсолютно рандомных местах, например когда у меня дедлайн\n",
        "# закодим ему простейшую collate_fn, а парсить как надо будем сами, оставив ему на откуп функцию итератора\n",
        "train_loader = DataLoader(train_txt_img_dataset, batch_size=64, shuffle=True, collate_fn=lambda x: x)\n",
        "valid_loader = DataLoader(valid_txt_img_dataset, batch_size=64, shuffle=True, collate_fn=lambda x: x)\n",
        "print(next(iter(train_loader))[:2])"
      ],
      "execution_count": 8,
      "outputs": [
        {
          "output_type": "stream",
          "text": [
            "[{'text': 'sos a group of men are playing baseball outside  pad_token pad_token pad_token eos', 'embeds': array([  1,  23, 105,  13,  88,  16, 168, 281, 248,  10,   0,   0,   0,\n",
            "        11]), 'img': array([0.42093042, 0.26095992, 0.72297513, ..., 0.29202813, 1.0366824 ,\n",
            "       0.05635927], dtype=float32)}, {'text': 'sos a dark street lit with bright multicolored lights pad_token pad_token pad_token pad_token eos', 'embeds': array([   1,   23,  491,   96,  896,   57,  753, 1579, 1400,    0,    0,\n",
            "          0,    0,   11]), 'img': array([0.6468027 , 0.13087766, 0.11500521, ..., 0.22617574, 0.7783188 ,\n",
            "       0.01990073], dtype=float32)}]\n"
          ],
          "name": "stdout"
        }
      ]
    },
    {
      "cell_type": "code",
      "metadata": {
        "colab": {
          "base_uri": "https://localhost:8080/"
        },
        "id": "KJxySAFmjTP7",
        "outputId": "154e0f26-cf00-4100-c00a-affd0fd4db32"
      },
      "source": [
        "batch = next(iter(train_loader))\n",
        "img_embeds = torch.tensor([x['img'] for x in batch])\n",
        "captions_embed = torch.tensor([x['embeds'] for x in batch])\n",
        "txt = [x['text'] for x in batch]\n",
        "txt\n",
        "captions_embed"
      ],
      "execution_count": 9,
      "outputs": [
        {
          "output_type": "execute_result",
          "data": {
            "text/plain": [
              "['sos a man riding a wave on to of a surfboard  pad_token eos',\n",
              " 'sos a skier in a red and blue jacket traveling upwards on a hill  eos',\n",
              " 'sos a women who is eating a piece of food  pad_token pad_token eos',\n",
              " 'sos several sheep make their way down a rural street  pad_token pad_token eos',\n",
              " 'sos a woman and young child sitting in front of a computer monitor  eos',\n",
              " 'sos food prepared on a clear plate while sitting on a table  eos',\n",
              " 'sos an adult man hugs a stuffed teddy bear  pad_token pad_token pad_token eos',\n",
              " 'sos a picture of a london underground sign and big ben pad_token pad_token eos',\n",
              " 'sos a red vase with an assortment of flowers in it pad_token pad_token eos',\n",
              " 'sos a very large person riding a bike down the street  pad_token eos',\n",
              " 'sos us airways plane moving on a taxi way near its gate at an airport  eos',\n",
              " 'sos a black cat is sleeping on a table full of papers  eos',\n",
              " 'sos a small girl sitting at a table with food and drinks pad_token eos',\n",
              " 'sos pitcher preparing to throw ball at hitter with crowd watching pad_token pad_token eos',\n",
              " 'sos a biker standing next to a motorcycle  near a garage  eos',\n",
              " 'sos a man baseball player getting ready to see a pitch pad_token pad_token eos',\n",
              " 'sos a man and woman posing on a tennis court with tennis rackets  eos',\n",
              " 'sos there were several people out in the surf today with their boards  eos',\n",
              " 'sos a young man jumps his skate board over an obstacle  pad_token eos',\n",
              " 'sos a man is swinging a tennis racket at a game pad_token pad_token eos',\n",
              " 'sos the two horses are eating in the field  pad_token pad_token pad_token eos',\n",
              " 'sos a girl standing on the sidewalk checking her messages on a telephone  eos',\n",
              " 'sos a bathroom is shown tattered and faded paint on the walls  eos',\n",
              " 'sos a man getting a hair cut takes a photo of himself pad_token eos',\n",
              " 'sos a couple of men in aprons standing near food at a table  eos',\n",
              " 'sos a great discussion takes place amongst the skateboarders  pad_token pad_token pad_token eos',\n",
              " 'sos two fighter pilots flying simultaneously in the air pad_token pad_token pad_token pad_token eos',\n",
              " 'sos a person riding a surf board on a wave pad_token pad_token pad_token eos',\n",
              " 'sos a giraffe curiously looking in to a minivan at a wildlife park eos',\n",
              " 'sos a computer arrangement of two monitors  a camera  key board and mouse on a desk  eos',\n",
              " 'sos a classic car painted blue  white and green with a cartoon of an elephant  eos',\n",
              " 'sos two small children holding tennis rackets near each other pad_token pad_token pad_token eos',\n",
              " 'sos a close up of a person holding food with bikes in the background eos',\n",
              " 'sos two zebras grazing in a field where two geese are sitting  eos',\n",
              " 'sos ordering counter at the local doughnut shop and cafe pad_token pad_token pad_token eos',\n",
              " 'sos vases on a table in different colors and designs  pad_token pad_token eos',\n",
              " 'sos two boys are sitting on a park bench with a bag  eos',\n",
              " 'sos a close shot of a bathroom with red towels hung up  eos',\n",
              " 'sos a hot dog and hamburger on a table  pad_token pad_token pad_token eos',\n",
              " 'sos a close up of a cat laying on a number of remote controls eos',\n",
              " 'sos a dog looks up at a small piece of cake  pad_token eos',\n",
              " 'sos there is a man riding a bike that has an umbrella attached to it eos',\n",
              " 'sos a group of kids that are standing in the grass  pad_token eos',\n",
              " 'sos two people walking down a sidewalk during a sunset  pad_token pad_token eos',\n",
              " 'sos skate board lying upside down in small clearing among plants  pad_token eos',\n",
              " 'sos a man that is holding a suitcase in his hand  pad_token eos',\n",
              " 'sos a dimly lit living room with a sofa and other furniture pad_token eos',\n",
              " 'sos a pizza on a table with sausage as a man pulls a slice off the pizza  eos',\n",
              " 'sos a man standing on a surf board in the ocean pad_token pad_token eos',\n",
              " 'sos an old bus motoring down the road with the driver visible  eos',\n",
              " 'sos woman on boat taking photo of a plane  pad_token pad_token pad_token eos',\n",
              " 'sos on a snowy day  horses look over a fence  pad_token eos',\n",
              " 'sos men ride on a cart as horses pull it pad_token pad_token pad_token eos',\n",
              " 'sos a person on a snow board in the air at night  eos',\n",
              " 'sos a laptop computer on a table in a big room  pad_token eos',\n",
              " 'sos a toy train that is on a desk  pad_token pad_token pad_token eos',\n",
              " 'sos port a potty displayed in basement near maintenance belongings  pad_token pad_token eos',\n",
              " 'sos a group of people staring at rows of grass and plants growing eos',\n",
              " 'sos some oranges  apples  and bananas clustered and stacked high pad_token eos',\n",
              " 'sos a woman stands close to a young horse with many onlookers in the background  eos',\n",
              " 'sos a bench on a barren hillside with snowy hills in the background eos',\n",
              " 'sos a person in a field with a kite flying in the sky eos',\n",
              " 'sos a table with a white plate of food that includes broccoli and chicken  eos',\n",
              " 'sos a bunch of veggies are on a plate pad_token pad_token pad_token pad_token eos']"
            ]
          },
          "metadata": {
            "tags": []
          },
          "execution_count": 9
        },
        {
          "output_type": "execute_result",
          "data": {
            "text/plain": [
              "tensor([[    1,    23,    56,    77,    23,   745,    34,   116,    13,    23,\n",
              "           741,    10,     0,    11],\n",
              "        [    1,    23,    39,     4,    23,   194,    14,    53,   195,  1312,\n",
              "          6162,    34,    23,    32],\n",
              "        [    1,    23,   267,    55,    40,   180,    23,   529,    13,   181,\n",
              "            10,     0,     0,    11],\n",
              "        [    1,   111,   591,   391,   383,  1148,    30,    23,  1636,    96,\n",
              "            10,     0,     0,    11],\n",
              "        [    1,    23,   262,    14,   114,   289,   138,     4,   157,    13,\n",
              "            23,   153,  1624,    10],\n",
              "        [    1,   181,  1477,    34,    23,  1033,   291,   172,   138,    34,\n",
              "            23,    70,    10,    11],\n",
              "        [    1,     5,   932,    56,  6671,    23,   196,   371,    92,    10,\n",
              "             0,     0,     0,    11],\n",
              "        [    1,    23,   101,    13,    23,  1573,  4553,   359,    14,   162,\n",
              "          1570,     0,     0,    11],\n",
              "        [    1,    23,   194,   241,    57,     5,  1330,    13,   204,     4,\n",
              "           154,     0,     0,    11],\n",
              "        [    1,    23,    43,    20,    28,    77,    23,   538,    30,    44,\n",
              "            96,    10,     0,    11],\n",
              "        [    1,  2233,  7371,  1199,   219,    34,    23,  3083,  1148,    49,\n",
              "           187,   637,    17,     5],\n",
              "        [    1,    23,    45,   402,    40,   344,    34,    23,    70,    12,\n",
              "            13,  2519,    10,    11],\n",
              "        [    1,    23,   129,   700,   138,    17,    23,    70,    57,   181,\n",
              "            14,  1008,     0,    11],\n",
              "        [    1,  1530,   115,   116,  1190,   581,    17,  3643,    57,    83,\n",
              "            84,     0,     0,    11],\n",
              "        [    1,    23,  2820,    93,   192,   116,    23,   137,    10,    49,\n",
              "            23,  4029,    10,    11],\n",
              "        [    1,    23,    56,   281,   545,   211,   628,   116,   791,    23,\n",
              "          1080,     0,     0,    11],\n",
              "        [    1,    23,    56,    14,   262,   930,    34,    23,   544,   549,\n",
              "            57,   544,  3215,    10],\n",
              "        [    1,   362,  2830,   111,     2,   506,     4,    44,   746,  2139,\n",
              "            57,   383,   978,    10],\n",
              "        [    1,    23,   114,    56,  1149,    72,    79,   500,   593,     5,\n",
              "          5658,    10,     0,    11],\n",
              "        [    1,    23,    56,    40,  1083,    23,   544,   546,    17,    23,\n",
              "           478,     0,     0,    11],\n",
              "        [    1,    44,    87,   382,    16,   180,     4,    44,    64,    10,\n",
              "             0,     0,     0,    11],\n",
              "        [    1,    23,   700,    93,    34,    44,   199,  1810,   624,  1811,\n",
              "            34,    23,   625,    10],\n",
              "        [    1,    23,   120,    40,    41,  3331,    14,  4100,   135,    34,\n",
              "            44,   128,    10,    11],\n",
              "        [    1,    23,    56,   211,    23,   918,   712,  2027,    23,    86,\n",
              "            13,  1050,     0,    11],\n",
              "        [    1,    23,    60,    13,    88,     4,  2310,    93,    49,   181,\n",
              "            17,    23,    70,    10],\n",
              "        [    1,    23,  3925,  7870,  2027,  1140,  1472,    44,  1602,    10,\n",
              "             0,     0,     0,    11],\n",
              "        [    1,    87,  1943,  4429,   307, 17208,     4,    44,    18,     0,\n",
              "             0,     0,     0,    11],\n",
              "        [    1,    23,    28,    77,    23,   746,   500,    34,    23,   745,\n",
              "             0,     0,     0,    11],\n",
              "        [    1,    23,   179,   559,    52,     4,   116,    23,  9465,    17,\n",
              "            23,  4192,   692,    11],\n",
              "        [    1,    23,   153,   705,    13,    87,  3525,    10,    23,   233,\n",
              "            10,  4941,   500,    14],\n",
              "        [    1,    23,  2338,   894,   124,    53,    10,    46,    14,   272,\n",
              "            57,    23,  3850,    13],\n",
              "        [    1,    87,   129,   449,    50,   544,  3215,    49,   107,   108,\n",
              "             0,     0,     0,    11],\n",
              "        [    1,    23,   118,   184,    13,    23,    28,    50,   181,    57,\n",
              "           562,     4,    44,   310],\n",
              "        [    1,    87,   517,   270,     4,    23,    64,   275,    87,  2189,\n",
              "            16,   138,    10,    11],\n",
              "        [    1, 10328,   902,    17,    44,  1953,  1123,    26,    14,  2085,\n",
              "             0,     0,     0,    11],\n",
              "        [    1,   785,    34,    23,    70,     4,   244,   769,    14,  2167,\n",
              "            10,     0,     0,    11],\n",
              "        [    1,    87,  1182,    16,   138,    34,    23,   692,   714,    57,\n",
              "            23,  1061,    10,    11],\n",
              "        [    1,    23,   118,  1263,    13,    23,   120,    57,   194,  3933,\n",
              "          2662,   184,    10,    11],\n",
              "        [    1,    23,   966,    47,    14,  2595,    34,    23,    70,    10,\n",
              "             0,     0,     0,    11],\n",
              "        [    1,    23,   118,   184,    13,    23,   402,    59,    34,    23,\n",
              "           149,    13,   164,  2936],\n",
              "        [    1,    23,    47,   587,   184,    17,    23,   129,   529,    13,\n",
              "           446,    10,     0,    11],\n",
              "        [    1,   362,    40,    23,    56,    77,    23,   538,    62,   134,\n",
              "             5,  1039,  1233,   116],\n",
              "        [    1,    23,   105,    13,   445,    62,    16,    93,     4,    44,\n",
              "           143,    10,     0,    11],\n",
              "        [    1,    87,     2,   416,    30,    23,   199,   943,    23,  2008,\n",
              "            10,     0,     0,    11],\n",
              "        [    1,    79,   500,   406,  1076,    30,     4,   129,   465,   913,\n",
              "           986,    10,     0,    11],\n",
              "        [    1,    23,    56,    62,    40,    50,    23,  1065,     4,    72,\n",
              "           178,    10,     0,    11],\n",
              "        [    1,    23,  1571,   896,   217,   167,    57,    23,  1516,    14,\n",
              "           108,   410,     0,    11],\n",
              "        [    1,    23,   669,    34,    23,    70,    57,  1246,    71,    23,\n",
              "            56,  2046,    23,   665],\n",
              "        [    1,    23,    56,    93,    34,    23,   746,   500,     4,    44,\n",
              "           742,     0,     0,    11],\n",
              "        [    1,     5,   100,   375,  8109,    30,    44,   102,    57,    44,\n",
              "          2954,  3604,    10,    11],\n",
              "        [    1,   262,    34,   208,    42,    86,    13,    23,  1199,    10,\n",
              "             0,     0,     0,    11],\n",
              "        [    1,    34,    23,    33,   250,    10,   382,   421,   593,    23,\n",
              "           648,    10,     0,    11],\n",
              "        [    1,    88,  2102,    34,    23,  1908,    71,   382,  3883,   154,\n",
              "             0,     0,     0,    11],\n",
              "        [    1,    23,    28,    34,    23,    35,   500,     4,    44,    18,\n",
              "            17,   892,    10,    11],\n",
              "        [    1,    23,   875,   153,    34,    23,    70,     4,    23,   162,\n",
              "           167,    10,     0,    11],\n",
              "        [    1,    23,   283,   503,    62,    40,    34,    23,   152,    10,\n",
              "             0,     0,     0,    11],\n",
              "        [    1,  2769,    23,  4674,   142,     4,  5823,    49,  4437,  3583,\n",
              "            10,     0,     0,    11],\n",
              "        [    1,    23,   105,    13,     2,   236,    17,  2159,    13,   143,\n",
              "            14,   986,  2726,    11],\n",
              "        [    1,   210,  1350,    10,  1017,    10,    14,   296,  5286,    14,\n",
              "           358,   550,     0,    11],\n",
              "        [    1,    23,   262,    48,   118,   116,    23,   114,   390,    57,\n",
              "           247,   316,     4,    44],\n",
              "        [    1,    23,   714,    34,    23,   836,   594,    57,    33,  1444,\n",
              "             4,    44,   310,    11],\n",
              "        [    1,    23,    28,     4,    23,    64,    57,    23,  1471,   307,\n",
              "             4,    44,   317,    11],\n",
              "        [    1,    23,    70,    57,    23,    46,   291,    13,   181,    62,\n",
              "           485,   431,    14,   675],\n",
              "        [    1,    23,   443,    13,   678,    16,    34,    23,   291,     0,\n",
              "             0,     0,     0,    11]])"
            ]
          },
          "metadata": {
            "tags": []
          },
          "execution_count": 9
        }
      ]
    },
    {
      "cell_type": "markdown",
      "metadata": {
        "id": "RwcAx2BE54We"
      },
      "source": [
        "Вроде похоже на правду "
      ]
    },
    {
      "cell_type": "markdown",
      "metadata": {
        "id": "leHdzi4ntmOz"
      },
      "source": [
        "### 2. Напишем свою сетку из RNN для вывода описаний\n"
      ]
    },
    {
      "cell_type": "markdown",
      "metadata": {
        "id": "Sex8iMc_yHpG"
      },
      "source": [
        "### Model"
      ]
    },
    {
      "cell_type": "markdown",
      "metadata": {
        "id": "q9NKJKlNJPRE"
      },
      "source": [
        "Сейчас мы напишем сеть, которая будет получать выходы CNN-сетки (эмбеддинги картинок) и преобразовывать их в текст."
      ]
    },
    {
      "cell_type": "code",
      "metadata": {
        "id": "ntPP9z6aC1B6"
      },
      "source": [
        ""
      ],
      "execution_count": 9,
      "outputs": []
    },
    {
      "cell_type": "code",
      "metadata": {
        "id": "hbVxhzvhyOi5"
      },
      "source": [
        "class CaptionNet(nn.Module):\n",
        "    def __init__(self, embed_size, hidden_size, vocab_size):\n",
        "        super(CaptionNet, self).__init__()\n",
        "        \n",
        "        # init\n",
        "        self.embed_size = embed_size\n",
        "        self.hidden_size = hidden_size\n",
        "        self.vocab_size = vocab_size\n",
        "        \n",
        "    \n",
        "        # 1. линейные слои для преобразования эмбеддиинга картинки в начальные состояния h0 и c0 LSTM-ки не нужны, заполним их empty\n",
        "      \n",
        "\n",
        "        self.fc_out = nn.Linear(in_features=self.hidden_size, out_features=self.vocab_size)\n",
        "    \n",
        "        # 2. слой эмбедднга вокруг текста\n",
        "        self.embed = nn.Embedding(num_embeddings=self.vocab_size, embedding_dim=self.embed_size)\n",
        "\n",
        "\n",
        "        # 3. 1 или несколько LSTM слоев (для начала не берите больше двух, чтобы долго не ждать)\n",
        "        self.lstm_cell = nn.LSTMCell(input_size=embed_size, hidden_size=hidden_size)\n",
        "    \n",
        "        # 4. Посчитаем выходы\n",
        "        # self.softmax = nn.Softmax(dim=vocab_size)\n",
        "    \n",
        "    def forward(self, features, captions, mode = 'train', words_capt = 14, teacher_forcing_rate = 1):\n",
        "        \"\"\" \n",
        "        Apply the network in training mode. \n",
        "        :param image_vectors: torch tensor, содержащий выходы inseption. Те, из которых будем генерить текст\n",
        "                shape: [batch, cnn_feature_size]\n",
        "        :param captions_ix: \n",
        "                таргет описания картинок в виде матрицы\n",
        "        :returns: логиты для сгенерированного текста описания, shape: [batch, word_i, n_tokens]\n",
        "\n",
        "        Обратите внимание, что мы подаем сети на вход сразу все префиксы описания \n",
        "        и просим ее к каждому префиксу сгенерировать следующее слово!\n",
        "        \"\"\"\n",
        "\n",
        "        batch_size = features.size(0)\n",
        "        \n",
        "        # 1. инициализируем LSTM state\n",
        "        hidden_state = torch.zeros((batch_size, self.hidden_size)).cuda()\n",
        "        cell_state = torch.zeros((batch_size, self.hidden_size)).cuda()\n",
        "    \n",
        "        # define the output tensor placeholder\n",
        "        outputs = torch.empty((batch_size, captions.size(1), self.vocab_size)).cuda() if mode == 'train' else \\\n",
        "          torch.empty((batch_size, words_capt, self.vocab_size)).cuda()\n",
        "\n",
        "        captions_embed = self.embed(captions) # embed the captions\n",
        "        \n",
        "        # трейн - фича форсинг\n",
        "        if mode == 'train':\n",
        "          for t in range(captions.size(1)):\n",
        "\n",
        "              if t == 0:\n",
        "                  hidden_state, cell_state = self.lstm_cell(features, (hidden_state, cell_state))\n",
        "              else:\n",
        "                  # решаем, сработает ли teacher forcing на этом шаге\n",
        "                  if np.random.uniform() > teacher_forcing_rate:\n",
        "                    prev_word = torch.argmax(outputs[:, t-1, :], dim=1)\n",
        "                    embed_prev_word = self.embed(prev_word)\n",
        "                    hidden_state, cell_state = self.lstm_cell(embed_prev_word, (hidden_state, cell_state))\n",
        "                  else:\n",
        "                    hidden_state, cell_state = self.lstm_cell(captions_embed[:, t, :], (hidden_state, cell_state))\n",
        "              out = self.fc_out(hidden_state)\n",
        "              outputs[:, t, :] = out\n",
        "\n",
        "\n",
        "        # а тут будем всегда генерить слово по прошлому + картинке\n",
        "        else:\n",
        "          for t in range(words_capt):\n",
        "\n",
        "            # первое слово по картинке\n",
        "            if t == 0:\n",
        "                hidden_state, cell_state = self.lstm_cell(features, (hidden_state, cell_state))\n",
        "                \n",
        "            # второе и дальше - из аутпута\n",
        "            else:\n",
        "                prev_word = torch.argmax(outputs[:, t-1, :])\n",
        "                embed_prev_word = self.embed(prev_word).unsqueeze(0)\n",
        "                hidden_state, cell_state = self.lstm_cell(embed_prev_word, (hidden_state, cell_state))\n",
        "            \n",
        "            # output of the attention mechanism\n",
        "            out = self.fc_out(hidden_state)\n",
        "            \n",
        "            # build the output tensor\n",
        "            outputs[:, t, :] = out\n",
        "\n",
        "    \n",
        "        return outputs\n",
        "\n",
        "    def sample(self, inputs):\n",
        "        \" отдельная функция для семплинга \"\n",
        "        output = []\n",
        "        # print(f'inputs.shape: {inputs.shape}')\n",
        "        batch_size = inputs.shape[0] # batch_size is 1 at inference, inputs shape : (1, 1, embed_size)\n",
        "        hidden = (torch.zeros((batch_size, self.hidden_size)).cuda(), torch.zeros((batch_size, self.hidden_size)).cuda())\n",
        "        # hidden = self.init_hidden(batch_size) # init state\n",
        "    \n",
        "        counter, max_sent_len = 0, 30\n",
        "        while True:\n",
        "            lstm_out, hidden = self.lstm_cell(inputs, (hidden[0], hidden[1])) # lstm_out shape : (1, 1, hidden_size)\n",
        "            outputs = self.fc_out(lstm_out)  # outputs shape : (1, 1, vocab_size)\n",
        "            outputs = outputs.squeeze(1) # outputs shape : (1, vocab_size)\n",
        "            _, max_indice = torch.max(outputs, dim=1) # predict the most likely next word, max_indice shape : (1)\n",
        "            \n",
        "            output.append(max_indice.cpu().numpy()[0].item()) # storing the word predicted\n",
        "            \n",
        "            # проверка на предикт конца предложения\n",
        "            if (max_indice == words_dicts['eos']) or counter > max_sent_len:\n",
        "                break\n",
        "            \n",
        "            inputs = self.embed(max_indice) # inputs shape : (1, embed_size)\n",
        "            # FUCKING HUCK?\n",
        "            hidden = (lstm_out, hidden) # hidden shape (1*hiden_size) -> ((1*vocab_size), (1*hidden))\n",
        "\n",
        "\n",
        "            counter += 1\n",
        "        return output\n",
        "\n",
        "    def init_hidden(self, batch_size):\n",
        "        return (torch.zeros((1, batch_size, self.hidden_size), device=device), \\\n",
        "                torch.zeros((1, batch_size, self.hidden_size), device=device))\n",
        "        "
      ],
      "execution_count": 10,
      "outputs": []
    },
    {
      "cell_type": "markdown",
      "metadata": {
        "id": "mBimDp7krZWu"
      },
      "source": [
        "### Model 2"
      ]
    },
    {
      "cell_type": "markdown",
      "metadata": {
        "id": "iFTrZdCzjXCQ"
      },
      "source": [
        "Толи чукча не дип-лернер, толи перемудрил с моделью - но она наотрез отказывается инференсить, вывод 1го слова зацикленно(.       \n",
        "Переписал. Теперь лосы не сходятся, лол.    \n",
        "Но я упорный, соберу из них что-то рабочее."
      ]
    },
    {
      "cell_type": "code",
      "metadata": {
        "id": "4mAkLlxprarA"
      },
      "source": [
        "class DecoderRNN(nn.Module):\n",
        "    def __init__(self, embed_size, hidden_size, vocab_size, num_layers=1, drop_prob=0.2):\n",
        "        super(DecoderRNN, self).__init__()\n",
        "        self.hidden_size = hidden_size\n",
        "\n",
        "        # слои\n",
        "        self.lstm = nn.LSTM(embed_size, self.hidden_size ,num_layers,batch_first=True)\n",
        "        self.dropout = nn.Dropout(drop_prob)\n",
        "        self.embed = nn.Embedding(vocab_size, embed_size)\n",
        "        self.linear = nn.Linear(hidden_size, vocab_size)\n",
        "\n",
        "        # дайте Шума!\n",
        "        self.embed.weight.data.uniform_(-0.1, 0.1)\n",
        "        self.linear.weight.data.uniform_(-0.1, 0.1)\n",
        "        self.linear.bias.data.fill_(0)\n",
        "    \n",
        "    def forward(self, features, captions, teacher_forcing_rate=None, mode=None, words_capt=None,):\n",
        "      \n",
        "        embeddings = self.embed(captions)\n",
        "        features = features.unsqueeze(1)\n",
        "        embeddings = torch.cat((features, embeddings[:, :-1,:]), dim=1)\n",
        "        hiddens, c = self.lstm(embeddings)\n",
        "        outputs = self.linear(hiddens)\n",
        "        return outputs\n",
        "\n",
        "    def sample(self, inputs):\n",
        "        \" отдельная функция для семплинга \"\n",
        "        output = []\n",
        "        # print(f'inputs.shape: {inputs.shape}')\n",
        "        batch_size = inputs.shape[0] # batch_size is 1 at inference, inputs shape : (1, 1, embed_size)\n",
        "        hidden = (torch.zeros((1, batch_size, self.hidden_size), device=device), \\\n",
        "                torch.zeros((1, batch_size, self.hidden_size), device=device)) # init state\n",
        "    \n",
        "        counter, max_sent_len = 0, 30\n",
        "        while True:\n",
        "            # print(f'inputs.shape: {inputs.shape} hidden.shape: {hidden.shape}')\n",
        "            lstm_out, hidden = self.lstm(inputs, hidden) # lstm_out shape : (1, 1, hidden_size)\n",
        "            outputs = self.linear(lstm_out)  # outputs shape : (1, 1, vocab_size)\n",
        "            # print(f'lstm out got. len(hidden): {len(hidden)}')\n",
        "            outputs = outputs.squeeze(1) # outputs shape : (1, vocab_size)\n",
        "            _, max_indice = torch.max(outputs, dim=1) # predict the most likely next word, max_indice shape : (1)\n",
        "            \n",
        "            output.append(max_indice.cpu().numpy()[0].item()) # storing the word predicted\n",
        "            \n",
        "            # проверка на предикт конца предложения\n",
        "            if (max_indice == words_dicts['eos']) or counter > max_sent_len:\n",
        "                break\n",
        "            \n",
        "            ## Prepare to embed the last predicted word to be the new input of the lstm\n",
        "            inputs = self.embed(max_indice) # inputs shape : (1, embed_size)\n",
        "            inputs = inputs.unsqueeze(1) # inputs shape : (1, 1, embed_size)\n",
        "            counter += 1\n",
        "        return output"
      ],
      "execution_count": 11,
      "outputs": []
    },
    {
      "cell_type": "markdown",
      "metadata": {
        "id": "AsgsBv1xkah7"
      },
      "source": [
        "### Loss"
      ]
    },
    {
      "cell_type": "code",
      "metadata": {
        "id": "2-iUiagykcIj"
      },
      "source": [
        "def compute_loss(network, image_vectors, captions_ix):\n",
        "    \"\"\"\n",
        "    :param image_vectors: torch tensor c выходами inception. shape: [batch, cnn_feature_size]\n",
        "    :param captions_ix: torch tensor с описаниями (в виде матрицы). shape: [batch, word_i]. \n",
        "    \n",
        "    :returns: scalar crossentropy loss (neg log likelihood) for next captions_ix given previous ones\n",
        "    \"\"\"\n",
        "    # реализуйте стандартный cross entropy loss: итоговый лосс есть сумма лоссов для каждого слова. \n",
        "    # 1. Получаем логиты, прогоняя image_vectors через сеть\n",
        "    # 2. Вычисляем лосс-функцию между полученными логитами и captions_ix. Будьте внимательны: \n",
        "    # вычисляйте лосс между логитами, полученными из сети, и соответствующими им значениями из captions_ix!\n",
        "    \n",
        "    # ВАЖНО: не забудтье, что PADDING не должен влиять на лосс -- лосс должен склыдваться\n",
        "    # только из тех мест, где должно быть предсказано слово, а не PAD\n",
        "    # это можно сделать либо заведя маску из нулей и единиц (captions_ix_next != pad_ix) и умножить на нее лосс,\n",
        "    # либо просто используя ignore_index, который в торче есть как аргумент у некоторых лоссов.\n",
        "    \n",
        "    loss = 10500\n",
        "    \n",
        "    return loss\n",
        "\n",
        "    # Оу, я думал тут просто кросс энтропию реализовать и скипнул вначале(\n",
        "    # Ваще это какая-то совсем темная магия, писать модель-специфик лосс, принимающий сетку и заточненый под ее векторы)\n",
        "    # Посути, весь такой функционал у меня инкапсулируется в трейн-функции, я бы за радость его тут расписал, но не успеваю(\n",
        "    # В выхи, как засяду за бота - обяз запилю его\n",
        "\n",
        "    # logits = network(image_vectors, caption_ix)\n"
      ],
      "execution_count": 12,
      "outputs": []
    },
    {
      "cell_type": "markdown",
      "metadata": {
        "id": "R_5hPH4LtmO-"
      },
      "source": [
        "## Train and eval method"
      ]
    },
    {
      "cell_type": "markdown",
      "metadata": {
        "id": "0N0Elg2gJuyW"
      },
      "source": [
        "Как обычно, пишем цикл тренировки, запоминаем лоссы для графиков и раз в Х такстов тренировки считаем val_loss. "
      ]
    },
    {
      "cell_type": "code",
      "metadata": {
        "id": "oNb5JPGvtmO_"
      },
      "source": [
        "def train(decoder, trainloader, validloader, optimizer, criterion, vocab_size, n_ep = 10,\n",
        "          teacher_forcing_rate=1):\n",
        "  prev_borded = 0\n",
        "  ep_loses, ep_val_losses = [], []\n",
        "  for epoch in range(1, n_ep+1):\n",
        "      decoder.train()\n",
        "      counter = 0\n",
        "      losses = []\n",
        "      for batch in trainloader:\n",
        "          # handle batch\n",
        "          images_embed = torch.tensor([x['img'] for x in batch]).to(device)\n",
        "          captions_embed =  torch.tensor([x['embeds'] for x in batch]).to(device)\n",
        "          outputs = decoder(features=images_embed, captions=captions_embed, teacher_forcing_rate=teacher_forcing_rate)\n",
        "          # debug\n",
        "          # print(f'images_embed.shape: {images_embed.shape}')\n",
        "          # print(f'outputs shape: {outputs.shape}, outputs.view(-1, vocab_size) shape: {outputs.view(-1, vocab_size).shape}')\n",
        "          # print(f'captions_embed shape: {captions_embed.shape}, captions_embed.contiguous().view(-1 shape: {captions_embed.contiguous().view(-1).shape}')\n",
        "          # break\n",
        "\n",
        "          # лосы\n",
        "          loss = criterion(outputs.view(-1, vocab_size), captions_embed.contiguous().view(-1))\n",
        "          loss.backward()\n",
        "          losses.append(loss.item())\n",
        "\n",
        "          optimizer.step()\n",
        "          \n",
        "\n",
        "          \n",
        "          # стата\n",
        "          if counter % 185 == 0:\n",
        "          # - - - Валидация - - -\n",
        "            val_losses = []\n",
        "            with torch.no_grad():\n",
        "                # кароч мы хотим проскорить весь validloader тут\n",
        "                decoder.eval()\n",
        "                for batch_val in validloader:\n",
        "\n",
        "                  images_embed_val = torch.tensor([x['img'] for x in batch_val]).to(device)\n",
        "                  captions_embed_val =  torch.tensor([x['embeds'] for x in batch_val]).to(device)\n",
        "                  outputs_val = decoder(features=images_embed_val, captions=captions_embed_val, teacher_forcing_rate=teacher_forcing_rate)\n",
        "                  val_loss = criterion(outputs_val.view(-1, vocab_size), captions_embed_val.contiguous().view(-1))\n",
        "                  val_losses.append(val_loss.item())\n",
        "                  \n",
        "\n",
        "                  # прикрутим инференс к валидации\n",
        "                  # print(f'orig caption: {}')\n",
        "                  # text_valids = [x['text']]\n",
        "                  # model_caption = caption_from_vec(x['img'])\n",
        "            mean_loss_ep = np.array(losses).mean()\n",
        "            mean_val_loss_ep = np.array(val_losses).mean()  \n",
        "            ep_loses.append(mean_loss_ep)\n",
        "            ep_val_losses.append(mean_val_loss_ep)\n",
        "            losses = []\n",
        "\n",
        "            print('Epoch: {}, Train loss: {}, Valid loss: {}'.format(epoch, mean_loss_ep, mean_val_loss_ep))\n",
        "            decoder.train()\n",
        "          counter += 1\n",
        "  return ep_loses, ep_val_losses"
      ],
      "execution_count": 13,
      "outputs": []
    },
    {
      "cell_type": "markdown",
      "metadata": {
        "id": "k15wfc4DH3As"
      },
      "source": [
        "### Eval"
      ]
    },
    {
      "cell_type": "code",
      "metadata": {
        "id": "Q3yObq3HjxJ5"
      },
      "source": [
        "def caption_from_vec(img_ebmeds, model):\n",
        "      with torch.no_grad():\n",
        "        captions_embed = torch.tensor([[1]]) # нам все равно, че кинуть в сетку - мы генерим фразу с 0\n",
        "        outputs = model(features=img_ebmeds.to(device), captions=captions_embed.to(device), mode='eval')\n",
        "\n",
        "        words_tensor = torch.argmax(outputs, 2)\n",
        "        print(words_tensor.shape, words_tensor)\n",
        "        words = []\n",
        "        for word_number in words_tensor.squeeze().cpu().numpy():\n",
        "          for w in words_dicts:\n",
        "            if words_dicts[w] == word_number:\n",
        "              words.append(w)\n",
        "\n",
        "      return words"
      ],
      "execution_count": 14,
      "outputs": []
    },
    {
      "cell_type": "code",
      "metadata": {
        "id": "IodfkwsauV5g"
      },
      "source": [
        "def caption_from_vec_2(img_embeds, model):\n",
        "    features = img_embeds.unsqueeze(0).to(device)\n",
        "    print(f'features.shape: {features.shape}')\n",
        "    output = model.sample(features) \n",
        "    # print(len(output))\n",
        "    sentence = []\n",
        "    for iw in output:\n",
        "      for word in words_dicts:\n",
        "        if words_dicts[word] == iw:\n",
        "          sentence.append(word)\n",
        "          break\n",
        "    return sentence\n",
        "    # print(sentence)\n",
        "\n",
        "# caption_from_vec_2(torch.tensor(img_codes[0]).unsqueeze(0),model_D)"
      ],
      "execution_count": 15,
      "outputs": []
    },
    {
      "cell_type": "code",
      "metadata": {
        "id": "iJIg2fDVGyU2"
      },
      "source": [
        "def test_caption(img_and_capt_number, model):\n",
        "  # print(torch.tensor(img_codes[img_and_capt_number]).shape)\n",
        "  result = caption_from_vec_2(torch.tensor(img_codes[img_and_capt_number]).unsqueeze(0), model)\n",
        "  # print(result)\n",
        "  # print('\\n'.join(captions_src[img_and_capt_number]))\n",
        "\n",
        "# test_caption(3, model_D)"
      ],
      "execution_count": 16,
      "outputs": []
    },
    {
      "cell_type": "markdown",
      "metadata": {
        "id": "v_LDHN4PH4lq"
      },
      "source": [
        "## Add WB"
      ]
    },
    {
      "cell_type": "markdown",
      "metadata": {
        "id": "yx_nhBB6ihaO"
      },
      "source": [
        "Кароч тут я впиливаю Wandb.ai - крутая штука для логинга экспериментов, но я его тащу не во все проекты, ибо это уже делает проектик не таким уж легким.   \n",
        "Принял стратигическое решение не трогать прошлый трейн и особо не чистить тетрадку - чтобы был наглядный пример как впилить его в уже рабочий проект."
      ]
    },
    {
      "cell_type": "code",
      "metadata": {
        "id": "WullcR7VH914"
      },
      "source": [
        "%%capture\n",
        "!pip install wandb --upgrade"
      ],
      "execution_count": 17,
      "outputs": []
    },
    {
      "cell_type": "code",
      "metadata": {
        "colab": {
          "base_uri": "https://localhost:8080/",
          "height": 162
        },
        "id": "hdsODeSbH9gt",
        "outputId": "10b377f5-19d2-445e-8cec-668e16bbaaee"
      },
      "source": [
        "import wandb\n",
        "wandb.login()"
      ],
      "execution_count": 18,
      "outputs": [
        {
          "output_type": "stream",
          "text": [
            "/usr/local/lib/python3.7/dist-packages/requests/__init__.py:91: RequestsDependencyWarning: urllib3 (1.26.6) or chardet (3.0.4) doesn't match a supported version!\n",
            "  RequestsDependencyWarning)\n"
          ],
          "name": "stderr"
        },
        {
          "output_type": "display_data",
          "data": {
            "application/javascript": [
              "\n",
              "        window._wandbApiKey = new Promise((resolve, reject) => {\n",
              "            function loadScript(url) {\n",
              "            return new Promise(function(resolve, reject) {\n",
              "                let newScript = document.createElement(\"script\");\n",
              "                newScript.onerror = reject;\n",
              "                newScript.onload = resolve;\n",
              "                document.body.appendChild(newScript);\n",
              "                newScript.src = url;\n",
              "            });\n",
              "            }\n",
              "            loadScript(\"https://cdn.jsdelivr.net/npm/postmate/build/postmate.min.js\").then(() => {\n",
              "            const iframe = document.createElement('iframe')\n",
              "            iframe.style.cssText = \"width:0;height:0;border:none\"\n",
              "            document.body.appendChild(iframe)\n",
              "            const handshake = new Postmate({\n",
              "                container: iframe,\n",
              "                url: 'https://wandb.ai/authorize'\n",
              "            });\n",
              "            const timeout = setTimeout(() => reject(\"Couldn't auto authenticate\"), 5000)\n",
              "            handshake.then(function(child) {\n",
              "                child.on('authorize', data => {\n",
              "                    clearTimeout(timeout)\n",
              "                    resolve(data)\n",
              "                });\n",
              "            });\n",
              "            })\n",
              "        });\n",
              "    "
            ],
            "text/plain": [
              "<IPython.core.display.Javascript object>"
            ]
          },
          "metadata": {
            "tags": []
          }
        },
        {
          "output_type": "stream",
          "text": [
            "\u001b[34m\u001b[1mwandb\u001b[0m: You can find your API key in your browser here: https://wandb.ai/authorize\n"
          ],
          "name": "stderr"
        },
        {
          "output_type": "stream",
          "text": [
            "wandb: Paste an API key from your profile and hit enter: ··········\n"
          ],
          "name": "stdout"
        },
        {
          "output_type": "stream",
          "text": [
            "\u001b[34m\u001b[1mwandb\u001b[0m: Appending key for api.wandb.ai to your netrc file: /root/.netrc\n"
          ],
          "name": "stderr"
        },
        {
          "output_type": "execute_result",
          "data": {
            "text/plain": [
              "True"
            ]
          },
          "metadata": {
            "tags": []
          },
          "execution_count": 18
        }
      ]
    },
    {
      "cell_type": "code",
      "metadata": {
        "id": "ceP0fWprJZbK"
      },
      "source": [
        "# закодим создание модели в функцию\n",
        "def init_and_train_model(config):\n",
        "  with wandb.init(project='image_captioning', config=config):\n",
        "    # ренейм запуска - это супер важно!\n",
        "    run_name = f\"\"\"lstm_layers_{config['num_lstm_layers']}\n",
        "    __hsize_lstm_{config['hidden_size_lstm']}\n",
        "    __n_ep_{config['n_ep']}\n",
        "    __lr_{config['lr']}\"\"\"\n",
        "    # TODO: заплатка, удалить\n",
        "    if 'is_old_model' in config:\n",
        "      run_name = 'old_model__' + run_name\n",
        "      model = CaptionNet(embed_size=2048, hidden_size=config['hidden_size_lstm'], vocab_size=len(words_dicts)).to(device)\n",
        "    else:\n",
        "      model = DecoderRNN(embed_size=2048, hidden_size=config['hidden_size_lstm'], vocab_size=len(words_dicts), \n",
        "                      num_layers=config['num_lstm_layers']).to(device)\n",
        "\n",
        "    wandb.run.name = run_name\n",
        "    wandb.run.save()\n",
        "\n",
        "    optimizer = optim.Adam(model.parameters(), lr=config['lr'])\n",
        "    criterion = nn.CrossEntropyLoss(ignore_index = 0)\n",
        "\n",
        "    losses, valid_losses = train(model, optimizer, criterion, n_ep=config['n_ep'])\n",
        "  return losses, valid_losses"
      ],
      "execution_count": 19,
      "outputs": []
    },
    {
      "cell_type": "code",
      "metadata": {
        "id": "BhFo709JH9LF"
      },
      "source": [
        "# обернем старую функцию трейна в wb - watch вокруг модели и критерия и wandb log\n",
        "def train(model,  optimizer, criterion, vocab_size=len(words_dicts), n_ep = 10,\n",
        "          teacher_forcing_rate=1, trainloader=train_loader, validloader=valid_loader):\n",
        "  best_val_loss = 100500\n",
        "  wandb.watch(model, criterion, log=\"all\", log_freq=10)\n",
        "  ep_loses, ep_val_losses = [], []\n",
        "  for epoch in range(1, n_ep+1):\n",
        "      model.train()\n",
        "      counter = 0\n",
        "      losses = []\n",
        "      for batch in trainloader:\n",
        "          # handle batch\n",
        "          images_embed = torch.tensor([x['img'] for x in batch]).to(device)\n",
        "          captions_embed =  torch.tensor([x['embeds'] for x in batch]).to(device)\n",
        "          outputs = model(features=images_embed, captions=captions_embed, teacher_forcing_rate=teacher_forcing_rate)\n",
        "          # debug\n",
        "          # print(f'images_embed.shape: {images_embed.shape}')\n",
        "          # print(f'outputs shape: {outputs.shape}, outputs.view(-1, vocab_size) shape: {outputs.view(-1, vocab_size).shape}')\n",
        "          # print(f'captions_embed shape: {captions_embed.shape}, captions_embed.contiguous().view(-1 shape: {captions_embed.contiguous().view(-1).shape}')\n",
        "          # break\n",
        "\n",
        "          # лосы\n",
        "          loss = criterion(outputs.view(-1, vocab_size), captions_embed.contiguous().view(-1))\n",
        "          loss.backward()\n",
        "          losses.append(loss.item())\n",
        "\n",
        "          optimizer.step()\n",
        "          \n",
        "\n",
        "          \n",
        "          # стата\n",
        "          if counter % 185 == 0:\n",
        "          # - - - Валидация - - -\n",
        "            val_losses = []\n",
        "            with torch.no_grad():\n",
        "                # кароч мы хотим проскорить весь validloader тут\n",
        "                model.eval()\n",
        "                for batch_val in validloader:\n",
        "\n",
        "                  images_embed_val = torch.tensor([x['img'] for x in batch_val]).to(device)\n",
        "                  captions_embed_val =  torch.tensor([x['embeds'] for x in batch_val]).to(device)\n",
        "                  outputs_val = model(features=images_embed_val, captions=captions_embed_val, teacher_forcing_rate=teacher_forcing_rate)\n",
        "                  val_loss = criterion(outputs_val.view(-1, vocab_size), captions_embed_val.contiguous().view(-1))\n",
        "                  val_losses.append(val_loss.item())\n",
        "                  \n",
        "\n",
        "                  # прикрутим инференс к валидации\n",
        "                  # print(f'orig caption: {}')\n",
        "                  # text_valids = [x['text']]\n",
        "                  # model_caption = caption_from_vec(x['img'])\n",
        "            mean_loss_ep = np.array(losses).mean()\n",
        "            mean_val_loss_ep = np.array(val_losses).mean()  \n",
        "            ep_loses.append(mean_loss_ep)\n",
        "            ep_val_losses.append(mean_val_loss_ep)\n",
        "            losses = []\n",
        "            wandb.log({\"epoch\": epoch, \"train_loss\": mean_loss_ep, \"valid_loss\": mean_val_loss_ep, \"step\": counter})\n",
        "            print('Epoch: {}, Train loss: {}, Valid loss: {}'.format(epoch, mean_loss_ep, mean_val_loss_ep))\n",
        "            # если результаты ок - залогируем модельку\n",
        "            if mean_val_loss_ep < best_val_loss:\n",
        "              best_val_loss = mean_val_loss_ep\n",
        "              torch.save(model.state_dict(), \"model_state_dict.pt\")\n",
        "              wandb.save(\"model_state_dict.pt\")\n",
        "              # wandb.join()\n",
        "            model.train()\n",
        "          counter += 1\n",
        "  return ep_loses, ep_val_losses"
      ],
      "execution_count": 20,
      "outputs": []
    },
    {
      "cell_type": "code",
      "metadata": {
        "colab": {
          "base_uri": "https://localhost:8080/"
        },
        "id": "4hYV_-5ptEnm",
        "outputId": "c96f2682-66d5-4d1b-b3aa-f69775dee47a"
      },
      "source": [
        "def load_model_from_wandb(config):\n",
        "  \"\"\"\n",
        "  кароч это вытаскивает из базы WanDB мой запуск по конфигу, чтоб не держать в голове/переменных ниче не значащие id-ссылки\n",
        "  \"\"\"\n",
        "  # assemble run name\n",
        "  run_name = f\"\"\"lstm_layers_{config['num_lstm_layers']}\n",
        "    __hsize_lstm_{config['hidden_size_lstm']}\n",
        "    __n_ep_{config['n_ep']}\n",
        "    __lr_{config['lr']}\"\"\"\n",
        "  # TODO: заплатка, удалить\n",
        "  if 'is_old_model' in config:\n",
        "    run_name = 'old_model__' + run_name\n",
        "    model = CaptionNet(embed_size=2048, hidden_size=config['hidden_size_lstm'], vocab_size=len(words_dicts)).to(device)\n",
        "  else:\n",
        "    model = DecoderRNN(embed_size=2048, hidden_size=config['hidden_size_lstm'], vocab_size=len(words_dicts), \n",
        "                  num_layers=config['num_lstm_layers']).to(device)\n",
        "\n",
        "\n",
        "  # get id from confing\n",
        "  entity, project = \"aleksey\", \"image_captioning\"\n",
        "  api = wandb.Api()\n",
        "  runs = api.runs(entity + \"/\" + project)\n",
        "  run_id = 0\n",
        "  for r in runs:\n",
        "   if r.name == run_name:\n",
        "     run_id = r.id\n",
        "     break\n",
        "\n",
        "  # get dict from run\n",
        "  filename = 'model_state_dict.pt'\n",
        "  print('Model run find, loading weights..')\n",
        "  model_dict = wandb.restore(filename, run_path=f\"aleksey/image_captioning/runs/{run_id}\")\n",
        "  \n",
        "#   # get model from config and get weights from dict\n",
        "  model.load_state_dict(torch.load(filename))\n",
        "  os.remove(filename)\n",
        "  print('Model weights loaded, redundant files dropped!')\n",
        "\n",
        "  return model\n",
        "\n",
        "config = {\n",
        "    'lr': 0.0001,\n",
        "    'n_ep': 2,\n",
        "    'hidden_size_lstm': 409,\n",
        "    'num_lstm_layers': 1,\n",
        "    # 'is_old_model': True\n",
        "    # 'teacher_forcing_rate' = 1\n",
        "}\n",
        "model_test = load_model_from_wandb(config=config)\n",
        "caption_from_vec_2(torch.tensor(img_codes[0]).unsqueeze(0),model_test)"
      ],
      "execution_count": 21,
      "outputs": [
        {
          "output_type": "stream",
          "text": [
            "Model run find, loading weights..\n",
            "Model weights loaded, redundant files dropped!\n",
            "features.shape: torch.Size([1, 1, 2048])\n"
          ],
          "name": "stdout"
        },
        {
          "output_type": "execute_result",
          "data": {
            "text/plain": [
              "['sos', 'a', 'man', 'is', 'sitting', 'on', 'a', 'table', '', 'eos']"
            ]
          },
          "metadata": {
            "tags": []
          },
          "execution_count": 21
        }
      ]
    },
    {
      "cell_type": "code",
      "metadata": {
        "colab": {
          "base_uri": "https://localhost:8080/"
        },
        "id": "ASoMx9_V5NnS",
        "outputId": "dbe1a620-a961-4c40-9d0e-1c94500d6132"
      },
      "source": [
        "config = {\n",
        "    'lr': 0.0001,\n",
        "    'n_ep': 2,\n",
        "    'hidden_size_lstm': 809,\n",
        "    'num_lstm_layers': 1,\n",
        "    'is_old_model': True\n",
        "    # 'teacher_forcing_rate' = 1\n",
        "}\n",
        "model_test = load_model_from_wandb(config=config)\n",
        "caption_from_vec_2(torch.tensor(img_codes[0]),model_test)"
      ],
      "execution_count": 22,
      "outputs": [
        {
          "output_type": "stream",
          "text": [
            "Model run find, loading weights..\n",
            "Model weights loaded, redundant files dropped!\n",
            "features.shape: torch.Size([1, 2048])\n"
          ],
          "name": "stdout"
        },
        {
          "output_type": "execute_result",
          "data": {
            "text/plain": [
              "['sos',\n",
              " 'eventually',\n",
              " 'eventually',\n",
              " 'selling',\n",
              " 'selling',\n",
              " 'selling',\n",
              " 'selling',\n",
              " 'selling',\n",
              " 'selling',\n",
              " 'selling',\n",
              " 'selling',\n",
              " 'selling',\n",
              " 'selling',\n",
              " 'selling',\n",
              " 'selling',\n",
              " 'selling',\n",
              " 'selling',\n",
              " 'selling',\n",
              " 'selling',\n",
              " 'selling',\n",
              " 'selling',\n",
              " 'selling',\n",
              " 'selling',\n",
              " 'selling',\n",
              " 'selling',\n",
              " 'selling',\n",
              " 'selling',\n",
              " 'selling',\n",
              " 'selling',\n",
              " 'selling',\n",
              " 'selling',\n",
              " 'selling']"
            ]
          },
          "metadata": {
            "tags": []
          },
          "execution_count": 22
        }
      ]
    },
    {
      "cell_type": "code",
      "metadata": {
        "colab": {
          "base_uri": "https://localhost:8080/"
        },
        "id": "fr8sukdg5NwT",
        "outputId": "1a316aa6-2978-4b3f-e49e-9e28469da4d7"
      },
      "source": [
        "config2 = {\n",
        "    'lr': 0.0001,\n",
        "    'n_ep': 2,\n",
        "    'hidden_size_lstm': 409,\n",
        "    'num_lstm_layers': 1,\n",
        "    # 'is_old_model': True\n",
        "    # 'teacher_forcing_rate' = 1\n",
        "}\n",
        "model_test2 = load_model_from_wandb(config=config2)\n",
        "caption_from_vec_2(torch.tensor(img_codes[0]).unsqueeze(0),model_test2)"
      ],
      "execution_count": 23,
      "outputs": [
        {
          "output_type": "stream",
          "text": [
            "Model run find, loading weights..\n",
            "Model weights loaded, redundant files dropped!\n",
            "features.shape: torch.Size([1, 1, 2048])\n"
          ],
          "name": "stdout"
        },
        {
          "output_type": "execute_result",
          "data": {
            "text/plain": [
              "['sos', 'a', 'man', 'is', 'sitting', 'on', 'a', 'table', '', 'eos']"
            ]
          },
          "metadata": {
            "tags": []
          },
          "execution_count": 23
        }
      ]
    },
    {
      "cell_type": "markdown",
      "metadata": {
        "id": "q1fW1tUI9Mwd"
      },
      "source": [
        "### Собсно трейнинг"
      ]
    },
    {
      "cell_type": "code",
      "metadata": {
        "id": "5tLSPH0qI4M1"
      },
      "source": [
        "# вытащим изменяемые параметры в конфиг\n",
        "config = {\n",
        "    'lr': 0.001,\n",
        "    'n_ep': 1,\n",
        "    'hidden_size_lstm': 40,\n",
        "    'num_lstm_layers': 1,\n",
        "    # 'teacher_forcing_rate' = 1\n",
        "}\n",
        "\n",
        "loses_wandb, val_losses_wandb  = init_and_train_model(config)"
      ],
      "execution_count": null,
      "outputs": []
    },
    {
      "cell_type": "code",
      "metadata": {
        "colab": {
          "background_save": true,
          "base_uri": "https://localhost:8080/",
          "height": 336,
          "referenced_widgets": [
            "c42caaa67f29447191bec6797b3bce72"
          ]
        },
        "id": "C-KLbos22G6e",
        "outputId": "0591d6b6-2c4e-4fee-9efb-1e21127bab12"
      },
      "source": [
        "# вытащим изменяемые параметры в конфиг\n",
        "config = {\n",
        "    'lr': 0.0001,\n",
        "    'n_ep': 2,\n",
        "    'hidden_size_lstm': 409,\n",
        "    'num_lstm_layers': 1,\n",
        "    # 'teacher_forcing_rate' = 1\n",
        "}\n",
        "\n",
        "loses_wandb_2, val_losses_wandb_2  = init_and_train_model(config)"
      ],
      "execution_count": null,
      "outputs": [
        {
          "output_type": "display_data",
          "data": {
            "text/html": [
              "\n",
              "                Tracking run with wandb version 0.10.33<br/>\n",
              "                Syncing run <strong style=\"color:#cdcd00\">lunar-yogurt-10</strong> to <a href=\"https://wandb.ai\" target=\"_blank\">Weights & Biases</a> <a href=\"https://docs.wandb.com/integrations/jupyter.html\" target=\"_blank\">(Documentation)</a>.<br/>\n",
              "                Project page: <a href=\"https://wandb.ai/aleksey/image_captioning\" target=\"_blank\">https://wandb.ai/aleksey/image_captioning</a><br/>\n",
              "                Run page: <a href=\"https://wandb.ai/aleksey/image_captioning/runs/1ozwwjre\" target=\"_blank\">https://wandb.ai/aleksey/image_captioning/runs/1ozwwjre</a><br/>\n",
              "                Run data is saved locally in <code>/content/wandb/run-20210715_110643-1ozwwjre</code><br/><br/>\n",
              "            "
            ],
            "text/plain": [
              "<IPython.core.display.HTML object>"
            ]
          },
          "metadata": {
            "tags": []
          }
        },
        {
          "output_type": "stream",
          "text": [
            "\u001b[34m\u001b[1mwandb\u001b[0m: \u001b[33mWARNING\u001b[0m Calling run.save without any arguments is deprecated.Changes to attributes are automatically persisted.\n"
          ],
          "name": "stderr"
        },
        {
          "output_type": "stream",
          "text": [
            "Epoch: 1, Train loss: 10.262636184692383, Valid loss: 10.230929730389569\n",
            "Epoch: 1, Train loss: 6.559943737854828, Valid loss: 5.450633515538396\n",
            "Epoch: 1, Train loss: 4.9678989384625405, Valid loss: 4.76172420398609\n",
            "Epoch: 1, Train loss: 4.580476670651822, Valid loss: 4.4625688707506335\n",
            "Epoch: 1, Train loss: 4.3242884184863115, Valid loss: 4.1858820825009735\n",
            "Epoch: 1, Train loss: 4.115727660462663, Valid loss: 4.027760359403249\n",
            "Epoch: 1, Train loss: 3.9594991116910365, Valid loss: 3.9197803426433255\n",
            "Epoch: 1, Train loss: 3.8594289560575743, Valid loss: 3.821894287418675\n",
            "Epoch: 2, Train loss: 3.824448585510254, Valid loss: 3.7158274966317255\n",
            "Epoch: 2, Train loss: 3.660059173687084, Valid loss: 3.643192416268426\n",
            "Epoch: 2, Train loss: 3.6030379321124104, Valid loss: 3.609384271905229\n",
            "Epoch: 2, Train loss: 3.5615617790737666, Valid loss: 3.552218301876171\n",
            "Epoch: 2, Train loss: 3.5056228302620553, Valid loss: 3.5109159186079695\n",
            "Epoch: 2, Train loss: 3.4849107613434662, Valid loss: 3.4776918147061324\n",
            "Epoch: 2, Train loss: 3.427718292700278, Valid loss: 3.4425128498592894\n",
            "Epoch: 2, Train loss: 3.405610942840576, Valid loss: 3.40637564852431\n"
          ],
          "name": "stdout"
        },
        {
          "output_type": "display_data",
          "data": {
            "text/html": [
              "<br/>Waiting for W&B process to finish, PID 3282<br/>Program ended successfully."
            ],
            "text/plain": [
              "<IPython.core.display.HTML object>"
            ]
          },
          "metadata": {
            "tags": []
          }
        },
        {
          "output_type": "display_data",
          "data": {
            "application/vnd.jupyter.widget-view+json": {
              "model_id": "c42caaa67f29447191bec6797b3bce72",
              "version_major": 2,
              "version_minor": 0
            },
            "text/plain": [
              "VBox(children=(Label(value=' 283.53MB of 283.53MB uploaded (0.00MB deduped)\\r'), FloatProgress(value=1.0, max=…"
            ]
          },
          "metadata": {
            "tags": []
          }
        },
        {
          "output_type": "display_data",
          "data": {
            "text/html": [
              "Find user logs for this run at: <code>/content/wandb/run-20210715_110643-1ozwwjre/logs/debug.log</code>"
            ],
            "text/plain": [
              "<IPython.core.display.HTML object>"
            ]
          },
          "metadata": {
            "tags": []
          }
        },
        {
          "output_type": "display_data",
          "data": {
            "text/html": [
              "Find internal logs for this run at: <code>/content/wandb/run-20210715_110643-1ozwwjre/logs/debug-internal.log</code>"
            ],
            "text/plain": [
              "<IPython.core.display.HTML object>"
            ]
          },
          "metadata": {
            "tags": []
          }
        },
        {
          "output_type": "display_data",
          "data": {
            "text/html": [
              "<h3>Run summary:</h3><br/><style>\n",
              "    table.wandb td:nth-child(1) { padding: 0 10px; text-align: right }\n",
              "    </style><table class=\"wandb\">\n",
              "<tr><td>epoch</td><td>2</td></tr><tr><td>train_loss</td><td>3.40561</td></tr><tr><td>valid_loss</td><td>3.40638</td></tr><tr><td>step</td><td>1295</td></tr><tr><td>_runtime</td><td>1835</td></tr><tr><td>_timestamp</td><td>1626349038</td></tr><tr><td>_step</td><td>16</td></tr></table>"
            ],
            "text/plain": [
              "<IPython.core.display.HTML object>"
            ]
          },
          "metadata": {
            "tags": []
          }
        },
        {
          "output_type": "display_data",
          "data": {
            "text/html": [
              "<h3>Run history:</h3><br/><style>\n",
              "    table.wandb td:nth-child(1) { padding: 0 10px; text-align: right }\n",
              "    </style><table class=\"wandb\">\n",
              "<tr><td>epoch</td><td>▁▁▁▁▁▁▁▁████████</td></tr><tr><td>train_loss</td><td>█▄▃▂▂▂▂▁▁▁▁▁▁▁▁▁</td></tr><tr><td>valid_loss</td><td>█▃▂▂▂▂▂▁▁▁▁▁▁▁▁▁</td></tr><tr><td>step</td><td>▁▂▃▄▅▆▇█▁▂▃▄▅▆▇█</td></tr><tr><td>_runtime</td><td>▁▁▂▂▃▃▄▄▅▅▆▆▆▇▇██</td></tr><tr><td>_timestamp</td><td>▁▁▂▂▃▃▄▄▅▅▆▆▆▇▇██</td></tr><tr><td>_step</td><td>▁▁▂▂▃▃▄▄▅▅▅▆▆▇▇██</td></tr></table><br/>"
            ],
            "text/plain": [
              "<IPython.core.display.HTML object>"
            ]
          },
          "metadata": {
            "tags": []
          }
        },
        {
          "output_type": "display_data",
          "data": {
            "text/html": [
              "Synced 5 W&B file(s), 0 media file(s), 0 artifact file(s) and 1 other file(s)"
            ],
            "text/plain": [
              "<IPython.core.display.HTML object>"
            ]
          },
          "metadata": {
            "tags": []
          }
        },
        {
          "output_type": "display_data",
          "data": {
            "text/html": [
              "\n",
              "                    <br/>Synced <strong style=\"color:#cdcd00\">lunar-yogurt-10</strong>: <a href=\"https://wandb.ai/aleksey/image_captioning/runs/1ozwwjre\" target=\"_blank\">https://wandb.ai/aleksey/image_captioning/runs/1ozwwjre</a><br/>\n",
              "                "
            ],
            "text/plain": [
              "<IPython.core.display.HTML object>"
            ]
          },
          "metadata": {
            "tags": []
          }
        }
      ]
    },
    {
      "cell_type": "code",
      "metadata": {
        "colab": {
          "base_uri": "https://localhost:8080/",
          "height": 1000,
          "referenced_widgets": [
            "711cdc2c36484a208929252053324365",
            "5eb5ec7c80eb4aaa8ec9208f1e450c67",
            "f236bc13c25b42a488de37fbdc09d445",
            "397d7d32736d4698a966b7dc6dcdb691",
            "d8e0206631a84529b7b0a0d2cb1d79a3",
            "fdb25405549a452abfe56ef1ffd34293",
            "c35caa72931049b6b33ddbbc6770af83",
            "31b018e0536344e7905d318504dfa544",
            "094843310098499daaa9e786cb5445fa",
            "17bf4757f39c422e9f27c16c10b3debd",
            "635b51b9fdeb4e629794eef9ee406ab9",
            "92438afbd2f14409955bd48ebb3e8857",
            "efd186d028d24c7b83986f904a7f2297",
            "91fccfed67944b5a93213c589011a3d5",
            "e969f4c546ac48f38d3c17e23b3e52c5",
            "2fa5cb05b66b455a999a4b1fa6d41b49",
            "c50e8bdfc12247a1a9c908f544cd6487",
            "32b7d75565f74a2c9a363b05948d9eaa",
            "f2ec1bffc14a48e8b0ac12100535617c",
            "c984112ddaf14fbca461690fd53d8025",
            "fca03af2a9914ac3bec2ebd3a467caed",
            "054e5120b06a492ba7890f5262aa2af6",
            "c52b9032ff2c4f7aa95dfe7b7bb1225b",
            "1998e2c72d424862b7df2f311747a3e5",
            "8cfb6e052dc8427c87d656e3ffef2b40",
            "b816b0efcaa443518d72f9f51826d56e",
            "f7a7bbbadb0f48fb9a403b0d9b325d6b",
            "65254609461546879db92ff5ecba78c0",
            "b91db54edfcd470bafcc80bcd7b8acfe",
            "21d6e69a5b724705b35b43e1da194dad",
            "1cb9674e1ce74a82b44d2f1086410c3e",
            "0c1033894ce5474fbf471902592f2785",
            "fee9ea713a8a4608906cad82e3b37e6d",
            "87bb82a8a152437b9e813cdc0e50d6ca",
            "67959691fc7043dd8ca6efc1ec423c00",
            "050f99a4972d493bb15ceedbda94ea05",
            "cc3ce35d7cf7488bade1b9c721887125",
            "2336c33cac0b49e48521bdb82cb4193f",
            "06513693ecc8465294c688ba6a2de70e",
            "33d19c106e6d49358aaea5ae24758e22",
            "780d230f7b3b4800a635c4ce7347f9e7",
            "6a61f2867aaa47438056e72e070d2160",
            "7fa11af9a06b432684a664a2907a7c73",
            "d280d63ffb4b47a89baff5a72fbd5283",
            "2c40c00619024ba691da9f29d548cdc2",
            "4546acf5b577401dae110127211ec262",
            "cd196b71c75541bd8b0487f576de1fa2",
            "f81445f768fd4fc98b508c9308e2f357",
            "53353bc2e68441a48f7107019d39ae18",
            "522524dc756c46e89a1369d4c4c6d411",
            "b981014279814d3089bf01fc2df4796a",
            "b9ca8fea0ffb4c1186fbb3d7dc5cb5be",
            "4ee3343c4c914257bfc655e7aa717593",
            "e3d22c7b4f6f49c08cabaa99f23d8dea",
            "1574faee46eb40ed8e9e4c67a65cd0a0",
            "2e29768d43d348f9b58719bd2bac92f9",
            "8fcb00d0335a452289927c56611ece0e",
            "24c00795fc514974861e1dd40911d2a6",
            "d7ee6ce1e0a64e93a0d670917e42b424",
            "63d6e035134d4a83a793323b668c6927",
            "45f7bbe6c65746469efcae0e91d75a8c",
            "dcc534381ba74028b959f997bd929c57",
            "20378c037c8d4fadaff6fbe380bb493e",
            "61867942b66d4e3c9608fc0179478e75"
          ]
        },
        "id": "smxpROln2UvU",
        "outputId": "4c53d12a-1ec4-486e-cdf2-a1cc46f97058"
      },
      "source": [
        "# вытащим изменяемые параметры в конфиг\n",
        "lrs = [0.001, 0.0001]\n",
        "layers = [1, 2]\n",
        "hidden_size_lstm = [410, 820]\n",
        "\n",
        "for lr in lrs:\n",
        "  for layer_n in layers:\n",
        "    for hsize in hidden_size_lstm:\n",
        "      config = {\n",
        "          'lr': lr,\n",
        "          'n_ep': 3,\n",
        "          'hidden_size_lstm': hsize,\n",
        "          'num_lstm_layers': layer_n,\n",
        "          # 'teacher_forcing_rate' = 1\n",
        "      }\n",
        "      loses_wandb_3, val_losses_wandb_3  = init_and_train_model(config)"
      ],
      "execution_count": null,
      "outputs": [
        {
          "output_type": "display_data",
          "data": {
            "text/html": [
              "\n",
              "                Tracking run with wandb version 0.10.33<br/>\n",
              "                Syncing run <strong style=\"color:#cdcd00\">robust-night-12</strong> to <a href=\"https://wandb.ai\" target=\"_blank\">Weights & Biases</a> <a href=\"https://docs.wandb.com/integrations/jupyter.html\" target=\"_blank\">(Documentation)</a>.<br/>\n",
              "                Project page: <a href=\"https://wandb.ai/aleksey/image_captioning\" target=\"_blank\">https://wandb.ai/aleksey/image_captioning</a><br/>\n",
              "                Run page: <a href=\"https://wandb.ai/aleksey/image_captioning/runs/26gbigem\" target=\"_blank\">https://wandb.ai/aleksey/image_captioning/runs/26gbigem</a><br/>\n",
              "                Run data is saved locally in <code>/content/wandb/run-20210715_122817-26gbigem</code><br/><br/>\n",
              "            "
            ],
            "text/plain": [
              "<IPython.core.display.HTML object>"
            ]
          },
          "metadata": {
            "tags": []
          }
        },
        {
          "output_type": "stream",
          "text": [
            "\u001b[34m\u001b[1mwandb\u001b[0m: \u001b[33mWARNING\u001b[0m Calling run.save without any arguments is deprecated.Changes to attributes are automatically persisted.\n"
          ],
          "name": "stderr"
        },
        {
          "output_type": "stream",
          "text": [
            "Epoch: 1, Train loss: 10.26569652557373, Valid loss: 9.958567967285981\n",
            "Epoch: 1, Train loss: 5.275242790015968, Valid loss: 4.444551681827854\n",
            "Epoch: 1, Train loss: 4.282195431477315, Valid loss: 4.2117155764554\n",
            "Epoch: 1, Train loss: 4.184825304392222, Valid loss: 4.17263975916682\n",
            "Epoch: 1, Train loss: 4.215431115433977, Valid loss: 4.271318838403031\n",
            "Epoch: 1, Train loss: 4.319681257814975, Valid loss: 4.334895179078385\n",
            "Epoch: 1, Train loss: 4.359858711345776, Valid loss: 4.458346640741503\n",
            "Epoch: 1, Train loss: 4.4714367621653786, Valid loss: 4.51545948724489\n",
            "Epoch: 2, Train loss: 4.968333721160889, Valid loss: 4.586782813716579\n",
            "Epoch: 2, Train loss: 4.587904049899127, Valid loss: 4.68359778249586\n",
            "Epoch: 2, Train loss: 4.677401893203323, Valid loss: 4.74473222655219\n",
            "Epoch: 2, Train loss: 4.823962260581352, Valid loss: 4.890185137052794\n",
            "Epoch: 2, Train loss: 4.889781127104888, Valid loss: 4.993111111666705\n",
            "Epoch: 2, Train loss: 5.002869807062923, Valid loss: 5.028967831585859\n",
            "Epoch: 2, Train loss: 5.012231311282596, Valid loss: 5.0893051791835475\n",
            "Epoch: 2, Train loss: 5.092450631631388, Valid loss: 5.181504979004731\n",
            "Epoch: 3, Train loss: 4.907342433929443, Valid loss: 5.193865170349946\n",
            "Epoch: 3, Train loss: 5.138245203688338, Valid loss: 5.2228318961890965\n",
            "Epoch: 3, Train loss: 5.1310060320673765, Valid loss: 5.269568066983609\n",
            "Epoch: 3, Train loss: 5.2141151067372915, Valid loss: 5.330363153766942\n",
            "Epoch: 3, Train loss: 5.273346215325433, Valid loss: 5.437260592950357\n",
            "Epoch: 3, Train loss: 5.431112224991257, Valid loss: 5.46468812839405\n",
            "Epoch: 3, Train loss: 5.39868681624129, Valid loss: 5.517850493096017\n",
            "Epoch: 3, Train loss: 5.541493315310092, Valid loss: 5.608312421231656\n"
          ],
          "name": "stdout"
        },
        {
          "output_type": "display_data",
          "data": {
            "text/html": [
              "<br/>Waiting for W&B process to finish, PID 3835<br/>Program ended successfully."
            ],
            "text/plain": [
              "<IPython.core.display.HTML object>"
            ]
          },
          "metadata": {
            "tags": []
          }
        },
        {
          "output_type": "display_data",
          "data": {
            "application/vnd.jupyter.widget-view+json": {
              "model_id": "711cdc2c36484a208929252053324365",
              "version_major": 2,
              "version_minor": 0
            },
            "text/plain": [
              "VBox(children=(Label(value=' 283.68MB of 283.68MB uploaded (0.00MB deduped)\\r'), FloatProgress(value=1.0, max=…"
            ]
          },
          "metadata": {
            "tags": []
          }
        },
        {
          "output_type": "display_data",
          "data": {
            "text/html": [
              "Find user logs for this run at: <code>/content/wandb/run-20210715_122817-26gbigem/logs/debug.log</code>"
            ],
            "text/plain": [
              "<IPython.core.display.HTML object>"
            ]
          },
          "metadata": {
            "tags": []
          }
        },
        {
          "output_type": "display_data",
          "data": {
            "text/html": [
              "Find internal logs for this run at: <code>/content/wandb/run-20210715_122817-26gbigem/logs/debug-internal.log</code>"
            ],
            "text/plain": [
              "<IPython.core.display.HTML object>"
            ]
          },
          "metadata": {
            "tags": []
          }
        },
        {
          "output_type": "display_data",
          "data": {
            "text/html": [
              "<h3>Run summary:</h3><br/><style>\n",
              "    table.wandb td:nth-child(1) { padding: 0 10px; text-align: right }\n",
              "    </style><table class=\"wandb\">\n",
              "<tr><td>epoch</td><td>3</td></tr><tr><td>train_loss</td><td>5.54149</td></tr><tr><td>valid_loss</td><td>5.60831</td></tr><tr><td>step</td><td>1295</td></tr><tr><td>_runtime</td><td>2782</td></tr><tr><td>_timestamp</td><td>1626354879</td></tr><tr><td>_step</td><td>24</td></tr></table>"
            ],
            "text/plain": [
              "<IPython.core.display.HTML object>"
            ]
          },
          "metadata": {
            "tags": []
          }
        },
        {
          "output_type": "display_data",
          "data": {
            "text/html": [
              "<h3>Run history:</h3><br/><style>\n",
              "    table.wandb td:nth-child(1) { padding: 0 10px; text-align: right }\n",
              "    </style><table class=\"wandb\">\n",
              "<tr><td>epoch</td><td>▁▁▁▁▁▁▁▁▅▅▅▅▅▅▅▅████████</td></tr><tr><td>train_loss</td><td>█▂▁▁▁▁▁▁▂▁▂▂▂▂▂▂▂▂▂▂▂▂▂▃</td></tr><tr><td>valid_loss</td><td>█▁▁▁▁▁▁▁▂▂▂▂▂▂▂▂▂▂▂▂▃▃▃▃</td></tr><tr><td>step</td><td>▁▂▃▄▅▆▇█▁▂▃▄▅▆▇█▁▂▃▄▅▆▇█</td></tr><tr><td>_runtime</td><td>▁▁▂▂▂▂▃▃▃▄▄▄▅▅▅▅▆▆▆▇▇▇███</td></tr><tr><td>_timestamp</td><td>▁▁▂▂▂▂▃▃▃▄▄▄▅▅▅▅▆▆▆▇▇▇███</td></tr><tr><td>_step</td><td>▁▁▂▂▂▂▃▃▃▄▄▄▅▅▅▅▆▆▆▇▇▇▇██</td></tr></table><br/>"
            ],
            "text/plain": [
              "<IPython.core.display.HTML object>"
            ]
          },
          "metadata": {
            "tags": []
          }
        },
        {
          "output_type": "display_data",
          "data": {
            "text/html": [
              "Synced 5 W&B file(s), 0 media file(s), 0 artifact file(s) and 1 other file(s)"
            ],
            "text/plain": [
              "<IPython.core.display.HTML object>"
            ]
          },
          "metadata": {
            "tags": []
          }
        },
        {
          "output_type": "display_data",
          "data": {
            "text/html": [
              "\n",
              "                    <br/>Synced <strong style=\"color:#cdcd00\">robust-night-12</strong>: <a href=\"https://wandb.ai/aleksey/image_captioning/runs/26gbigem\" target=\"_blank\">https://wandb.ai/aleksey/image_captioning/runs/26gbigem</a><br/>\n",
              "                "
            ],
            "text/plain": [
              "<IPython.core.display.HTML object>"
            ]
          },
          "metadata": {
            "tags": []
          }
        },
        {
          "output_type": "display_data",
          "data": {
            "text/html": [
              "\n",
              "                Tracking run with wandb version 0.10.33<br/>\n",
              "                Syncing run <strong style=\"color:#cdcd00\">stilted-universe-13</strong> to <a href=\"https://wandb.ai\" target=\"_blank\">Weights & Biases</a> <a href=\"https://docs.wandb.com/integrations/jupyter.html\" target=\"_blank\">(Documentation)</a>.<br/>\n",
              "                Project page: <a href=\"https://wandb.ai/aleksey/image_captioning\" target=\"_blank\">https://wandb.ai/aleksey/image_captioning</a><br/>\n",
              "                Run page: <a href=\"https://wandb.ai/aleksey/image_captioning/runs/214tww18\" target=\"_blank\">https://wandb.ai/aleksey/image_captioning/runs/214tww18</a><br/>\n",
              "                Run data is saved locally in <code>/content/wandb/run-20210715_131443-214tww18</code><br/><br/>\n",
              "            "
            ],
            "text/plain": [
              "<IPython.core.display.HTML object>"
            ]
          },
          "metadata": {
            "tags": []
          }
        },
        {
          "output_type": "stream",
          "text": [
            "\u001b[34m\u001b[1mwandb\u001b[0m: \u001b[33mWARNING\u001b[0m Calling run.save without any arguments is deprecated.Changes to attributes are automatically persisted.\n"
          ],
          "name": "stderr"
        },
        {
          "output_type": "stream",
          "text": [
            "Epoch: 1, Train loss: 10.243229866027832, Valid loss: 9.594826110633644\n",
            "Epoch: 1, Train loss: 5.284341257971686, Valid loss: 4.654530481390051\n",
            "Epoch: 1, Train loss: 4.502103936994398, Valid loss: 4.414953307203344\n",
            "Epoch: 1, Train loss: 4.4582186518488705, Valid loss: 4.47435535740208\n",
            "Epoch: 1, Train loss: 4.555079412460327, Valid loss: 4.630294310080038\n",
            "Epoch: 1, Train loss: 4.696627946802088, Valid loss: 4.828067139032725\n",
            "Epoch: 1, Train loss: 4.9347619649526235, Valid loss: 5.028357858915586\n",
            "Epoch: 1, Train loss: 5.111236515560666, Valid loss: 5.246311279245325\n",
            "Epoch: 2, Train loss: 6.143866539001465, Valid loss: 5.47665708773845\n",
            "Epoch: 2, Train loss: 5.493219391075341, Valid loss: 5.67016184523299\n",
            "Epoch: 2, Train loss: 5.746699678575671, Valid loss: 5.7983593966509845\n",
            "Epoch: 2, Train loss: 5.9550957679748535, Valid loss: 6.067609003427866\n",
            "Epoch: 2, Train loss: 6.108267539256328, Valid loss: 6.172062153429598\n",
            "Epoch: 2, Train loss: 6.143014665552088, Valid loss: 6.340419262808722\n",
            "Epoch: 2, Train loss: 6.322306895900417, Valid loss: 6.475832221314714\n",
            "Epoch: 2, Train loss: 6.470360856442838, Valid loss: 6.620620800997759\n",
            "Epoch: 3, Train loss: 6.457358360290527, Valid loss: 6.929876028524863\n",
            "Epoch: 3, Train loss: 6.731760450311609, Valid loss: 6.977230959969598\n",
            "Epoch: 3, Train loss: 6.98359817298683, Valid loss: 7.211276871449239\n",
            "Epoch: 3, Train loss: 7.177577812607224, Valid loss: 7.411520580343298\n",
            "Epoch: 3, Train loss: 7.318551692447147, Valid loss: 7.368223558889853\n",
            "Epoch: 3, Train loss: 7.325587337081497, Valid loss: 7.43849744667878\n",
            "Epoch: 3, Train loss: 7.468181656502389, Valid loss: 7.6184811179702345\n",
            "Epoch: 3, Train loss: 7.75524658254675, Valid loss: 7.674818185857824\n"
          ],
          "name": "stdout"
        },
        {
          "output_type": "display_data",
          "data": {
            "text/html": [
              "<br/>Waiting for W&B process to finish, PID 3980<br/>Program ended successfully."
            ],
            "text/plain": [
              "<IPython.core.display.HTML object>"
            ]
          },
          "metadata": {
            "tags": []
          }
        },
        {
          "output_type": "display_data",
          "data": {
            "application/vnd.jupyter.widget-view+json": {
              "model_id": "094843310098499daaa9e786cb5445fa",
              "version_major": 2,
              "version_minor": 0
            },
            "text/plain": [
              "VBox(children=(Label(value=' 348.93MB of 348.93MB uploaded (0.00MB deduped)\\r'), FloatProgress(value=1.0, max=…"
            ]
          },
          "metadata": {
            "tags": []
          }
        },
        {
          "output_type": "display_data",
          "data": {
            "text/html": [
              "Find user logs for this run at: <code>/content/wandb/run-20210715_131443-214tww18/logs/debug.log</code>"
            ],
            "text/plain": [
              "<IPython.core.display.HTML object>"
            ]
          },
          "metadata": {
            "tags": []
          }
        },
        {
          "output_type": "display_data",
          "data": {
            "text/html": [
              "Find internal logs for this run at: <code>/content/wandb/run-20210715_131443-214tww18/logs/debug-internal.log</code>"
            ],
            "text/plain": [
              "<IPython.core.display.HTML object>"
            ]
          },
          "metadata": {
            "tags": []
          }
        },
        {
          "output_type": "display_data",
          "data": {
            "text/html": [
              "<h3>Run summary:</h3><br/><style>\n",
              "    table.wandb td:nth-child(1) { padding: 0 10px; text-align: right }\n",
              "    </style><table class=\"wandb\">\n",
              "<tr><td>epoch</td><td>3</td></tr><tr><td>train_loss</td><td>7.75525</td></tr><tr><td>valid_loss</td><td>7.67482</td></tr><tr><td>step</td><td>1295</td></tr><tr><td>_runtime</td><td>3441</td></tr><tr><td>_timestamp</td><td>1626358324</td></tr><tr><td>_step</td><td>24</td></tr></table>"
            ],
            "text/plain": [
              "<IPython.core.display.HTML object>"
            ]
          },
          "metadata": {
            "tags": []
          }
        },
        {
          "output_type": "display_data",
          "data": {
            "text/html": [
              "<h3>Run history:</h3><br/><style>\n",
              "    table.wandb td:nth-child(1) { padding: 0 10px; text-align: right }\n",
              "    </style><table class=\"wandb\">\n",
              "<tr><td>epoch</td><td>▁▁▁▁▁▁▁▁▅▅▅▅▅▅▅▅████████</td></tr><tr><td>train_loss</td><td>█▂▁▁▁▁▂▂▃▂▃▃▃▃▃▃▃▄▄▄▄▄▅▅</td></tr><tr><td>valid_loss</td><td>█▁▁▁▁▂▂▂▂▃▃▃▃▄▄▄▄▄▅▅▅▅▅▅</td></tr><tr><td>step</td><td>▁▂▃▄▅▆▇█▁▂▃▄▅▆▇█▁▂▃▄▅▆▇█</td></tr><tr><td>_runtime</td><td>▁▁▂▂▂▃▃▃▃▄▄▄▅▅▅▅▆▆▆▇▇▇███</td></tr><tr><td>_timestamp</td><td>▁▁▂▂▂▃▃▃▃▄▄▄▅▅▅▅▆▆▆▇▇▇███</td></tr><tr><td>_step</td><td>▁▁▂▂▂▂▃▃▃▄▄▄▅▅▅▅▆▆▆▇▇▇▇██</td></tr></table><br/>"
            ],
            "text/plain": [
              "<IPython.core.display.HTML object>"
            ]
          },
          "metadata": {
            "tags": []
          }
        },
        {
          "output_type": "display_data",
          "data": {
            "text/html": [
              "Synced 5 W&B file(s), 0 media file(s), 0 artifact file(s) and 1 other file(s)"
            ],
            "text/plain": [
              "<IPython.core.display.HTML object>"
            ]
          },
          "metadata": {
            "tags": []
          }
        },
        {
          "output_type": "display_data",
          "data": {
            "text/html": [
              "\n",
              "                    <br/>Synced <strong style=\"color:#cdcd00\">stilted-universe-13</strong>: <a href=\"https://wandb.ai/aleksey/image_captioning/runs/214tww18\" target=\"_blank\">https://wandb.ai/aleksey/image_captioning/runs/214tww18</a><br/>\n",
              "                "
            ],
            "text/plain": [
              "<IPython.core.display.HTML object>"
            ]
          },
          "metadata": {
            "tags": []
          }
        },
        {
          "output_type": "display_data",
          "data": {
            "text/html": [
              "\n",
              "                Tracking run with wandb version 0.10.33<br/>\n",
              "                Syncing run <strong style=\"color:#cdcd00\">fiery-bee-14</strong> to <a href=\"https://wandb.ai\" target=\"_blank\">Weights & Biases</a> <a href=\"https://docs.wandb.com/integrations/jupyter.html\" target=\"_blank\">(Documentation)</a>.<br/>\n",
              "                Project page: <a href=\"https://wandb.ai/aleksey/image_captioning\" target=\"_blank\">https://wandb.ai/aleksey/image_captioning</a><br/>\n",
              "                Run page: <a href=\"https://wandb.ai/aleksey/image_captioning/runs/2fpbxto3\" target=\"_blank\">https://wandb.ai/aleksey/image_captioning/runs/2fpbxto3</a><br/>\n",
              "                Run data is saved locally in <code>/content/wandb/run-20210715_141208-2fpbxto3</code><br/><br/>\n",
              "            "
            ],
            "text/plain": [
              "<IPython.core.display.HTML object>"
            ]
          },
          "metadata": {
            "tags": []
          }
        },
        {
          "output_type": "stream",
          "text": [
            "\u001b[34m\u001b[1mwandb\u001b[0m: \u001b[33mWARNING\u001b[0m Calling run.save without any arguments is deprecated.Changes to attributes are automatically persisted.\n"
          ],
          "name": "stderr"
        },
        {
          "output_type": "stream",
          "text": [
            "Epoch: 1, Train loss: 10.264374732971191, Valid loss: 10.164793298051164\n",
            "Epoch: 1, Train loss: 9.386715687932195, Valid loss: 11.583479285884549\n",
            "Epoch: 1, Train loss: 15.737106648006955, Valid loss: 13.829609190451132\n",
            "Epoch: 1, Train loss: 10.544968501941577, Valid loss: 10.804862140964817\n",
            "Epoch: 1, Train loss: 10.876333628474056, Valid loss: 11.33766400620744\n",
            "Epoch: 1, Train loss: 10.705649829555203, Valid loss: 8.742254945394155\n",
            "Epoch: 1, Train loss: 7.608438288198935, Valid loss: 7.174790395272745\n",
            "Epoch: 1, Train loss: 7.010502245619491, Valid loss: 6.890676802557868\n",
            "Epoch: 2, Train loss: 7.417740345001221, Valid loss: 7.5195221991152374\n",
            "Epoch: 2, Train loss: 7.06672421790458, Valid loss: 7.224843775259482\n",
            "Epoch: 2, Train loss: 7.457653960666141, Valid loss: 7.4962607177528175\n",
            "Epoch: 2, Train loss: 7.686063400474755, Valid loss: 7.765337879593308\n",
            "Epoch: 2, Train loss: 8.0087176322937, Valid loss: 8.120577124002818\n",
            "Epoch: 2, Train loss: 8.03868695594169, Valid loss: 8.214760507119669\n",
            "Epoch: 2, Train loss: 8.384108298533672, Valid loss: 8.54082175074397\n",
            "Epoch: 2, Train loss: 8.46983419366785, Valid loss: 8.512942194294284\n",
            "Epoch: 3, Train loss: 8.59145736694336, Valid loss: 8.896049848762718\n",
            "Epoch: 3, Train loss: 9.082111348332585, Valid loss: 9.289889155207453\n",
            "Epoch: 3, Train loss: 9.370549897889834, Valid loss: 9.217279722883895\n",
            "Epoch: 3, Train loss: 9.063893472826159, Valid loss: 9.018846877845558\n",
            "Epoch: 3, Train loss: 9.373309063267063, Valid loss: 9.131041454624485\n",
            "Epoch: 3, Train loss: 9.331941259229506, Valid loss: 9.725057991130932\n",
            "Epoch: 3, Train loss: 10.013533200444401, Valid loss: 10.074545282930941\n",
            "Epoch: 3, Train loss: 10.015764978769663, Valid loss: 10.066025520015407\n"
          ],
          "name": "stdout"
        },
        {
          "output_type": "display_data",
          "data": {
            "text/html": [
              "<br/>Waiting for W&B process to finish, PID 4224<br/>Program ended successfully."
            ],
            "text/plain": [
              "<IPython.core.display.HTML object>"
            ]
          },
          "metadata": {
            "tags": []
          }
        },
        {
          "output_type": "display_data",
          "data": {
            "application/vnd.jupyter.widget-view+json": {
              "model_id": "c50e8bdfc12247a1a9c908f544cd6487",
              "version_major": 2,
              "version_minor": 0
            },
            "text/plain": [
              "VBox(children=(Label(value=' 288.82MB of 288.82MB uploaded (0.00MB deduped)\\r'), FloatProgress(value=1.0, max=…"
            ]
          },
          "metadata": {
            "tags": []
          }
        },
        {
          "output_type": "display_data",
          "data": {
            "text/html": [
              "Find user logs for this run at: <code>/content/wandb/run-20210715_141208-2fpbxto3/logs/debug.log</code>"
            ],
            "text/plain": [
              "<IPython.core.display.HTML object>"
            ]
          },
          "metadata": {
            "tags": []
          }
        },
        {
          "output_type": "display_data",
          "data": {
            "text/html": [
              "Find internal logs for this run at: <code>/content/wandb/run-20210715_141208-2fpbxto3/logs/debug-internal.log</code>"
            ],
            "text/plain": [
              "<IPython.core.display.HTML object>"
            ]
          },
          "metadata": {
            "tags": []
          }
        },
        {
          "output_type": "display_data",
          "data": {
            "text/html": [
              "<h3>Run summary:</h3><br/><style>\n",
              "    table.wandb td:nth-child(1) { padding: 0 10px; text-align: right }\n",
              "    </style><table class=\"wandb\">\n",
              "<tr><td>epoch</td><td>3</td></tr><tr><td>train_loss</td><td>10.01576</td></tr><tr><td>valid_loss</td><td>10.06603</td></tr><tr><td>step</td><td>1295</td></tr><tr><td>_runtime</td><td>2824</td></tr><tr><td>_timestamp</td><td>1626361152</td></tr><tr><td>_step</td><td>24</td></tr></table>"
            ],
            "text/plain": [
              "<IPython.core.display.HTML object>"
            ]
          },
          "metadata": {
            "tags": []
          }
        },
        {
          "output_type": "display_data",
          "data": {
            "text/html": [
              "<h3>Run history:</h3><br/><style>\n",
              "    table.wandb td:nth-child(1) { padding: 0 10px; text-align: right }\n",
              "    </style><table class=\"wandb\">\n",
              "<tr><td>epoch</td><td>▁▁▁▁▁▁▁▁▅▅▅▅▅▅▅▅████████</td></tr><tr><td>train_loss</td><td>▄▃█▄▄▄▁▁▁▁▁▂▂▂▂▂▂▃▃▃▃▃▃▃</td></tr><tr><td>valid_loss</td><td>▄▆█▅▅▃▁▁▂▁▂▂▂▂▃▃▃▃▃▃▃▄▄▄</td></tr><tr><td>step</td><td>▁▂▃▄▅▆▇█▁▂▃▄▅▆▇█▁▂▃▄▅▆▇█</td></tr><tr><td>_runtime</td><td>▁▁▂▂▂▃▃▃▃▄▄▄▅▅▅▆▆▆▆▇▇▇███</td></tr><tr><td>_timestamp</td><td>▁▁▂▂▂▃▃▃▃▄▄▄▅▅▅▆▆▆▆▇▇▇███</td></tr><tr><td>_step</td><td>▁▁▂▂▂▂▃▃▃▄▄▄▅▅▅▅▆▆▆▇▇▇▇██</td></tr></table><br/>"
            ],
            "text/plain": [
              "<IPython.core.display.HTML object>"
            ]
          },
          "metadata": {
            "tags": []
          }
        },
        {
          "output_type": "display_data",
          "data": {
            "text/html": [
              "Synced 5 W&B file(s), 0 media file(s), 0 artifact file(s) and 1 other file(s)"
            ],
            "text/plain": [
              "<IPython.core.display.HTML object>"
            ]
          },
          "metadata": {
            "tags": []
          }
        },
        {
          "output_type": "display_data",
          "data": {
            "text/html": [
              "\n",
              "                    <br/>Synced <strong style=\"color:#cdcd00\">fiery-bee-14</strong>: <a href=\"https://wandb.ai/aleksey/image_captioning/runs/2fpbxto3\" target=\"_blank\">https://wandb.ai/aleksey/image_captioning/runs/2fpbxto3</a><br/>\n",
              "                "
            ],
            "text/plain": [
              "<IPython.core.display.HTML object>"
            ]
          },
          "metadata": {
            "tags": []
          }
        },
        {
          "output_type": "display_data",
          "data": {
            "text/html": [
              "\n",
              "                Tracking run with wandb version 0.10.33<br/>\n",
              "                Syncing run <strong style=\"color:#cdcd00\">revived-forest-15</strong> to <a href=\"https://wandb.ai\" target=\"_blank\">Weights & Biases</a> <a href=\"https://docs.wandb.com/integrations/jupyter.html\" target=\"_blank\">(Documentation)</a>.<br/>\n",
              "                Project page: <a href=\"https://wandb.ai/aleksey/image_captioning\" target=\"_blank\">https://wandb.ai/aleksey/image_captioning</a><br/>\n",
              "                Run page: <a href=\"https://wandb.ai/aleksey/image_captioning/runs/2jeloj3e\" target=\"_blank\">https://wandb.ai/aleksey/image_captioning/runs/2jeloj3e</a><br/>\n",
              "                Run data is saved locally in <code>/content/wandb/run-20210715_145915-2jeloj3e</code><br/><br/>\n",
              "            "
            ],
            "text/plain": [
              "<IPython.core.display.HTML object>"
            ]
          },
          "metadata": {
            "tags": []
          }
        },
        {
          "output_type": "stream",
          "text": [
            "\u001b[34m\u001b[1mwandb\u001b[0m: \u001b[33mWARNING\u001b[0m Calling run.save without any arguments is deprecated.Changes to attributes are automatically persisted.\n"
          ],
          "name": "stderr"
        },
        {
          "output_type": "stream",
          "text": [
            "Epoch: 1, Train loss: 10.259166717529297, Valid loss: 10.028392972172918\n",
            "Epoch: 1, Train loss: 5.596376944877006, Valid loss: 4.91938839345365\n",
            "Epoch: 1, Train loss: 4.653531185356346, Valid loss: 4.50626877707404\n",
            "Epoch: 1, Train loss: 4.483164583670127, Valid loss: 4.471884223577138\n",
            "Epoch: 1, Train loss: 4.454206662564665, Valid loss: 4.42521826834292\n",
            "Epoch: 1, Train loss: 4.4370894483617835, Valid loss: 4.42548297353693\n",
            "Epoch: 1, Train loss: 4.40349688916593, Valid loss: 4.413584694991241\n",
            "Epoch: 1, Train loss: 4.437511864223996, Valid loss: 4.446481805234342\n",
            "Epoch: 2, Train loss: 4.622335910797119, Valid loss: 4.500144890192392\n",
            "Epoch: 2, Train loss: 4.465146322508116, Valid loss: 4.513482140206002\n",
            "Epoch: 2, Train loss: 4.563620355966929, Valid loss: 4.6138008130563275\n",
            "Epoch: 2, Train loss: 4.618109063844423, Valid loss: 4.643321703575753\n",
            "Epoch: 2, Train loss: 4.703594849560712, Valid loss: 4.770461413667008\n",
            "Epoch: 2, Train loss: 4.755671441877211, Valid loss: 4.7797236352353485\n",
            "Epoch: 2, Train loss: 4.803210593558647, Valid loss: 4.828122989551441\n",
            "Epoch: 2, Train loss: 4.824642310271392, Valid loss: 4.823677262744388\n",
            "Epoch: 3, Train loss: 4.785587310791016, Valid loss: 4.846524716712333\n",
            "Epoch: 3, Train loss: 4.858132524748107, Valid loss: 4.940594314884495\n",
            "Epoch: 3, Train loss: 4.919622057837409, Valid loss: 4.887366039688523\n",
            "Epoch: 3, Train loss: 4.926184298541095, Valid loss: 5.002644059464738\n",
            "Epoch: 3, Train loss: 4.917740976488268, Valid loss: 4.953228164363551\n",
            "Epoch: 3, Train loss: 4.977456564516634, Valid loss: 5.094130285366162\n",
            "Epoch: 3, Train loss: 5.0453824223698795, Valid loss: 5.114608455348659\n",
            "Epoch: 3, Train loss: 5.046472111263791, Valid loss: 5.045337503020828\n"
          ],
          "name": "stdout"
        },
        {
          "output_type": "display_data",
          "data": {
            "text/html": [
              "<br/>Waiting for W&B process to finish, PID 4371<br/>Program ended successfully."
            ],
            "text/plain": [
              "<IPython.core.display.HTML object>"
            ]
          },
          "metadata": {
            "tags": []
          }
        },
        {
          "output_type": "display_data",
          "data": {
            "application/vnd.jupyter.widget-view+json": {
              "model_id": "8cfb6e052dc8427c87d656e3ffef2b40",
              "version_major": 2,
              "version_minor": 0
            },
            "text/plain": [
              "VBox(children=(Label(value=' 369.48MB of 369.48MB uploaded (0.00MB deduped)\\r'), FloatProgress(value=1.0, max=…"
            ]
          },
          "metadata": {
            "tags": []
          }
        },
        {
          "output_type": "display_data",
          "data": {
            "text/html": [
              "Find user logs for this run at: <code>/content/wandb/run-20210715_145915-2jeloj3e/logs/debug.log</code>"
            ],
            "text/plain": [
              "<IPython.core.display.HTML object>"
            ]
          },
          "metadata": {
            "tags": []
          }
        },
        {
          "output_type": "display_data",
          "data": {
            "text/html": [
              "Find internal logs for this run at: <code>/content/wandb/run-20210715_145915-2jeloj3e/logs/debug-internal.log</code>"
            ],
            "text/plain": [
              "<IPython.core.display.HTML object>"
            ]
          },
          "metadata": {
            "tags": []
          }
        },
        {
          "output_type": "display_data",
          "data": {
            "text/html": [
              "<h3>Run summary:</h3><br/><style>\n",
              "    table.wandb td:nth-child(1) { padding: 0 10px; text-align: right }\n",
              "    </style><table class=\"wandb\">\n",
              "<tr><td>epoch</td><td>3</td></tr><tr><td>train_loss</td><td>5.04647</td></tr><tr><td>valid_loss</td><td>5.04534</td></tr><tr><td>step</td><td>1295</td></tr><tr><td>_runtime</td><td>3534</td></tr><tr><td>_timestamp</td><td>1626364689</td></tr><tr><td>_step</td><td>24</td></tr></table>"
            ],
            "text/plain": [
              "<IPython.core.display.HTML object>"
            ]
          },
          "metadata": {
            "tags": []
          }
        },
        {
          "output_type": "display_data",
          "data": {
            "text/html": [
              "<h3>Run history:</h3><br/><style>\n",
              "    table.wandb td:nth-child(1) { padding: 0 10px; text-align: right }\n",
              "    </style><table class=\"wandb\">\n",
              "<tr><td>epoch</td><td>▁▁▁▁▁▁▁▁▅▅▅▅▅▅▅▅████████</td></tr><tr><td>train_loss</td><td>█▂▁▁▁▁▁▁▁▁▁▁▁▁▁▂▁▂▂▂▂▂▂▂</td></tr><tr><td>valid_loss</td><td>█▂▁▁▁▁▁▁▁▁▁▁▁▁▂▂▂▂▂▂▂▂▂▂</td></tr><tr><td>step</td><td>▁▂▃▄▅▆▇█▁▂▃▄▅▆▇█▁▂▃▄▅▆▇█</td></tr><tr><td>_runtime</td><td>▁▁▂▂▂▃▃▃▃▄▄▄▅▅▅▅▆▆▆▇▇▇███</td></tr><tr><td>_timestamp</td><td>▁▁▂▂▂▃▃▃▃▄▄▄▅▅▅▅▆▆▆▇▇▇███</td></tr><tr><td>_step</td><td>▁▁▂▂▂▂▃▃▃▄▄▄▅▅▅▅▆▆▆▇▇▇▇██</td></tr></table><br/>"
            ],
            "text/plain": [
              "<IPython.core.display.HTML object>"
            ]
          },
          "metadata": {
            "tags": []
          }
        },
        {
          "output_type": "display_data",
          "data": {
            "text/html": [
              "Synced 5 W&B file(s), 0 media file(s), 0 artifact file(s) and 1 other file(s)"
            ],
            "text/plain": [
              "<IPython.core.display.HTML object>"
            ]
          },
          "metadata": {
            "tags": []
          }
        },
        {
          "output_type": "display_data",
          "data": {
            "text/html": [
              "\n",
              "                    <br/>Synced <strong style=\"color:#cdcd00\">revived-forest-15</strong>: <a href=\"https://wandb.ai/aleksey/image_captioning/runs/2jeloj3e\" target=\"_blank\">https://wandb.ai/aleksey/image_captioning/runs/2jeloj3e</a><br/>\n",
              "                "
            ],
            "text/plain": [
              "<IPython.core.display.HTML object>"
            ]
          },
          "metadata": {
            "tags": []
          }
        },
        {
          "output_type": "display_data",
          "data": {
            "text/html": [
              "\n",
              "                Tracking run with wandb version 0.10.33<br/>\n",
              "                Syncing run <strong style=\"color:#cdcd00\">quiet-dragon-16</strong> to <a href=\"https://wandb.ai\" target=\"_blank\">Weights & Biases</a> <a href=\"https://docs.wandb.com/integrations/jupyter.html\" target=\"_blank\">(Documentation)</a>.<br/>\n",
              "                Project page: <a href=\"https://wandb.ai/aleksey/image_captioning\" target=\"_blank\">https://wandb.ai/aleksey/image_captioning</a><br/>\n",
              "                Run page: <a href=\"https://wandb.ai/aleksey/image_captioning/runs/2w1tktrk\" target=\"_blank\">https://wandb.ai/aleksey/image_captioning/runs/2w1tktrk</a><br/>\n",
              "                Run data is saved locally in <code>/content/wandb/run-20210715_155812-2w1tktrk</code><br/><br/>\n",
              "            "
            ],
            "text/plain": [
              "<IPython.core.display.HTML object>"
            ]
          },
          "metadata": {
            "tags": []
          }
        },
        {
          "output_type": "stream",
          "text": [
            "\u001b[34m\u001b[1mwandb\u001b[0m: \u001b[33mWARNING\u001b[0m Calling run.save without any arguments is deprecated.Changes to attributes are automatically persisted.\n"
          ],
          "name": "stderr"
        },
        {
          "output_type": "stream",
          "text": [
            "Epoch: 1, Train loss: 10.281709671020508, Valid loss: 10.243892584620296\n",
            "Epoch: 1, Train loss: 6.5517057057973505, Valid loss: 5.273064458692396\n",
            "Epoch: 1, Train loss: 4.916067589940251, Valid loss: 4.724185169065321\n",
            "Epoch: 1, Train loss: 4.596371099111196, Valid loss: 4.470094361176362\n",
            "Epoch: 1, Train loss: 4.361732752258713, Valid loss: 4.252446361490198\n",
            "Epoch: 1, Train loss: 4.190668695037429, Valid loss: 4.111926439646128\n",
            "Epoch: 1, Train loss: 4.098340651795671, Valid loss: 4.017847487088797\n",
            "Epoch: 1, Train loss: 3.947832238996351, Valid loss: 3.912410153569402\n",
            "Epoch: 2, Train loss: 3.865666151046753, Valid loss: 3.8571353158435304\n",
            "Epoch: 2, Train loss: 3.808741198359309, Valid loss: 3.7467672341578715\n",
            "Epoch: 2, Train loss: 3.6888814487972774, Valid loss: 3.6827276777576756\n",
            "Epoch: 2, Train loss: 3.6582855057071995, Valid loss: 3.6374212735408062\n",
            "Epoch: 2, Train loss: 3.5876527657379977, Valid loss: 3.5944988566475944\n",
            "Epoch: 2, Train loss: 3.547377671422185, Valid loss: 3.5328859690073373\n",
            "Epoch: 2, Train loss: 3.515941622450545, Valid loss: 3.5166785220842103\n",
            "Epoch: 2, Train loss: 3.4897268488600446, Valid loss: 3.4728604104067826\n",
            "Epoch: 3, Train loss: 3.509150981903076, Valid loss: 3.4395598469553765\n",
            "Epoch: 3, Train loss: 3.381776406313922, Valid loss: 3.4194194413520194\n",
            "Epoch: 3, Train loss: 3.3898107206499253, Valid loss: 3.4002975463867187\n",
            "Epoch: 3, Train loss: 3.3534420709352237, Valid loss: 3.3761135848792825\n",
            "Epoch: 3, Train loss: 3.345354290266295, Valid loss: 3.3600697607607457\n",
            "Epoch: 3, Train loss: 3.3263222552634573, Valid loss: 3.348640272424028\n",
            "Epoch: 3, Train loss: 3.3078736124811945, Valid loss: 3.3349136764938767\n",
            "Epoch: 3, Train loss: 3.2819718695975637, Valid loss: 3.3127434157036446\n"
          ],
          "name": "stdout"
        },
        {
          "output_type": "display_data",
          "data": {
            "text/html": [
              "<br/>Waiting for W&B process to finish, PID 4548<br/>Program ended successfully."
            ],
            "text/plain": [
              "<IPython.core.display.HTML object>"
            ]
          },
          "metadata": {
            "tags": []
          }
        },
        {
          "output_type": "display_data",
          "data": {
            "application/vnd.jupyter.widget-view+json": {
              "model_id": "fee9ea713a8a4608906cad82e3b37e6d",
              "version_major": 2,
              "version_minor": 0
            },
            "text/plain": [
              "VBox(children=(Label(value=' 283.68MB of 283.68MB uploaded (0.00MB deduped)\\r'), FloatProgress(value=1.0, max=…"
            ]
          },
          "metadata": {
            "tags": []
          }
        },
        {
          "output_type": "display_data",
          "data": {
            "text/html": [
              "Find user logs for this run at: <code>/content/wandb/run-20210715_155812-2w1tktrk/logs/debug.log</code>"
            ],
            "text/plain": [
              "<IPython.core.display.HTML object>"
            ]
          },
          "metadata": {
            "tags": []
          }
        },
        {
          "output_type": "display_data",
          "data": {
            "text/html": [
              "Find internal logs for this run at: <code>/content/wandb/run-20210715_155812-2w1tktrk/logs/debug-internal.log</code>"
            ],
            "text/plain": [
              "<IPython.core.display.HTML object>"
            ]
          },
          "metadata": {
            "tags": []
          }
        },
        {
          "output_type": "display_data",
          "data": {
            "text/html": [
              "<h3>Run summary:</h3><br/><style>\n",
              "    table.wandb td:nth-child(1) { padding: 0 10px; text-align: right }\n",
              "    </style><table class=\"wandb\">\n",
              "<tr><td>epoch</td><td>3</td></tr><tr><td>train_loss</td><td>3.28197</td></tr><tr><td>valid_loss</td><td>3.31274</td></tr><tr><td>step</td><td>1295</td></tr><tr><td>_runtime</td><td>2741</td></tr><tr><td>_timestamp</td><td>1626367433</td></tr><tr><td>_step</td><td>24</td></tr></table>"
            ],
            "text/plain": [
              "<IPython.core.display.HTML object>"
            ]
          },
          "metadata": {
            "tags": []
          }
        },
        {
          "output_type": "display_data",
          "data": {
            "text/html": [
              "<h3>Run history:</h3><br/><style>\n",
              "    table.wandb td:nth-child(1) { padding: 0 10px; text-align: right }\n",
              "    </style><table class=\"wandb\">\n",
              "<tr><td>epoch</td><td>▁▁▁▁▁▁▁▁▅▅▅▅▅▅▅▅████████</td></tr><tr><td>train_loss</td><td>█▄▃▂▂▂▂▂▂▂▁▁▁▁▁▁▁▁▁▁▁▁▁▁</td></tr><tr><td>valid_loss</td><td>█▃▂▂▂▂▂▂▂▁▁▁▁▁▁▁▁▁▁▁▁▁▁▁</td></tr><tr><td>step</td><td>▁▂▃▄▅▆▇█▁▂▃▄▅▆▇█▁▂▃▄▅▆▇█</td></tr><tr><td>_runtime</td><td>▁▁▂▂▂▂▃▃▃▄▄▄▅▅▅▅▆▆▆▇▇▇███</td></tr><tr><td>_timestamp</td><td>▁▁▂▂▂▂▃▃▃▄▄▄▅▅▅▅▆▆▆▇▇▇███</td></tr><tr><td>_step</td><td>▁▁▂▂▂▂▃▃▃▄▄▄▅▅▅▅▆▆▆▇▇▇▇██</td></tr></table><br/>"
            ],
            "text/plain": [
              "<IPython.core.display.HTML object>"
            ]
          },
          "metadata": {
            "tags": []
          }
        },
        {
          "output_type": "display_data",
          "data": {
            "text/html": [
              "Synced 5 W&B file(s), 0 media file(s), 0 artifact file(s) and 1 other file(s)"
            ],
            "text/plain": [
              "<IPython.core.display.HTML object>"
            ]
          },
          "metadata": {
            "tags": []
          }
        },
        {
          "output_type": "display_data",
          "data": {
            "text/html": [
              "\n",
              "                    <br/>Synced <strong style=\"color:#cdcd00\">quiet-dragon-16</strong>: <a href=\"https://wandb.ai/aleksey/image_captioning/runs/2w1tktrk\" target=\"_blank\">https://wandb.ai/aleksey/image_captioning/runs/2w1tktrk</a><br/>\n",
              "                "
            ],
            "text/plain": [
              "<IPython.core.display.HTML object>"
            ]
          },
          "metadata": {
            "tags": []
          }
        },
        {
          "output_type": "display_data",
          "data": {
            "text/html": [
              "\n",
              "                Tracking run with wandb version 0.10.33<br/>\n",
              "                Syncing run <strong style=\"color:#cdcd00\">easy-firefly-17</strong> to <a href=\"https://wandb.ai\" target=\"_blank\">Weights & Biases</a> <a href=\"https://docs.wandb.com/integrations/jupyter.html\" target=\"_blank\">(Documentation)</a>.<br/>\n",
              "                Project page: <a href=\"https://wandb.ai/aleksey/image_captioning\" target=\"_blank\">https://wandb.ai/aleksey/image_captioning</a><br/>\n",
              "                Run page: <a href=\"https://wandb.ai/aleksey/image_captioning/runs/2l3f9lb4\" target=\"_blank\">https://wandb.ai/aleksey/image_captioning/runs/2l3f9lb4</a><br/>\n",
              "                Run data is saved locally in <code>/content/wandb/run-20210715_164357-2l3f9lb4</code><br/><br/>\n",
              "            "
            ],
            "text/plain": [
              "<IPython.core.display.HTML object>"
            ]
          },
          "metadata": {
            "tags": []
          }
        },
        {
          "output_type": "stream",
          "text": [
            "\u001b[34m\u001b[1mwandb\u001b[0m: \u001b[33mWARNING\u001b[0m Calling run.save without any arguments is deprecated.Changes to attributes are automatically persisted.\n"
          ],
          "name": "stderr"
        },
        {
          "output_type": "stream",
          "text": [
            "Epoch: 1, Train loss: 10.261039733886719, Valid loss: 10.190290683024639\n",
            "Epoch: 1, Train loss: 6.219076156616211, Valid loss: 5.190430492968173\n",
            "Epoch: 1, Train loss: 4.901756647470835, Valid loss: 4.673534197420687\n",
            "Epoch: 1, Train loss: 4.498244177328574, Valid loss: 4.307062482833862\n",
            "Epoch: 1, Train loss: 4.176273527660886, Valid loss: 4.1118695948575\n",
            "Epoch: 1, Train loss: 4.015771318126369, Valid loss: 3.9393431908375507\n",
            "Epoch: 1, Train loss: 3.8968338206007673, Valid loss: 3.8451453170260868\n",
            "Epoch: 1, Train loss: 3.8114869749223863, Valid loss: 3.766580234347163\n",
            "Epoch: 2, Train loss: 3.7252132892608643, Valid loss: 3.687437330065547\n",
            "Epoch: 2, Train loss: 3.6459674899642533, Valid loss: 3.6499003429670593\n",
            "Epoch: 2, Train loss: 3.5907714212262953, Valid loss: 3.6067416319975982\n",
            "Epoch: 2, Train loss: 3.5560998929513468, Valid loss: 3.5494517390792435\n",
            "Epoch: 2, Train loss: 3.5125532317805934, Valid loss: 3.497716047957137\n",
            "Epoch: 2, Train loss: 3.472477763407939, Valid loss: 3.4654984158438604\n",
            "Epoch: 2, Train loss: 3.4018474939707164, Valid loss: 3.427671483400706\n",
            "Epoch: 2, Train loss: 3.4165086153391244, Valid loss: 3.4183381686339507\n",
            "Epoch: 3, Train loss: 3.3202974796295166, Valid loss: 3.3855572842262887\n",
            "Epoch: 3, Train loss: 3.330386695346317, Valid loss: 3.378228201737275\n",
            "Epoch: 3, Train loss: 3.3025164849049338, Valid loss: 3.3449131398587615\n",
            "Epoch: 3, Train loss: 3.310276791856096, Valid loss: 3.330728002496668\n",
            "Epoch: 3, Train loss: 3.2812140078157994, Valid loss: 3.323528892285115\n",
            "Epoch: 3, Train loss: 3.2545642324396082, Valid loss: 3.3195683550190282\n",
            "Epoch: 3, Train loss: 3.273097379787548, Valid loss: 3.2942500816809166\n",
            "Epoch: 3, Train loss: 3.267863200161908, Valid loss: 3.3055941723488473\n"
          ],
          "name": "stdout"
        },
        {
          "output_type": "display_data",
          "data": {
            "text/html": [
              "<br/>Waiting for W&B process to finish, PID 4703<br/>Program ended successfully."
            ],
            "text/plain": [
              "<IPython.core.display.HTML object>"
            ]
          },
          "metadata": {
            "tags": []
          }
        },
        {
          "output_type": "display_data",
          "data": {
            "application/vnd.jupyter.widget-view+json": {
              "model_id": "780d230f7b3b4800a635c4ce7347f9e7",
              "version_major": 2,
              "version_minor": 0
            },
            "text/plain": [
              "VBox(children=(Label(value=' 348.93MB of 348.93MB uploaded (0.00MB deduped)\\r'), FloatProgress(value=1.0, max=…"
            ]
          },
          "metadata": {
            "tags": []
          }
        },
        {
          "output_type": "display_data",
          "data": {
            "text/html": [
              "Find user logs for this run at: <code>/content/wandb/run-20210715_164357-2l3f9lb4/logs/debug.log</code>"
            ],
            "text/plain": [
              "<IPython.core.display.HTML object>"
            ]
          },
          "metadata": {
            "tags": []
          }
        },
        {
          "output_type": "display_data",
          "data": {
            "text/html": [
              "Find internal logs for this run at: <code>/content/wandb/run-20210715_164357-2l3f9lb4/logs/debug-internal.log</code>"
            ],
            "text/plain": [
              "<IPython.core.display.HTML object>"
            ]
          },
          "metadata": {
            "tags": []
          }
        },
        {
          "output_type": "display_data",
          "data": {
            "text/html": [
              "<h3>Run summary:</h3><br/><style>\n",
              "    table.wandb td:nth-child(1) { padding: 0 10px; text-align: right }\n",
              "    </style><table class=\"wandb\">\n",
              "<tr><td>epoch</td><td>3</td></tr><tr><td>train_loss</td><td>3.26786</td></tr><tr><td>valid_loss</td><td>3.30559</td></tr><tr><td>step</td><td>1295</td></tr><tr><td>_runtime</td><td>3390</td></tr><tr><td>_timestamp</td><td>1626370827</td></tr><tr><td>_step</td><td>24</td></tr></table>"
            ],
            "text/plain": [
              "<IPython.core.display.HTML object>"
            ]
          },
          "metadata": {
            "tags": []
          }
        },
        {
          "output_type": "display_data",
          "data": {
            "text/html": [
              "<h3>Run history:</h3><br/><style>\n",
              "    table.wandb td:nth-child(1) { padding: 0 10px; text-align: right }\n",
              "    </style><table class=\"wandb\">\n",
              "<tr><td>epoch</td><td>▁▁▁▁▁▁▁▁▅▅▅▅▅▅▅▅████████</td></tr><tr><td>train_loss</td><td>█▄▃▂▂▂▂▂▁▁▁▁▁▁▁▁▁▁▁▁▁▁▁▁</td></tr><tr><td>valid_loss</td><td>█▃▂▂▂▂▂▁▁▁▁▁▁▁▁▁▁▁▁▁▁▁▁▁</td></tr><tr><td>step</td><td>▁▂▃▄▅▆▇█▁▂▃▄▅▆▇█▁▂▃▄▅▆▇█</td></tr><tr><td>_runtime</td><td>▁▁▂▂▂▂▃▃▃▄▄▄▅▅▅▅▆▆▆▇▇▇███</td></tr><tr><td>_timestamp</td><td>▁▁▂▂▂▂▃▃▃▄▄▄▅▅▅▅▆▆▆▇▇▇███</td></tr><tr><td>_step</td><td>▁▁▂▂▂▂▃▃▃▄▄▄▅▅▅▅▆▆▆▇▇▇▇██</td></tr></table><br/>"
            ],
            "text/plain": [
              "<IPython.core.display.HTML object>"
            ]
          },
          "metadata": {
            "tags": []
          }
        },
        {
          "output_type": "display_data",
          "data": {
            "text/html": [
              "Synced 5 W&B file(s), 0 media file(s), 0 artifact file(s) and 1 other file(s)"
            ],
            "text/plain": [
              "<IPython.core.display.HTML object>"
            ]
          },
          "metadata": {
            "tags": []
          }
        },
        {
          "output_type": "display_data",
          "data": {
            "text/html": [
              "\n",
              "                    <br/>Synced <strong style=\"color:#cdcd00\">easy-firefly-17</strong>: <a href=\"https://wandb.ai/aleksey/image_captioning/runs/2l3f9lb4\" target=\"_blank\">https://wandb.ai/aleksey/image_captioning/runs/2l3f9lb4</a><br/>\n",
              "                "
            ],
            "text/plain": [
              "<IPython.core.display.HTML object>"
            ]
          },
          "metadata": {
            "tags": []
          }
        },
        {
          "output_type": "display_data",
          "data": {
            "text/html": [
              "\n",
              "                Tracking run with wandb version 0.10.33<br/>\n",
              "                Syncing run <strong style=\"color:#cdcd00\">lively-star-18</strong> to <a href=\"https://wandb.ai\" target=\"_blank\">Weights & Biases</a> <a href=\"https://docs.wandb.com/integrations/jupyter.html\" target=\"_blank\">(Documentation)</a>.<br/>\n",
              "                Project page: <a href=\"https://wandb.ai/aleksey/image_captioning\" target=\"_blank\">https://wandb.ai/aleksey/image_captioning</a><br/>\n",
              "                Run page: <a href=\"https://wandb.ai/aleksey/image_captioning/runs/13fvchyz\" target=\"_blank\">https://wandb.ai/aleksey/image_captioning/runs/13fvchyz</a><br/>\n",
              "                Run data is saved locally in <code>/content/wandb/run-20210715_174030-13fvchyz</code><br/><br/>\n",
              "            "
            ],
            "text/plain": [
              "<IPython.core.display.HTML object>"
            ]
          },
          "metadata": {
            "tags": []
          }
        },
        {
          "output_type": "stream",
          "text": [
            "\u001b[34m\u001b[1mwandb\u001b[0m: \u001b[33mWARNING\u001b[0m Calling run.save without any arguments is deprecated.Changes to attributes are automatically persisted.\n"
          ],
          "name": "stderr"
        },
        {
          "output_type": "stream",
          "text": [
            "Epoch: 1, Train loss: 10.256916046142578, Valid loss: 10.248489016455572\n",
            "Epoch: 1, Train loss: 6.468966700579669, Valid loss: 5.425080827764563\n",
            "Epoch: 1, Train loss: 5.469919689281567, Valid loss: 5.608401677415178\n",
            "Epoch: 1, Train loss: 5.799663301416346, Valid loss: 5.740547356734405\n",
            "Epoch: 1, Train loss: 6.12783622999449, Valid loss: 6.153383588790893\n",
            "Epoch: 1, Train loss: 6.207970663019129, Valid loss: 6.314532644684251\n",
            "Epoch: 1, Train loss: 6.696866757160908, Valid loss: 6.633279315845386\n",
            "Epoch: 1, Train loss: 6.686602674948203, Valid loss: 6.866919877078082\n",
            "Epoch: 2, Train loss: 7.18022346496582, Valid loss: 7.414086332836667\n",
            "Epoch: 2, Train loss: 7.3229850562843115, Valid loss: 7.571001189463847\n",
            "Epoch: 2, Train loss: 7.6334613129899305, Valid loss: 7.995852056709496\n",
            "Epoch: 2, Train loss: 8.191665886543893, Valid loss: 7.923530896934303\n",
            "Epoch: 2, Train loss: 7.907979034733128, Valid loss: 8.167411400820757\n",
            "Epoch: 2, Train loss: 8.53869422448648, Valid loss: 8.805857242120279\n",
            "Epoch: 2, Train loss: 8.78994367960337, Valid loss: 8.954927738292797\n",
            "Epoch: 2, Train loss: 9.232430437448862, Valid loss: 9.466182981955038\n",
            "Epoch: 3, Train loss: 9.138145446777344, Valid loss: 8.937723105662577\n",
            "Epoch: 3, Train loss: 9.04997264243461, Valid loss: 8.916800176775133\n",
            "Epoch: 3, Train loss: 9.380502046121133, Valid loss: 9.82335348644772\n",
            "Epoch: 3, Train loss: 9.934125317753972, Valid loss: 10.124643823262808\n",
            "Epoch: 3, Train loss: 9.597453045200657, Valid loss: 9.64329220024315\n",
            "Epoch: 3, Train loss: 9.994691745654956, Valid loss: 10.174374675750732\n",
            "Epoch: 3, Train loss: 10.044706220884581, Valid loss: 10.478934141107509\n",
            "Epoch: 3, Train loss: 10.92595587549983, Valid loss: 10.937153398668444\n"
          ],
          "name": "stdout"
        },
        {
          "output_type": "display_data",
          "data": {
            "text/html": [
              "<br/>Waiting for W&B process to finish, PID 4903<br/>Program ended successfully."
            ],
            "text/plain": [
              "<IPython.core.display.HTML object>"
            ]
          },
          "metadata": {
            "tags": []
          }
        },
        {
          "output_type": "display_data",
          "data": {
            "application/vnd.jupyter.widget-view+json": {
              "model_id": "53353bc2e68441a48f7107019d39ae18",
              "version_major": 2,
              "version_minor": 0
            },
            "text/plain": [
              "VBox(children=(Label(value=' 288.82MB of 288.82MB uploaded (0.00MB deduped)\\r'), FloatProgress(value=1.0, max=…"
            ]
          },
          "metadata": {
            "tags": []
          }
        },
        {
          "output_type": "display_data",
          "data": {
            "text/html": [
              "Find user logs for this run at: <code>/content/wandb/run-20210715_174030-13fvchyz/logs/debug.log</code>"
            ],
            "text/plain": [
              "<IPython.core.display.HTML object>"
            ]
          },
          "metadata": {
            "tags": []
          }
        },
        {
          "output_type": "display_data",
          "data": {
            "text/html": [
              "Find internal logs for this run at: <code>/content/wandb/run-20210715_174030-13fvchyz/logs/debug-internal.log</code>"
            ],
            "text/plain": [
              "<IPython.core.display.HTML object>"
            ]
          },
          "metadata": {
            "tags": []
          }
        },
        {
          "output_type": "display_data",
          "data": {
            "text/html": [
              "<h3>Run summary:</h3><br/><style>\n",
              "    table.wandb td:nth-child(1) { padding: 0 10px; text-align: right }\n",
              "    </style><table class=\"wandb\">\n",
              "<tr><td>epoch</td><td>3</td></tr><tr><td>train_loss</td><td>10.92596</td></tr><tr><td>valid_loss</td><td>10.93715</td></tr><tr><td>step</td><td>1295</td></tr><tr><td>_runtime</td><td>2815</td></tr><tr><td>_timestamp</td><td>1626373645</td></tr><tr><td>_step</td><td>24</td></tr></table>"
            ],
            "text/plain": [
              "<IPython.core.display.HTML object>"
            ]
          },
          "metadata": {
            "tags": []
          }
        },
        {
          "output_type": "display_data",
          "data": {
            "text/html": [
              "<h3>Run history:</h3><br/><style>\n",
              "    table.wandb td:nth-child(1) { padding: 0 10px; text-align: right }\n",
              "    </style><table class=\"wandb\">\n",
              "<tr><td>epoch</td><td>▁▁▁▁▁▁▁▁▅▅▅▅▅▅▅▅████████</td></tr><tr><td>train_loss</td><td>▇▂▁▁▂▂▃▃▃▃▄▄▄▅▅▆▆▆▆▇▆▇▇█</td></tr><tr><td>valid_loss</td><td>▇▁▁▁▂▂▃▃▄▄▄▄▄▅▅▆▅▅▇▇▆▇▇█</td></tr><tr><td>step</td><td>▁▂▃▄▅▆▇█▁▂▃▄▅▆▇█▁▂▃▄▅▆▇█</td></tr><tr><td>_runtime</td><td>▁▁▂▂▂▃▃▃▃▄▄▄▅▅▅▅▆▆▆▇▇▇███</td></tr><tr><td>_timestamp</td><td>▁▁▂▂▂▃▃▃▃▄▄▄▅▅▅▅▆▆▆▇▇▇███</td></tr><tr><td>_step</td><td>▁▁▂▂▂▂▃▃▃▄▄▄▅▅▅▅▆▆▆▇▇▇▇██</td></tr></table><br/>"
            ],
            "text/plain": [
              "<IPython.core.display.HTML object>"
            ]
          },
          "metadata": {
            "tags": []
          }
        },
        {
          "output_type": "display_data",
          "data": {
            "text/html": [
              "Synced 5 W&B file(s), 0 media file(s), 0 artifact file(s) and 1 other file(s)"
            ],
            "text/plain": [
              "<IPython.core.display.HTML object>"
            ]
          },
          "metadata": {
            "tags": []
          }
        },
        {
          "output_type": "display_data",
          "data": {
            "text/html": [
              "\n",
              "                    <br/>Synced <strong style=\"color:#cdcd00\">lively-star-18</strong>: <a href=\"https://wandb.ai/aleksey/image_captioning/runs/13fvchyz\" target=\"_blank\">https://wandb.ai/aleksey/image_captioning/runs/13fvchyz</a><br/>\n",
              "                "
            ],
            "text/plain": [
              "<IPython.core.display.HTML object>"
            ]
          },
          "metadata": {
            "tags": []
          }
        },
        {
          "output_type": "display_data",
          "data": {
            "text/html": [
              "\n",
              "                Tracking run with wandb version 0.10.33<br/>\n",
              "                Syncing run <strong style=\"color:#cdcd00\">summer-firebrand-19</strong> to <a href=\"https://wandb.ai\" target=\"_blank\">Weights & Biases</a> <a href=\"https://docs.wandb.com/integrations/jupyter.html\" target=\"_blank\">(Documentation)</a>.<br/>\n",
              "                Project page: <a href=\"https://wandb.ai/aleksey/image_captioning\" target=\"_blank\">https://wandb.ai/aleksey/image_captioning</a><br/>\n",
              "                Run page: <a href=\"https://wandb.ai/aleksey/image_captioning/runs/34oyyv78\" target=\"_blank\">https://wandb.ai/aleksey/image_captioning/runs/34oyyv78</a><br/>\n",
              "                Run data is saved locally in <code>/content/wandb/run-20210715_182729-34oyyv78</code><br/><br/>\n",
              "            "
            ],
            "text/plain": [
              "<IPython.core.display.HTML object>"
            ]
          },
          "metadata": {
            "tags": []
          }
        },
        {
          "output_type": "stream",
          "text": [
            "\u001b[34m\u001b[1mwandb\u001b[0m: \u001b[33mWARNING\u001b[0m Calling run.save without any arguments is deprecated.Changes to attributes are automatically persisted.\n"
          ],
          "name": "stderr"
        },
        {
          "output_type": "stream",
          "text": [
            "Epoch: 1, Train loss: 10.265167236328125, Valid loss: 10.240742211728483\n",
            "Epoch: 1, Train loss: 6.249640665827571, Valid loss: 5.044307420060441\n",
            "Epoch: 1, Train loss: 4.851133093962798, Valid loss: 4.738207596701545\n",
            "Epoch: 1, Train loss: 4.5478034483419885, Valid loss: 4.396953758033546\n",
            "Epoch: 1, Train loss: 4.325438502028182, Valid loss: 4.246401878305384\n",
            "Epoch: 1, Train loss: 4.177433895420384, Valid loss: 4.111285084002727\n",
            "Epoch: 1, Train loss: 4.062808964703534, Valid loss: 4.021423122045156\n",
            "Epoch: 1, Train loss: 3.9748591539022087, Valid loss: 3.9295174128300436\n",
            "Epoch: 2, Train loss: 3.782477617263794, Valid loss: 3.8620250379717027\n",
            "Epoch: 2, Train loss: 3.7957025631054027, Valid loss: 3.791252957808005\n",
            "Epoch: 2, Train loss: 3.737762698611698, Valid loss: 3.7120417040747564\n",
            "Epoch: 2, Train loss: 3.6795264824016676, Valid loss: 3.671979660601229\n",
            "Epoch: 2, Train loss: 3.6353604973973455, Valid loss: 3.6143269397116997\n",
            "Epoch: 2, Train loss: 3.5859640211672397, Valid loss: 3.5734808696282876\n",
            "Epoch: 2, Train loss: 3.557077054719667, Valid loss: 3.544830955685796\n",
            "Epoch: 2, Train loss: 3.5075109017861856, Valid loss: 3.5184971338993796\n",
            "Epoch: 3, Train loss: 3.6260745525360107, Valid loss: 3.4790298107508066\n",
            "Epoch: 3, Train loss: 3.4536458389179128, Valid loss: 3.466187173611409\n",
            "Epoch: 3, Train loss: 3.4243476133088806, Valid loss: 3.4263826512001656\n",
            "Epoch: 3, Train loss: 3.39772508337691, Valid loss: 3.436579844758317\n",
            "Epoch: 3, Train loss: 3.3962636831644417, Valid loss: 3.406732970315057\n",
            "Epoch: 3, Train loss: 3.3815955587335536, Valid loss: 3.375346566535331\n",
            "Epoch: 3, Train loss: 3.348225114152238, Valid loss: 3.358938348615492\n",
            "Epoch: 3, Train loss: 3.342969853169209, Valid loss: 3.3530992217966027\n"
          ],
          "name": "stdout"
        },
        {
          "output_type": "display_data",
          "data": {
            "text/html": [
              "<br/>Waiting for W&B process to finish, PID 5064<br/>Program ended successfully."
            ],
            "text/plain": [
              "<IPython.core.display.HTML object>"
            ]
          },
          "metadata": {
            "tags": []
          }
        },
        {
          "output_type": "display_data",
          "data": {
            "application/vnd.jupyter.widget-view+json": {
              "model_id": "8fcb00d0335a452289927c56611ece0e",
              "version_major": 2,
              "version_minor": 0
            },
            "text/plain": [
              "VBox(children=(Label(value=' 369.48MB of 369.48MB uploaded (0.00MB deduped)\\r'), FloatProgress(value=1.0, max=…"
            ]
          },
          "metadata": {
            "tags": []
          }
        },
        {
          "output_type": "display_data",
          "data": {
            "text/html": [
              "Find user logs for this run at: <code>/content/wandb/run-20210715_182729-34oyyv78/logs/debug.log</code>"
            ],
            "text/plain": [
              "<IPython.core.display.HTML object>"
            ]
          },
          "metadata": {
            "tags": []
          }
        },
        {
          "output_type": "display_data",
          "data": {
            "text/html": [
              "Find internal logs for this run at: <code>/content/wandb/run-20210715_182729-34oyyv78/logs/debug-internal.log</code>"
            ],
            "text/plain": [
              "<IPython.core.display.HTML object>"
            ]
          },
          "metadata": {
            "tags": []
          }
        },
        {
          "output_type": "display_data",
          "data": {
            "text/html": [
              "<h3>Run summary:</h3><br/><style>\n",
              "    table.wandb td:nth-child(1) { padding: 0 10px; text-align: right }\n",
              "    </style><table class=\"wandb\">\n",
              "<tr><td>epoch</td><td>3</td></tr><tr><td>train_loss</td><td>3.34297</td></tr><tr><td>valid_loss</td><td>3.3531</td></tr><tr><td>step</td><td>1295</td></tr><tr><td>_runtime</td><td>3654</td></tr><tr><td>_timestamp</td><td>1626377303</td></tr><tr><td>_step</td><td>24</td></tr></table>"
            ],
            "text/plain": [
              "<IPython.core.display.HTML object>"
            ]
          },
          "metadata": {
            "tags": []
          }
        },
        {
          "output_type": "display_data",
          "data": {
            "text/html": [
              "<h3>Run history:</h3><br/><style>\n",
              "    table.wandb td:nth-child(1) { padding: 0 10px; text-align: right }\n",
              "    </style><table class=\"wandb\">\n",
              "<tr><td>epoch</td><td>▁▁▁▁▁▁▁▁▅▅▅▅▅▅▅▅████████</td></tr><tr><td>train_loss</td><td>█▄▃▂▂▂▂▂▁▁▁▁▁▁▁▁▁▁▁▁▁▁▁▁</td></tr><tr><td>valid_loss</td><td>█▃▂▂▂▂▂▂▂▁▁▁▁▁▁▁▁▁▁▁▁▁▁▁</td></tr><tr><td>step</td><td>▁▂▃▄▅▆▇█▁▂▃▄▅▆▇█▁▂▃▄▅▆▇█</td></tr><tr><td>_runtime</td><td>▁▁▂▂▂▂▃▃▃▄▄▄▅▅▅▅▆▆▆▇▇▇███</td></tr><tr><td>_timestamp</td><td>▁▁▂▂▂▂▃▃▃▄▄▄▅▅▅▅▆▆▆▇▇▇███</td></tr><tr><td>_step</td><td>▁▁▂▂▂▂▃▃▃▄▄▄▅▅▅▅▆▆▆▇▇▇▇██</td></tr></table><br/>"
            ],
            "text/plain": [
              "<IPython.core.display.HTML object>"
            ]
          },
          "metadata": {
            "tags": []
          }
        },
        {
          "output_type": "display_data",
          "data": {
            "text/html": [
              "Synced 5 W&B file(s), 0 media file(s), 0 artifact file(s) and 1 other file(s)"
            ],
            "text/plain": [
              "<IPython.core.display.HTML object>"
            ]
          },
          "metadata": {
            "tags": []
          }
        },
        {
          "output_type": "display_data",
          "data": {
            "text/html": [
              "\n",
              "                    <br/>Synced <strong style=\"color:#cdcd00\">summer-firebrand-19</strong>: <a href=\"https://wandb.ai/aleksey/image_captioning/runs/34oyyv78\" target=\"_blank\">https://wandb.ai/aleksey/image_captioning/runs/34oyyv78</a><br/>\n",
              "                "
            ],
            "text/plain": [
              "<IPython.core.display.HTML object>"
            ]
          },
          "metadata": {
            "tags": []
          }
        }
      ]
    },
    {
      "cell_type": "markdown",
      "metadata": {
        "id": "38E8CQssuWP8"
      },
      "source": [
        "## New train, old model"
      ]
    },
    {
      "cell_type": "code",
      "metadata": {
        "id": "bWkKjily5JrP"
      },
      "source": [
        "x =3 "
      ],
      "execution_count": null,
      "outputs": []
    },
    {
      "cell_type": "code",
      "metadata": {
        "colab": {
          "background_save": true,
          "base_uri": "https://localhost:8080/",
          "height": 174,
          "referenced_widgets": [
            "71cc618c8af845e2beebd8cff96b61b2"
          ]
        },
        "id": "c4JbHzXkuWZc",
        "outputId": "6e28b50d-5e31-429b-95ec-0fe90a0d1b0b"
      },
      "source": [
        "# вытащим изменяемые параметры в конфиг\n",
        "config = {\n",
        "    'lr': 0.0001,\n",
        "    'n_ep': 2,\n",
        "    'hidden_size_lstm': 809,\n",
        "    'num_lstm_layers': 1,\n",
        "    'is_old_model': True\n",
        "    # 'teacher_forcing_rate' = 1\n",
        "}\n",
        "loses, val_loses = init_and_train_model(config)"
      ],
      "execution_count": null,
      "outputs": [
        {
          "output_type": "display_data",
          "data": {
            "text/html": [
              "\n",
              "                Tracking run with wandb version 0.10.33<br/>\n",
              "                Syncing run <strong style=\"color:#cdcd00\">serene-cherry-25</strong> to <a href=\"https://wandb.ai\" target=\"_blank\">Weights & Biases</a> <a href=\"https://docs.wandb.com/integrations/jupyter.html\" target=\"_blank\">(Documentation)</a>.<br/>\n",
              "                Project page: <a href=\"https://wandb.ai/aleksey/image_captioning\" target=\"_blank\">https://wandb.ai/aleksey/image_captioning</a><br/>\n",
              "                Run page: <a href=\"https://wandb.ai/aleksey/image_captioning/runs/1ikty7gr\" target=\"_blank\">https://wandb.ai/aleksey/image_captioning/runs/1ikty7gr</a><br/>\n",
              "                Run data is saved locally in <code>/content/wandb/run-20210715_195324-1ikty7gr</code><br/><br/>\n",
              "            "
            ],
            "text/plain": [
              "<IPython.core.display.HTML object>"
            ]
          },
          "metadata": {
            "tags": []
          }
        },
        {
          "output_type": "stream",
          "text": [
            "\u001b[34m\u001b[1mwandb\u001b[0m: \u001b[33mWARNING\u001b[0m Calling run.save without any arguments is deprecated.Changes to attributes are automatically persisted.\n"
          ],
          "name": "stderr"
        },
        {
          "output_type": "stream",
          "text": [
            "Epoch: 1, Train loss: 10.309346199035645, Valid loss: 10.158217873444428\n",
            "Epoch: 1, Train loss: 3.432828155401591, Valid loss: 0.8792911349116145\n",
            "Epoch: 1, Train loss: 0.4811322210608302, Valid loss: 0.26945929432640203\n",
            "Epoch: 1, Train loss: 0.2004876518571699, Valid loss: 0.14889187598349274\n",
            "Epoch: 1, Train loss: 0.121996094749586, Valid loss: 0.10324037412332522\n",
            "Epoch: 1, Train loss: 0.09323593194823007, Valid loss: 0.08263263925972923\n",
            "Epoch: 1, Train loss: 0.07655057203015973, Valid loss: 0.06683139481646248\n",
            "Epoch: 1, Train loss: 0.06112804409632509, Valid loss: 0.05994697315146442\n",
            "Epoch: 2, Train loss: 0.011042790487408638, Valid loss: 0.05057894905173295\n",
            "Epoch: 2, Train loss: 0.03841020335353647, Valid loss: 0.04709053738207896\n",
            "Epoch: 2, Train loss: 0.03389651053441559, Valid loss: 0.045627851411159465\n",
            "Epoch: 2, Train loss: 0.03348379471208318, Valid loss: 0.04184441601241446\n",
            "Epoch: 2, Train loss: 0.031576877612671424, Valid loss: 0.04464256855146379\n",
            "Epoch: 2, Train loss: 0.03133304025142098, Valid loss: 0.04377815596180758\n",
            "Epoch: 2, Train loss: 0.03558280354765294, Valid loss: 0.04327335158291995\n",
            "Epoch: 2, Train loss: 0.02978455041805294, Valid loss: 0.039244596746165546\n"
          ],
          "name": "stdout"
        },
        {
          "output_type": "display_data",
          "data": {
            "text/html": [
              "<br/>Waiting for W&B process to finish, PID 5552<br/>Program ended successfully."
            ],
            "text/plain": [
              "<IPython.core.display.HTML object>"
            ]
          },
          "metadata": {
            "tags": []
          }
        },
        {
          "output_type": "display_data",
          "data": {
            "application/vnd.jupyter.widget-view+json": {
              "model_id": "71cc618c8af845e2beebd8cff96b61b2",
              "version_major": 2,
              "version_minor": 0
            },
            "text/plain": [
              "VBox(children=(Label(value=' 347.12MB of 347.12MB uploaded (0.00MB deduped)\\r'), FloatProgress(value=1.0, max=…"
            ]
          },
          "metadata": {
            "tags": []
          }
        },
        {
          "output_type": "display_data",
          "data": {
            "text/html": [
              "Find user logs for this run at: <code>/content/wandb/run-20210715_195324-1ikty7gr/logs/debug.log</code>"
            ],
            "text/plain": [
              "<IPython.core.display.HTML object>"
            ]
          },
          "metadata": {
            "tags": []
          }
        },
        {
          "output_type": "display_data",
          "data": {
            "text/html": [
              "Find internal logs for this run at: <code>/content/wandb/run-20210715_195324-1ikty7gr/logs/debug-internal.log</code>"
            ],
            "text/plain": [
              "<IPython.core.display.HTML object>"
            ]
          },
          "metadata": {
            "tags": []
          }
        },
        {
          "output_type": "display_data",
          "data": {
            "text/html": [
              "<h3>Run summary:</h3><br/><style>\n",
              "    table.wandb td:nth-child(1) { padding: 0 10px; text-align: right }\n",
              "    </style><table class=\"wandb\">\n",
              "<tr><td>epoch</td><td>2</td></tr><tr><td>train_loss</td><td>0.02978</td></tr><tr><td>valid_loss</td><td>0.03924</td></tr><tr><td>step</td><td>1295</td></tr><tr><td>_runtime</td><td>2660</td></tr><tr><td>_timestamp</td><td>1626381464</td></tr><tr><td>_step</td><td>16</td></tr></table>"
            ],
            "text/plain": [
              "<IPython.core.display.HTML object>"
            ]
          },
          "metadata": {
            "tags": []
          }
        },
        {
          "output_type": "display_data",
          "data": {
            "text/html": [
              "<h3>Run history:</h3><br/><style>\n",
              "    table.wandb td:nth-child(1) { padding: 0 10px; text-align: right }\n",
              "    </style><table class=\"wandb\">\n",
              "<tr><td>epoch</td><td>▁▁▁▁▁▁▁▁████████</td></tr><tr><td>train_loss</td><td>█▃▁▁▁▁▁▁▁▁▁▁▁▁▁▁</td></tr><tr><td>valid_loss</td><td>█▂▁▁▁▁▁▁▁▁▁▁▁▁▁▁</td></tr><tr><td>step</td><td>▁▂▃▄▅▆▇█▁▂▃▄▅▆▇█</td></tr><tr><td>_runtime</td><td>▁▁▂▂▃▃▄▄▅▅▆▆▆▇▇██</td></tr><tr><td>_timestamp</td><td>▁▁▂▂▃▃▄▄▅▅▆▆▆▇▇██</td></tr><tr><td>_step</td><td>▁▁▂▂▃▃▄▄▅▅▅▆▆▇▇██</td></tr></table><br/>"
            ],
            "text/plain": [
              "<IPython.core.display.HTML object>"
            ]
          },
          "metadata": {
            "tags": []
          }
        },
        {
          "output_type": "display_data",
          "data": {
            "text/html": [
              "Synced 5 W&B file(s), 1 media file(s), 0 artifact file(s) and 1 other file(s)"
            ],
            "text/plain": [
              "<IPython.core.display.HTML object>"
            ]
          },
          "metadata": {
            "tags": []
          }
        },
        {
          "output_type": "display_data",
          "data": {
            "text/html": [
              "\n",
              "                    <br/>Synced <strong style=\"color:#cdcd00\">serene-cherry-25</strong>: <a href=\"https://wandb.ai/aleksey/image_captioning/runs/1ikty7gr\" target=\"_blank\">https://wandb.ai/aleksey/image_captioning/runs/1ikty7gr</a><br/>\n",
              "                "
            ],
            "text/plain": [
              "<IPython.core.display.HTML object>"
            ]
          },
          "metadata": {
            "tags": []
          }
        }
      ]
    },
    {
      "cell_type": "markdown",
      "metadata": {
        "id": "c0XyOAIyqNuB"
      },
      "source": [
        "### old runs"
      ]
    },
    {
      "cell_type": "code",
      "metadata": {
        "colab": {
          "base_uri": "https://localhost:8080/",
          "height": 898
        },
        "id": "a7Ik2IEnBedw",
        "outputId": "a5ef5c58-62ef-47d7-fa21-6b188904b069"
      },
      "source": [
        "model = CaptionNet(embed_size=2048, hidden_size=40, vocab_size=len(words_dicts)).to(device)\n",
        "optimizer = optim.Adam(model.parameters())\n",
        "criterion = nn.CrossEntropyLoss(ignore_index = 0) \n",
        "\n",
        "\n",
        "loses, val_losses = train(decoder=model, trainloader=train_loader, validloader=valid_loader, optimizer=optimizer, criterion=criterion, vocab_size=len(words_dicts), n_ep = 2)\n",
        "\n",
        "plt.rcParams[\"figure.figsize\"] = (20,10)\n",
        "plt.plot(loses)\n",
        "plt.plot(val_losses)\n",
        "plt.show()"
      ],
      "execution_count": null,
      "outputs": [
        {
          "output_type": "stream",
          "text": [
            "Epoch: 1, Train loss: 10.29690933227539, Valid loss: 10.135482803550927\n",
            "Epoch: 1, Train loss: 5.9643367844658925, Valid loss: 2.111190234970402\n",
            "Epoch: 1, Train loss: 1.1208894091683466, Valid loss: 0.6578816517784789\n",
            "Epoch: 1, Train loss: 0.545856173940607, Valid loss: 0.4473026122193079\n",
            "Epoch: 1, Train loss: 0.4151550307467177, Valid loss: 0.38547933903094883\n",
            "Epoch: 1, Train loss: 0.3829367496677347, Valid loss: 0.36644955760723835\n",
            "Epoch: 1, Train loss: 0.3496164563539866, Valid loss: 0.3488945045583957\n",
            "Epoch: 1, Train loss: 0.350618272858697, Valid loss: 0.3477245290939872\n",
            "Epoch: 2, Train loss: 0.21110692620277405, Valid loss: 0.35374197782696903\n",
            "Epoch: 2, Train loss: 0.33810654556429065, Valid loss: 0.3602736933005823\n",
            "Epoch: 2, Train loss: 0.34091312007324115, Valid loss: 0.3643189852704873\n",
            "Epoch: 2, Train loss: 0.3524721590248314, Valid loss: 0.3764598330533182\n",
            "Epoch: 2, Train loss: 0.36285775754902816, Valid loss: 0.39074617845786586\n",
            "Epoch: 2, Train loss: 0.3764091362824311, Valid loss: 0.39985480687102753\n",
            "Epoch: 2, Train loss: 0.40878224026512455, Valid loss: 0.4175432325214953\n",
            "Epoch: 2, Train loss: 0.4281891767237638, Valid loss: 0.43679276692706187\n"
          ],
          "name": "stdout"
        },
        {
          "output_type": "execute_result",
          "data": {
            "text/plain": [
              "[<matplotlib.lines.Line2D at 0x7fd2adf58290>]"
            ]
          },
          "metadata": {
            "tags": []
          },
          "execution_count": 35
        },
        {
          "output_type": "execute_result",
          "data": {
            "text/plain": [
              "[<matplotlib.lines.Line2D at 0x7fd4720fb090>]"
            ]
          },
          "metadata": {
            "tags": []
          },
          "execution_count": 35
        },
        {
          "output_type": "display_data",
          "data": {
            "image/png": "[encoded data removed]",
            "text/plain": [
              "<Figure size 1440x720 with 1 Axes>"
            ]
          },
          "metadata": {
            "tags": []
          }
        }
      ]
    },
    {
      "cell_type": "code",
      "metadata": {
        "colab": {
          "base_uri": "https://localhost:8080/",
          "height": 1000
        },
        "id": "9eyx4RiWvhgb",
        "outputId": "ac422a62-c56e-47f3-b8fa-17c31aed091d"
      },
      "source": [
        "model2 = CaptionNet(embed_size=2048, hidden_size=4000, vocab_size=len(words_dicts)).to(device)\n",
        "optimizer2 = optim.Adam(model2.parameters(), lr=0.0001)\n",
        "criterion = nn.CrossEntropyLoss(ignore_index = 0) \n",
        "\n",
        "\n",
        "loses2, val_losses2 = train(decoder=model2, trainloader=train_loader, validloader=valid_loader, optimizer=optimizer2, criterion=criterion, vocab_size=len(words_dicts), n_ep = 5)\n",
        "\n",
        "plt.rcParams[\"figure.figsize\"] = (20,10)\n",
        "plt.plot(loses2)\n",
        "plt.plot(val_losses2)\n",
        "plt.show()"
      ],
      "execution_count": null,
      "outputs": [
        {
          "output_type": "stream",
          "text": [
            "Epoch: 1, Train loss: 10.246899604797363, Valid loss: 9.882507857760867\n",
            "Epoch: 1, Train loss: 2.6325564378016706, Valid loss: 1.203509230549271\n",
            "Epoch: 1, Train loss: 0.8996900687346587, Valid loss: 0.6838206086609815\n",
            "Epoch: 1, Train loss: 0.585064223005965, Valid loss: 0.5011112727828928\n",
            "Epoch: 1, Train loss: 0.47237239109503254, Valid loss: 0.4175506074283574\n",
            "Epoch: 1, Train loss: 0.3887059163402867, Valid loss: 0.3859057591573612\n",
            "Epoch: 1, Train loss: 0.36037714827705075, Valid loss: 0.345549196246508\n",
            "Epoch: 1, Train loss: 0.33818495172906565, Valid loss: 0.32188446715071395\n",
            "Epoch: 2, Train loss: 0.4895024299621582, Valid loss: 0.30613802629145415\n",
            "Epoch: 2, Train loss: 0.27827648230501123, Valid loss: 0.2786651098446266\n",
            "Epoch: 2, Train loss: 0.2690559075088114, Valid loss: 0.2608201870644415\n",
            "Epoch: 2, Train loss: 0.23548457904441936, Valid loss: 0.24406879663064673\n",
            "Epoch: 2, Train loss: 0.22685327747383632, Valid loss: 0.22787675190012197\n",
            "Epoch: 2, Train loss: 0.22505617671318956, Valid loss: 0.21810439078867233\n",
            "Epoch: 2, Train loss: 0.20813896965134787, Valid loss: 0.20839247767486282\n",
            "Epoch: 2, Train loss: 0.20050836551833798, Valid loss: 0.1957858424866572\n",
            "Epoch: 3, Train loss: 0.30513235926628113, Valid loss: 0.19272313080728054\n",
            "Epoch: 3, Train loss: 0.16211008540908428, Valid loss: 0.17374395516471358\n",
            "Epoch: 3, Train loss: 0.14143019147041078, Valid loss: 0.17193072387237554\n",
            "Epoch: 3, Train loss: 0.1445845939009765, Valid loss: 0.1629006595928159\n",
            "Epoch: 3, Train loss: 0.14201993810042826, Valid loss: 0.14721510736023963\n",
            "Epoch: 3, Train loss: 0.13002865943881506, Valid loss: 0.1569068429878334\n",
            "Epoch: 3, Train loss: 0.13519590641719972, Valid loss: 0.14145646136760637\n",
            "Epoch: 3, Train loss: 0.11038673462950298, Valid loss: 0.13995815834938627\n",
            "Epoch: 4, Train loss: 0.13915225863456726, Valid loss: 0.13586197541635678\n",
            "Epoch: 4, Train loss: 0.10016296145591155, Valid loss: 0.12814534987115325\n",
            "Epoch: 4, Train loss: 0.10725214352447389, Valid loss: 0.1265612699222795\n",
            "Epoch: 4, Train loss: 0.09797025444638928, Valid loss: 0.12510663034475303\n",
            "Epoch: 4, Train loss: 0.10215003558759407, Valid loss: 0.12757137671814897\n",
            "Epoch: 4, Train loss: 0.09852938401849856, Valid loss: 0.13535866722931797\n",
            "Epoch: 4, Train loss: 0.0897908757311745, Valid loss: 0.13362598573762502\n",
            "Epoch: 4, Train loss: 0.0988837258160156, Valid loss: 0.12580355215257047\n",
            "Epoch: 5, Train loss: 0.05321529135107994, Valid loss: 0.12494302360864822\n",
            "Epoch: 5, Train loss: 0.08797922407074284, Valid loss: 0.12163097304457207\n",
            "Epoch: 5, Train loss: 0.09550447944708827, Valid loss: 0.12415119535477319\n",
            "Epoch: 5, Train loss: 0.08224264064043578, Valid loss: 0.11874698329791598\n",
            "Epoch: 5, Train loss: 0.09551402691667062, Valid loss: 0.1292729321748305\n",
            "Epoch: 5, Train loss: 0.0979751657734301, Valid loss: 0.12558190585947848\n",
            "Epoch: 5, Train loss: 0.09233506010174539, Valid loss: 0.11876819252939468\n",
            "Epoch: 5, Train loss: 0.10801455309101092, Valid loss: 0.12315515829417858\n"
          ],
          "name": "stdout"
        },
        {
          "output_type": "execute_result",
          "data": {
            "text/plain": [
              "[<matplotlib.lines.Line2D at 0x7f1ff4ce5d90>]"
            ]
          },
          "metadata": {
            "tags": []
          },
          "execution_count": 17
        },
        {
          "output_type": "execute_result",
          "data": {
            "text/plain": [
              "[<matplotlib.lines.Line2D at 0x7f1ff4cee3d0>]"
            ]
          },
          "metadata": {
            "tags": []
          },
          "execution_count": 17
        },
        {
          "output_type": "display_data",
          "data": {
            "image/png": "[encoded data removed]",
            "text/plain": [
              "<Figure size 1440x720 with 1 Axes>"
            ]
          },
          "metadata": {
            "tags": []
          }
        }
      ]
    },
    {
      "cell_type": "code",
      "metadata": {
        "colab": {
          "base_uri": "https://localhost:8080/"
        },
        "id": "NquHoZrgoWwo",
        "outputId": "6b495057-a5be-497f-af2c-7872e16b299f"
      },
      "source": [
        "caption_from_vec(torch.tensor(img_codes[0]).unsqueeze(0),model2)"
      ],
      "execution_count": null,
      "outputs": [
        {
          "output_type": "stream",
          "text": [
            "torch.Size([1, 14]) tensor([[   1, 4545, 4545, 4545, 4545, 4545, 4545, 4545, 4545, 4545, 4545, 4545,\n",
            "         4545, 4545]], device='cuda:0')\n"
          ],
          "name": "stdout"
        },
        {
          "output_type": "execute_result",
          "data": {
            "text/plain": [
              "['sos',\n",
              " 'dried',\n",
              " 'dried',\n",
              " 'dried',\n",
              " 'dried',\n",
              " 'dried',\n",
              " 'dried',\n",
              " 'dried',\n",
              " 'dried',\n",
              " 'dried',\n",
              " 'dried',\n",
              " 'dried',\n",
              " 'dried',\n",
              " 'dried']"
            ]
          },
          "metadata": {
            "tags": []
          },
          "execution_count": 44
        }
      ]
    },
    {
      "cell_type": "markdown",
      "metadata": {
        "id": "pqdJ2Lgprj1P"
      },
      "source": [
        ""
      ]
    },
    {
      "cell_type": "code",
      "metadata": {
        "colab": {
          "base_uri": "https://localhost:8080/"
        },
        "id": "ChTu7CoVrjZ5",
        "outputId": "47d3789d-342d-4175-b879-028144c11ee6"
      },
      "source": [
        "model_D = DecoderRNN(embed_size=2048, hidden_size=4096, vocab_size=len(words_dicts), num_layers=1).to(device)\n",
        "optimizer_D = optim.Adam(model_D.parameters(), lr=0.0001)\n",
        "criterion = nn.CrossEntropyLoss(ignore_index = 0) \n",
        "\n",
        "loses_D, val_losses_D = train(decoder=model_D, trainloader=train_loader, validloader=valid_loader, optimizer=optimizer_D, criterion=criterion, \n",
        "                                  vocab_size=len(words_dicts), n_ep = 3)\n",
        "\n",
        "plt.rcParams[\"figure.figsize\"] = (20,10)\n",
        "plt.plot(loses_D)\n",
        "plt.plot(val_losses_D)\n",
        "plt.show()"
      ],
      "execution_count": null,
      "outputs": [
        {
          "output_type": "stream",
          "text": [
            "Epoch: 1, Train loss: 10.250614166259766, Valid loss: 9.865825318001413\n",
            "Epoch: 1, Train loss: 6.165396035684122, Valid loss: 4.639187092394442\n",
            "Epoch: 1, Train loss: 4.276253093255533, Valid loss: 4.000839208267831\n",
            "Epoch: 1, Train loss: 3.8829737585944097, Valid loss: 3.818400950045199\n",
            "Epoch: 1, Train loss: 3.7301498993023023, Valid loss: 3.683944249153137\n",
            "Epoch: 1, Train loss: 3.6588410609477275, Valid loss: 3.663934404141194\n",
            "Epoch: 1, Train loss: 3.6175326463338493, Valid loss: 3.581751630757306\n",
            "Epoch: 1, Train loss: 3.591577536350972, Valid loss: 3.587161660194397\n",
            "Epoch: 2, Train loss: 3.5680224895477295, Valid loss: 3.575258539174054\n",
            "Epoch: 2, Train loss: 3.512202141736005, Valid loss: 3.4924398628441065\n",
            "Epoch: 2, Train loss: 3.4429271543348157, Valid loss: 3.5076038186614578\n",
            "Epoch: 2, Train loss: 3.4569929638424437, Valid loss: 3.489678011713801\n",
            "Epoch: 2, Train loss: 3.4506877074370514, Valid loss: 3.4477456866083918\n",
            "Epoch: 2, Train loss: 3.4091746510686103, Valid loss: 3.4182177685402535\n",
            "Epoch: 2, Train loss: 3.417659447644208, Valid loss: 3.42762763693526\n",
            "Epoch: 2, Train loss: 3.3717105646391174, Valid loss: 3.4058792442888826\n",
            "Epoch: 3, Train loss: 3.3843982219696045, Valid loss: 3.3938005054319227\n",
            "Epoch: 3, Train loss: 3.2880590993004875, Valid loss: 3.386767857139175\n",
            "Epoch: 3, Train loss: 3.3050671152166418, Valid loss: 3.3512975583205353\n",
            "Epoch: 3, Train loss: 3.320012785937335, Valid loss: 3.357902100923899\n",
            "Epoch: 3, Train loss: 3.279203886599154, Valid loss: 3.35179068075644\n",
            "Epoch: 3, Train loss: 3.2809487213959567, Valid loss: 3.3268917302827576\n",
            "Epoch: 3, Train loss: 3.286932322785661, Valid loss: 3.316852656570641\n",
            "Epoch: 3, Train loss: 3.2359326581697205, Valid loss: 3.3198899449528874\n"
          ],
          "name": "stdout"
        }
      ]
    },
    {
      "cell_type": "markdown",
      "metadata": {
        "id": "9GKsguRlT5Gh"
      },
      "source": [
        "#### 50% Teacher forcing"
      ]
    },
    {
      "cell_type": "code",
      "metadata": {
        "id": "z4b9WbkcT9_s"
      },
      "source": [
        "# натреним модель без тичер форсинга и глянем результаты\n",
        "model_50tf = CaptionNet(embed_size=2048, hidden_size=4096, vocab_size=len(words_dicts)).to(device)\n",
        "optimizer_50tf = optim.Adam(model_50tf.parameters(), lr=0.0001)\n",
        "criterion = nn.CrossEntropyLoss(ignore_index = 0) \n",
        "\n",
        "\n",
        "loses_50tf, val_losses_50tf = train(decoder=model_50tf, trainloader=train_loader, validloader=valid_loader, optimizer=optimizer_50tf, criterion=criterion, \n",
        "                                  vocab_size=len(words_dicts), n_ep = 3, teacher_forcing=0.5)\n",
        "\n",
        "plt.rcParams[\"figure.figsize\"] = (20,10)\n",
        "plt.plot(loses_50tf)\n",
        "plt.plot(val_losses_50tf)\n",
        "plt.show()"
      ],
      "execution_count": null,
      "outputs": []
    },
    {
      "cell_type": "code",
      "metadata": {
        "id": "_DddctOBDVYp"
      },
      "source": [
        "# натреним модель без тичер форсинга и глянем результаты\n",
        "model_ntf = CaptionNet(embed_size=2048, hidden_size=4096, vocab_size=len(words_dicts)).to(device)\n",
        "optimizer_ntf = optim.Adam(model_ntf.parameters(), lr=0.0001)\n",
        "criterion = nn.CrossEntropyLoss(ignore_index = 0) \n",
        "\n",
        "\n",
        "loses_ntf, val_losses_ntf = train(decoder=model_ntf, trainloader=train_loader, validloader=valid_loader, optimizer=optimizer_ntf, criterion=criterion, \n",
        "                                  vocab_size=len(words_dicts), n_ep = 3, teacher_forcing=0)\n",
        "\n",
        "plt.rcParams[\"figure.figsize\"] = (20,10)\n",
        "plt.plot(loses_ntf)\n",
        "plt.plot(val_losses_ntf)\n",
        "plt.show()"
      ],
      "execution_count": null,
      "outputs": []
    },
    {
      "cell_type": "markdown",
      "metadata": {
        "id": "PFS9lSYntmPA"
      },
      "source": [
        "## Inseption и получение результатов\n"
      ]
    },
    {
      "cell_type": "code",
      "metadata": {
        "colab": {
          "base_uri": "https://localhost:8080/",
          "height": 141,
          "referenced_widgets": [
            "b0b807a5a14b490b83774b16f0420be5",
            "7feb9a5047b74b4593d02950f6d412b8",
            "03c67bf0353a4312aff470ca466b62f3",
            "fee0bdc643c24096a53d97fe803a7867",
            "4c0f1af422c94ad3a2bb7980c648cad8",
            "8c19df3dc4164c1f892c54a3269f9107",
            "2d1b49fc33fd4df0a7af41f1a09113ca",
            "92afe19e40fc418db07cac4bbd1e5925"
          ]
        },
        "id": "T3BZ7nEstmPB",
        "outputId": "3c123a6d-0173-48c3-e5f7-537e0684e27a"
      },
      "source": [
        "# загружаем inseption, чтобы можно было прогонять через него новые картинки, \n",
        "# получать их эмбеддинги и генерировать описания с помощью нашей сети\n",
        "iception_path = 'gdrive/MyDrive/Colab_Notebooks/dls_2/21_DIPLOM_Image_captioning/beheaded_inception3.py'\n",
        "!cp $iception_path beheaded_inception3.py\n",
        "\n",
        "from beheaded_inception3 import beheaded_inception_v3\n",
        "inception = beheaded_inception_v3().train(False)"
      ],
      "execution_count": 27,
      "outputs": [
        {
          "output_type": "stream",
          "text": [
            "/usr/local/lib/python3.7/dist-packages/torchvision/models/inception.py:82: FutureWarning: The default weight initialization of inception_v3 will be changed in future releases of torchvision. If you wish to keep the old behavior (which leads to long initialization times due to scipy/scipy#11299), please set init_weights=True.\n",
            "  ' due to scipy/scipy#11299), please set init_weights=True.', FutureWarning)\n",
            "Downloading: \"https://download.pytorch.org/models/inception_v3_google-1a9a5a14.pth\" to /root/.cache/torch/hub/checkpoints/inception_v3_google-1a9a5a14.pth\n"
          ],
          "name": "stderr"
        },
        {
          "output_type": "display_data",
          "data": {
            "application/vnd.jupyter.widget-view+json": {
              "model_id": "b0b807a5a14b490b83774b16f0420be5",
              "version_minor": 0,
              "version_major": 2
            },
            "text/plain": [
              "HBox(children=(FloatProgress(value=0.0, max=108857766.0), HTML(value='')))"
            ]
          },
          "metadata": {
            "tags": []
          }
        },
        {
          "output_type": "stream",
          "text": [
            "\n"
          ],
          "name": "stdout"
        }
      ]
    },
    {
      "cell_type": "code",
      "metadata": {
        "colab": {
          "base_uri": "https://localhost:8080/",
          "height": 685
        },
        "id": "UHF3uRtotmPD",
        "outputId": "0550bb15-57ad-41da-df46-dabcb167debd"
      },
      "source": [
        "from PIL import Image\n",
        "# from scipy.misc.pilutil import imresize\n",
        "%matplotlib inline\n",
        "\n",
        "#sample image\n",
        "!wget https://pixel.nymag.com/imgs/daily/selectall/2018/02/12/12-tony-hawk.w710.h473.jpg -O img.jpg\n",
        "img = Image.open('img.jpg')\n",
        "img = img.resize((299, 299))\n",
        "plt.imshow(img)\n",
        "\n",
        "print(generate_caption(img, model_test2, model_type='1'))"
      ],
      "execution_count": 28,
      "outputs": [
        {
          "output_type": "stream",
          "text": [
            "--2021-07-16 08:49:38--  https://pixel.nymag.com/imgs/daily/selectall/2018/02/12/12-tony-hawk.w710.h473.jpg\n",
            "Resolving pixel.nymag.com (pixel.nymag.com)... 199.232.192.70, 199.232.196.70\n",
            "Connecting to pixel.nymag.com (pixel.nymag.com)|199.232.192.70|:443... connected.\n",
            "HTTP request sent, awaiting response... 301 Moved Permanently\n",
            "Location: https://pyxis.nymag.com/v1/imgs/6ac/2a6/b48d3a180f333298f5bee60ff80f4ba886-12-tony-hawk.h473.w710.jpg [following]\n",
            "--2021-07-16 08:49:38--  https://pyxis.nymag.com/v1/imgs/6ac/2a6/b48d3a180f333298f5bee60ff80f4ba886-12-tony-hawk.h473.w710.jpg\n",
            "Resolving pyxis.nymag.com (pyxis.nymag.com)... 151.101.2.217, 151.101.66.217, 151.101.130.217, ...\n",
            "Connecting to pyxis.nymag.com (pyxis.nymag.com)|151.101.2.217|:443... connected.\n",
            "HTTP request sent, awaiting response... 200 OK\n",
            "Length: 54731 (53K) [image/jpeg]\n",
            "Saving to: ‘img.jpg’\n",
            "\n",
            "\rimg.jpg               0%[                    ]       0  --.-KB/s               \rimg.jpg             100%[===================>]  53.45K  --.-KB/s    in 0.004s  \n",
            "\n",
            "2021-07-16 08:49:38 (14.4 MB/s) - ‘img.jpg’ saved [54731/54731]\n",
            "\n"
          ],
          "name": "stdout"
        },
        {
          "output_type": "execute_result",
          "data": {
            "text/plain": [
              "<matplotlib.image.AxesImage at 0x7f2f4ab16090>"
            ]
          },
          "metadata": {
            "tags": []
          },
          "execution_count": 28
        },
        {
          "output_type": "stream",
          "text": [
            "/usr/local/lib/python3.7/dist-packages/torch/nn/functional.py:718: UserWarning: Named tensors and all their associated APIs are an experimental feature and subject to change. Please do not use them for anything important until they are released as stable. (Triggered internally at  /pytorch/c10/core/TensorImpl.h:1156.)\n",
            "  return torch.max_pool2d(input, kernel_size, stride, padding, dilation, ceil_mode)\n"
          ],
          "name": "stderr"
        },
        {
          "output_type": "stream",
          "text": [
            "torch.Size([1, 2048])\n",
            "vectors_neck.shape: torch.Size([1, 2048])\n",
            "features.shape: torch.Size([1, 1, 2048])\n",
            "['sos', 'a', 'man', 'is', 'sitting', 'on', 'a', 'table', '', 'eos']\n"
          ],
          "name": "stdout"
        },
        {
          "output_type": "display_data",
          "data": {
            "image/png": "[encoded data removed]",
            "text/plain": [
              "<Figure size 432x288 with 1 Axes>"
            ]
          },
          "metadata": {
            "tags": [],
            "needs_background": "light"
          }
        }
      ]
    },
    {
      "cell_type": "markdown",
      "metadata": {
        "id": "knCv0zLctmPC"
      },
      "source": [
        "### Сгенерируем описание"
      ]
    },
    {
      "cell_type": "markdown",
      "metadata": {
        "id": "U09ROGRbtmPD"
      },
      "source": [
        "Скачаем пару картинок, чтобы проверить качество:"
      ]
    },
    {
      "cell_type": "code",
      "metadata": {
        "colab": {
          "base_uri": "https://localhost:8080/"
        },
        "id": "I6Rwqg4dE1Fs",
        "outputId": "d0217a17-0562-4096-a191-a5427bcd9c39"
      },
      "source": [
        "def generate_caption(image, model, model_type = '1'):\n",
        "    # приведение типов и нормализация\n",
        "    image = np.array(image)/255\n",
        "\n",
        "    assert isinstance(image, np.ndarray) and np.max(image) <= 1\\\n",
        "           and np.min(image) >=0 and image.shape[-1] == 3\n",
        "    \n",
        "    sfm = nn.Softmax(dim=1)\n",
        "    image = torch.tensor(image.transpose([2, 0, 1]), dtype=torch.float32)\n",
        "    vectors_8x8, vectors_neck, logits = inception(image[None])\n",
        "    print(vectors_neck.shape)\n",
        "    if model_type !=  '1':\n",
        "      vectors_neck = vectors_neck.squeeze()\n",
        "    print(f'vectors_neck.shape: {vectors_neck.shape}')\n",
        "    words = caption_from_vec_2(vectors_neck, model)\n",
        "    return words\n",
        "\n",
        "# print(generate_caption(img, model))\n",
        "# print(generate_caption(img, model_ntf))\n",
        "# print(generate_caption(img, model_50tf))\n",
        "print(generate_caption(img, model_test2, model_type='1'))\n"
      ],
      "execution_count": 29,
      "outputs": [
        {
          "output_type": "stream",
          "text": [
            "torch.Size([1, 2048])\n",
            "vectors_neck.shape: torch.Size([1, 2048])\n",
            "features.shape: torch.Size([1, 1, 2048])\n",
            "['sos', 'a', 'man', 'is', 'sitting', 'on', 'a', 'table', '', 'eos']\n"
          ],
          "name": "stdout"
        }
      ]
    },
    {
      "cell_type": "code",
      "metadata": {
        "id": "RcRi53wRKHDq"
      },
      "source": [
        "from PIL import Image\n",
        "# from scipy.misc.pilutil import imresize\n",
        "%matplotlib inline\n",
        "\n",
        "#sample image\n",
        "!wget https://pixel.nymag.com/imgs/daily/selectall/2018/02/12/12-tony-hawk.w710.h473.jpg -O img.jpg\n",
        "img = Image.open('img.jpg')\n",
        "img = img.resize((299, 299))\n",
        "plt.imshow(img)"
      ],
      "execution_count": null,
      "outputs": []
    },
    {
      "cell_type": "code",
      "metadata": {
        "id": "Hu3SPI60tmPM",
        "colab": {
          "base_uri": "https://localhost:8080/",
          "height": 629
        },
        "outputId": "d9aeb302-f68e-4ee0-9d1a-ec9bc99f5819"
      },
      "source": [
        "!wget http://ccanimalclinic.com/wp-content/uploads/2017/07/Cat-and-dog-1.jpg -O img.jpg\n",
        "img = Image.open('img.jpg')\n",
        "img = img.resize((299, 299))\n",
        "\n",
        "plt.imshow(img)\n",
        "plt.show()\n",
        "\n",
        "print(generate_caption(img, model_test2, model_type='1'))\n",
        "\n",
        "# for i in range(10):\n",
        "#     print(' '.join(generate_caption(img, t=5.)[1:-1]))"
      ],
      "execution_count": 30,
      "outputs": [
        {
          "output_type": "stream",
          "text": [
            "--2021-07-16 08:50:40--  http://ccanimalclinic.com/wp-content/uploads/2017/07/Cat-and-dog-1.jpg\n",
            "Resolving ccanimalclinic.com (ccanimalclinic.com)... 104.239.249.248\n",
            "Connecting to ccanimalclinic.com (ccanimalclinic.com)|104.239.249.248|:80... connected.\n",
            "HTTP request sent, awaiting response... 301 Moved Permanently\n",
            "Location: https://ccanimalclinic.com/wp-content/uploads/2017/07/Cat-and-dog-1.jpg [following]\n",
            "--2021-07-16 08:50:40--  https://ccanimalclinic.com/wp-content/uploads/2017/07/Cat-and-dog-1.jpg\n",
            "Connecting to ccanimalclinic.com (ccanimalclinic.com)|104.239.249.248|:443... connected.\n",
            "HTTP request sent, awaiting response... 200 OK\n",
            "Length: 106870 (104K) [image/jpeg]\n",
            "Saving to: ‘img.jpg’\n",
            "\n",
            "img.jpg             100%[===================>] 104.37K   410KB/s    in 0.3s    \n",
            "\n",
            "2021-07-16 08:50:40 (410 KB/s) - ‘img.jpg’ saved [106870/106870]\n",
            "\n"
          ],
          "name": "stdout"
        },
        {
          "output_type": "execute_result",
          "data": {
            "text/plain": [
              "<matplotlib.image.AxesImage at 0x7f2f4844c510>"
            ]
          },
          "metadata": {
            "tags": []
          },
          "execution_count": 30
        },
        {
          "output_type": "display_data",
          "data": {
            "image/png": "[encoded data removed]",
            "text/plain": [
              "<Figure size 432x288 with 1 Axes>"
            ]
          },
          "metadata": {
            "tags": [],
            "needs_background": "light"
          }
        },
        {
          "output_type": "stream",
          "text": [
            "torch.Size([1, 2048])\n",
            "vectors_neck.shape: torch.Size([1, 2048])\n",
            "features.shape: torch.Size([1, 1, 2048])\n",
            "['sos', 'a', 'man', 'is', 'sitting', 'on', 'a', 'table', '', 'eos']\n"
          ],
          "name": "stdout"
        }
      ]
    },
    {
      "cell_type": "code",
      "metadata": {
        "colab": {
          "base_uri": "https://localhost:8080/"
        },
        "id": "qe3vski5KpDF",
        "outputId": "c7b84b79-dbde-4f28-de4c-b8e8449f7278"
      },
      "source": [
        "print(generate_caption(img, model_test, model_type='2'))"
      ],
      "execution_count": 31,
      "outputs": [
        {
          "output_type": "stream",
          "text": [
            "torch.Size([1, 2048])\n",
            "vectors_neck.shape: torch.Size([2048])\n",
            "features.shape: torch.Size([1, 2048])\n",
            "['sos', 'eventually', 'eventually', 'have', 'have', 'have', 'have', 'have', 'have', 'have', 'have', 'have', 'have', 'have', 'have', 'have', 'have', 'have', 'have', 'have', 'have', 'have', 'have', 'have', 'have', 'have', 'have', 'have', 'have', 'have', 'have', 'have']\n"
          ],
          "name": "stdout"
        }
      ]
    },
    {
      "cell_type": "markdown",
      "metadata": {
        "id": "YboPVL7jtmPN"
      },
      "source": [
        "# Demo\n",
        "\n",
        "ВОТ ЩАС БУИТ СМИШНО\n",
        "\n",
        "Теперь ищите свои картинки, применяйте к ним сетку, смотрите че получится, реализовывайте вариативную часть =)"
      ]
    },
    {
      "cell_type": "code",
      "metadata": {
        "id": "Q7xK72Y0tmPO"
      },
      "source": [
        "# apply your network on images you've found\n",
        "#\n",
        "#"
      ],
      "execution_count": null,
      "outputs": []
    },
    {
      "cell_type": "markdown",
      "metadata": {
        "id": "xBzfq5GnjOCG"
      },
      "source": [
        "## Бонус: Achtung"
      ]
    },
    {
      "cell_type": "markdown",
      "metadata": {
        "id": "n0MwQJowjUu-"
      },
      "source": [
        "В качестве бонусного задания предлагается реализовать механизм attention в rnn-сети, которую мы писали в базовой части."
      ]
    },
    {
      "cell_type": "code",
      "metadata": {
        "id": "S9ztssXwja2d"
      },
      "source": [
        ""
      ],
      "execution_count": null,
      "outputs": []
    },
    {
      "cell_type": "markdown",
      "metadata": {
        "id": "rLmhDRjXqnJq"
      },
      "source": [
        "# Выводы\n",
        "\n",
        "- Был взят проект по Image Captioning\n",
        "- Была обучена LSTM ка, способная по вектору изображение воспроизвести прикладыывающийся к картинке текст\n",
        "- График лоса показывает, что архитектура и всякиие предобработки были построены верно\n",
        "- Вся основная часть, в т.ч. написанные с 0 манипуляции с данными, обернутые в датасет и даталоадер, работают ок, сеточка тоже сходится, надеюсь работа выполнена удовлетворительно\n",
        "- К сожалению дедлайн совпал с попной болью на работе и не удалось привести проект в вид, который хотелось\n",
        "- После отчаянных попыток завести инференс была написана, from scratch, новая моделька, с немного изменнненым lstm, и лишенная убого зависания на инференсе.. но на текущий момент я не могу ее обучить до ок качества :)\n",
        "- Чтобы проводить дофига эксперимемнтов, был прикручен wandb, методы используемые до его тоже оставлены, чтобы на будущее у меня была тетрадка с примером, как его прикрутить в уже существующий проект с немалым кол-вом кода)\n",
        "- Райт нау я запущу эксперименты со 2й моделькой и другими параметрами, параллельно в копии этой тетрадки попробую подебажить первую модель (на это уже убита, наверное, человеконеделя чистого времени) и/или написать гибрид\n",
        "- Завтра оберну оптимальную, на тот момент (вполне вероятна, что она будет ужасна, лол) модельку в ТГ бота и выложу. Это будет не тот бот, которого мы хотели, но вероятно то, которого заслуживаем))\n",
        "\n",
        "- Вообще, я взял этот проект с прикольной идеей генерить упоротые подписи, т.е. как в старых переводах русских фильмов и просто мемные фразы, типо \"Мальчик катается на велосипеде\" -> \"Маленький злодей спер велик и делает ноги\". Ну т.е. понятно, что есть и менее упоротые применения для таких сеток) Но сетка, описывающая фотки как истиный мемолог мне кажется это тот ЭйАй, который мы заслужили)\n",
        "- И я реализую эту идею в виде бота ТГ. Какие то разработки под него уже написаны, mvp будет тут к выходным. Надеюсь, получу за него > 0 баллов (хотя и признаю, что любой код, выложенный после дедлайна оценивается на усмотрение учителя :)"
      ]
    }
  ]
}